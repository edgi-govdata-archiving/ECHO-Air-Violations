{
 "cells": [
  {
   "cell_type": "markdown",
   "metadata": {},
   "source": [
    "Note:  This notebook has widgets to select the state, congressional district and facility.  Those currently work only when the cells are run one at a time sequentially, not all at once."
   ]
  },
  {
   "cell_type": "markdown",
   "metadata": {},
   "source": [
    "## Clean Air Act Formal Enforcements by Congressional District\n",
    "\n",
    "This notebook examines ECHO data using CASE_FACILITIES, CASE_ENFORCEMENTS and ECHO_EXPORTER.\n",
    "The fields in the CASE_FACILITIES table are:\n",
    "<ol>\n",
    "    <li>REGISTRY_ID, </li>\n",
    "    <li>CASE_NUMBER. </li>\n",
    "</ol>\n",
    "The fields in the CASE_ENFORCEMENTS table are:\n",
    "<ol>\n",
    "    <li>CASE_NUMBER, </li>\n",
    "    <li>FISCAL_YEAR, </li>\n",
    "    <li>CASE_STATUS_DATE, </li>\n",
    "    <li>HQ_DIVISION. </li>\n",
    "</ol>\n",
    "The CASE_NUMBER field links these tables.\n",
    "\n",
    "The REGISTRY_ID identifier is linked to the ECHO_EXPORTER table's field of the same name.\n",
    "\n",
    "The HQ_DIVISION of interest for this notebook is 'CAA'.\n",
    "    \n",
    "A state and congressional district must be chosen using the dropdown\n",
    "widgets that are provided."
   ]
  },
  {
   "cell_type": "code",
   "execution_count": 1,
   "metadata": {},
   "outputs": [],
   "source": [
    "# Import libraries\n",
    "import urllib.parse\n",
    "import pandas as pd\n",
    "import numpy as np\n",
    "import matplotlib.pyplot as plt\n",
    "%matplotlib inline\n",
    "import folium\n",
    "\n",
    "from ipywidgets import interact, interactive, fixed, interact_manual\n",
    "import ipywidgets as widgets\n",
    "from IPython.display import display\n"
   ]
  },
  {
   "cell_type": "markdown",
   "metadata": {},
   "source": [
    "Run this next cell, select a state, and then run the following cell."
   ]
  },
  {
   "cell_type": "code",
   "execution_count": 2,
   "metadata": {},
   "outputs": [
    {
     "data": {
      "application/vnd.jupyter.widget-view+json": {
       "model_id": "f1a993fcee26468ebc800585dea8392f",
       "version_major": 2,
       "version_minor": 0
      },
      "text/plain": [
       "Dropdown(description='State:', index=32, options=('AL', 'AK', 'AZ', 'AR', 'CA', 'CO', 'CT', 'DC', 'DE', 'FL', …"
      ]
     },
     "metadata": {},
     "output_type": "display_data"
    }
   ],
   "source": [
    "states = [\"AL\", \"AK\", \"AZ\", \"AR\", \"CA\", \"CO\", \"CT\", \"DC\", \"DE\", \"FL\", \"GA\", \n",
    "          \"HI\", \"ID\", \"IL\", \"IN\", \"IA\", \"KS\", \"KY\", \"LA\", \"ME\", \"MD\", \n",
    "          \"MA\", \"MI\", \"MN\", \"MS\", \"MO\", \"MT\", \"NE\", \"NV\", \"NH\", \"NJ\", \n",
    "          \"NM\", \"NY\", \"NC\", \"ND\", \"OH\", \"OK\", \"OR\", \"PA\", \"RI\", \"SC\", \n",
    "          \"SD\", \"TN\", \"TX\", \"UT\", \"VT\", \"VA\", \"WA\", \"WV\", \"WI\", \"WY\"]\n",
    "dropdown_state=widgets.Dropdown(\n",
    "    options=states,\n",
    "    value='NY',\n",
    "    description='State:',\n",
    "    disabled=False,\n",
    ")\n",
    "output_state = widgets.Output()\n",
    "my_state = \"\"\n",
    "\n",
    "def dropdown_state_eventhandler( change ):\n",
    "    output_state.clear_output()\n",
    "    value = change.new\n",
    "    with output_state:\n",
    "        display( change.new )\n",
    "            \n",
    "dropdown_state.observe( dropdown_state_eventhandler, names='value')\n",
    "display( dropdown_state )"
   ]
  },
  {
   "cell_type": "code",
   "execution_count": 3,
   "metadata": {},
   "outputs": [
    {
     "name": "stdout",
     "output_type": "stream",
     "text": [
      "select REGISTRY_ID, FAC_NAME, FAC_STATE, FAC_LAT, FAC_LONG, FAC_DERIVED_CD113  from ECHO_EXPORTER where AIR_FLAG = 'Y' and FAC_STATE = 'NY'\n",
      "http://apps.tlt.stonybrook.edu/echoepa/?query=select%20REGISTRY_ID%2C%20FAC_NAME%2C%20FAC_STATE%2C%20FAC_LAT%2C%20FAC_LONG%2C%20FAC_DERIVED_CD113%20%20from%20ECHO_EXPORTER%20where%20AIR_FLAG%20%3D%20%27Y%27%20and%20FAC_STATE%20%3D%20%27NY%27\n"
     ]
    }
   ],
   "source": [
    "my_state = dropdown_state.value\n",
    "\n",
    "sql = \"select REGISTRY_ID, FAC_NAME, FAC_STATE, FAC_LAT, FAC_LONG, FAC_DERIVED_CD113 \" + \\\n",
    "    \" from ECHO_EXPORTER where AIR_FLAG = 'Y' and FAC_STATE = '\" + my_state + \"'\"\n",
    "url='http://apps.tlt.stonybrook.edu/echoepa/?query='\n",
    "data_location=url+urllib.parse.quote(sql)\n",
    "print(sql)\n",
    "print(data_location)\n"
   ]
  },
  {
   "cell_type": "code",
   "execution_count": 4,
   "metadata": {
    "scrolled": false
   },
   "outputs": [],
   "source": [
    "\n",
    "echo_data = pd.read_csv(data_location,encoding='iso-8859-1',header = 0)\n",
    "echo_data.set_index( \"REGISTRY_ID\", inplace=True)\n",
    "\n",
    "# local_data_location = \"../../ICIS_Air_Violation/ECHO_EXPORTER-Air.csv\"\n",
    "# echo_data = pd.read_csv(local_data_location,encoding='iso-8859-1',header = 0)\n"
   ]
  },
  {
   "cell_type": "markdown",
   "metadata": {},
   "source": [
    "Run this next cell after choosing a state from the dropdown list."
   ]
  },
  {
   "cell_type": "code",
   "execution_count": 5,
   "metadata": {},
   "outputs": [
    {
     "name": "stdout",
     "output_type": "stream",
     "text": [
      "There are 12464 ICIS facilities in NY tracked in the ECHO database.\n"
     ]
    }
   ],
   "source": [
    "num_facilities = echo_data.shape[0]\n",
    "print(\"There are %s ICIS facilities in %s tracked in the ECHO database.\" %(num_facilities, my_state))"
   ]
  },
  {
   "cell_type": "markdown",
   "metadata": {},
   "source": [
    "Run this next cell to generate the Congressional District dropdown list for your state.  Then select a CD and run the following cell."
   ]
  },
  {
   "cell_type": "code",
   "execution_count": 6,
   "metadata": {},
   "outputs": [
    {
     "data": {
      "application/vnd.jupyter.widget-view+json": {
       "model_id": "a81d4ebb9fd54cc68d209152d7e865a4",
       "version_major": 2,
       "version_minor": 0
      },
      "text/plain": [
       "Dropdown(description='Congressional Districts:', index=1, options=(0, 1, 2, 3, 4, 5, 6, 7, 8, 9, 10, 11, 12, 1…"
      ]
     },
     "metadata": {},
     "output_type": "display_data"
    }
   ],
   "source": [
    "if (( my_state != 'none' ) & (my_state != 'all' )):\n",
    "    cd_array = echo_data[\"FAC_DERIVED_CD113\"].fillna(0).astype(int).unique()\n",
    "    cd_array.sort()\n",
    "    w2=widgets.Dropdown(\n",
    "        options=cd_array,\n",
    "        value=1,\n",
    "        description='Congressional Districts:',\n",
    "        disabled=False,\n",
    "    )\n",
    "    display(w2)"
   ]
  },
  {
   "cell_type": "markdown",
   "metadata": {},
   "source": [
    "Here is a map of congressional districts: https://www.govtrack.us/congress/members/map\n",
    "\n",
    "Run this next cell after choosing a congressional district from the dropdown list."
   ]
  },
  {
   "cell_type": "code",
   "execution_count": 7,
   "metadata": {},
   "outputs": [
    {
     "name": "stdout",
     "output_type": "stream",
     "text": [
      "There are 400 ICIS facilities in NY district 1 tracked in the ECHO database.\n"
     ]
    }
   ],
   "source": [
    "my_cd = w2.value\n",
    "my_cd_facs = echo_data[echo_data[\"FAC_DERIVED_CD113\"].fillna(0).astype(int) == my_cd]\n",
    "num_facilities = my_cd_facs.shape[0]    \n",
    "print(\"There are %s ICIS facilities in %s district %s tracked in the ECHO database.\" %(num_facilities, my_state, my_cd))"
   ]
  },
  {
   "cell_type": "markdown",
   "metadata": {},
   "source": [
    "Next look up the compliance monitoring history for the facilities in the selected\n",
    "state and congressional district.  This step may take awhile."
   ]
  },
  {
   "cell_type": "code",
   "execution_count": 8,
   "metadata": {},
   "outputs": [
    {
     "name": "stdout",
     "output_type": "stream",
     "text": [
      "select CF.REGISTRY_ID, CE.FISCAL_YEAR, CE.CASE_STATUS_DATE from `CASE_FACILITIES` CF, `CASE_ENFORCEMENTS` CE where CE.HQ_DIVISION = 'AIR' and CE.CASE_NUMBER = CF.CASE_NUMBER\n",
      "http://apps.tlt.stonybrook.edu/echoepa/?query=select%20CF.REGISTRY_ID%2C%20CE.FISCAL_YEAR%2C%20CE.CASE_STATUS_DATE%20from%20%60CASE_FACILITIES%60%20CF%2C%20%60CASE_ENFORCEMENTS%60%20CE%20where%20CE.HQ_DIVISION%20%3D%20%27AIR%27%20and%20CE.CASE_NUMBER%20%3D%20CF.CASE_NUMBER\n"
     ]
    }
   ],
   "source": [
    "# sql = \"select PGM_SYS_ID, STATE_EPA_FLAG, AGENCY_TYPE_DESC, COMP_MONITOR_DESC, ACTUAL_END_DATE from `ICIS-AIR_FCES_PCES` where STATE_CODE='\" + my_state + \"'\"\n",
    "url='http://apps.tlt.stonybrook.edu/echoepa/?query='\n",
    "\n",
    "sql = \"select CF.REGISTRY_ID, CE.FISCAL_YEAR, CE.CASE_STATUS_DATE from `CASE_FACILITIES` CF, `CASE_ENFORCEMENTS` CE\" + \\\n",
    "   \" where CE.HQ_DIVISION = 'AIR' and CE.CASE_NUMBER = CF.CASE_NUMBER\"\n",
    "# sql = \"select distinct( HQ_DIVISION ) from CASE_ENFORCEMENTS\"\n",
    "# sql = \"show columns from `ICIS_FEC_EPA_INSPECTIONS`\"\n",
    "# sql = \"show tables from slim_echoepa_a\"\n",
    "data_location=url+urllib.parse.quote(sql)\n",
    "print(sql)\n",
    "print(data_location)"
   ]
  },
  {
   "cell_type": "code",
   "execution_count": 9,
   "metadata": {},
   "outputs": [],
   "source": [
    "icis_data = pd.read_csv(data_location,encoding='iso-8859-1',header = 0)\n",
    "icis_data.set_index( \"REGISTRY_ID\", inplace=True)"
   ]
  },
  {
   "cell_type": "code",
   "execution_count": 10,
   "metadata": {
    "scrolled": true
   },
   "outputs": [],
   "source": [
    "# Find the facility that matches the inspection, by REGISTRY_ID.\n",
    "\n",
    "my_cd_icis = pd.DataFrame()\n",
    "no_data_ids = []\n",
    "# Look through all facilities in my CD.\n",
    "for fac in my_cd_facs.itertuples():\n",
    "    # breakpoint()\n",
    "    fac_id = fac.Index\n",
    "    try:\n",
    "        enforcements = icis_data.loc[ fac_id ].copy()\n",
    "        # breakpoint()\n",
    "        n = enforcements.shape[0]\n",
    "        fac_list = [fac.Index] * n\n",
    "        enforcements['facility'] = fac_list\n",
    "        frames = [my_cd_icis, enforcements]\n",
    "        my_cd_icis = pd.concat( frames, ignore_index=False )\n",
    "    except KeyError:\n",
    "        # The facility wasn't found in the ICIS_FEC_EPA_INSPECTIONS data.\n",
    "        no_data_ids.append( fac.Index )\n",
    "    \n",
    "# my_cd_icis.to_csv( r'my_cd_enforcements.csv', index=True, header=True )\n",
    "# with open( \"no_data_ids.txt\", \"w\" ) as output:\n",
    "#     output.write( str( no_data_ids ))"
   ]
  },
  {
   "cell_type": "markdown",
   "metadata": {},
   "source": [
    "Map the facilities that have had these compliance evaluations."
   ]
  },
  {
   "cell_type": "code",
   "execution_count": 11,
   "metadata": {},
   "outputs": [
    {
     "name": "stdout",
     "output_type": "stream",
     "text": [
      "Facilities without enforcements: 397\n",
      "Facilities with enforcements: 30\n"
     ]
    },
    {
     "data": {
      "text/html": [
       "<div>\n",
       "<style scoped>\n",
       "    .dataframe tbody tr th:only-of-type {\n",
       "        vertical-align: middle;\n",
       "    }\n",
       "\n",
       "    .dataframe tbody tr th {\n",
       "        vertical-align: top;\n",
       "    }\n",
       "\n",
       "    .dataframe thead th {\n",
       "        text-align: right;\n",
       "    }\n",
       "</style>\n",
       "<table border=\"1\" class=\"dataframe\">\n",
       "  <thead>\n",
       "    <tr style=\"text-align: right;\">\n",
       "      <th></th>\n",
       "      <th>FISCAL_YEAR</th>\n",
       "      <th>CASE_STATUS_DATE</th>\n",
       "      <th>facility</th>\n",
       "    </tr>\n",
       "    <tr>\n",
       "      <th>REGISTRY_ID</th>\n",
       "      <th></th>\n",
       "      <th></th>\n",
       "      <th></th>\n",
       "    </tr>\n",
       "  </thead>\n",
       "  <tbody>\n",
       "    <tr>\n",
       "      <th>110000616726</th>\n",
       "      <td>1998</td>\n",
       "      <td>02/24/1998</td>\n",
       "      <td>1.100006e+11</td>\n",
       "    </tr>\n",
       "    <tr>\n",
       "      <th>110000616726</th>\n",
       "      <td>1998</td>\n",
       "      <td>02/24/1998</td>\n",
       "      <td>1.100006e+11</td>\n",
       "    </tr>\n",
       "    <tr>\n",
       "      <th>110000616726</th>\n",
       "      <td>1998</td>\n",
       "      <td>02/24/1998</td>\n",
       "      <td>1.100006e+11</td>\n",
       "    </tr>\n",
       "    <tr>\n",
       "      <th>110000616726</th>\n",
       "      <td>1998</td>\n",
       "      <td>02/24/1998</td>\n",
       "      <td>1.100006e+11</td>\n",
       "    </tr>\n",
       "    <tr>\n",
       "      <th>110000616726</th>\n",
       "      <td>1998</td>\n",
       "      <td>02/24/1998</td>\n",
       "      <td>1.100006e+11</td>\n",
       "    </tr>\n",
       "    <tr>\n",
       "      <th>110000616726</th>\n",
       "      <td>1998</td>\n",
       "      <td>02/24/1998</td>\n",
       "      <td>1.100006e+11</td>\n",
       "    </tr>\n",
       "    <tr>\n",
       "      <th>110000616726</th>\n",
       "      <td>1998</td>\n",
       "      <td>02/24/1998</td>\n",
       "      <td>1.100006e+11</td>\n",
       "    </tr>\n",
       "    <tr>\n",
       "      <th>110000616726</th>\n",
       "      <td>1998</td>\n",
       "      <td>02/24/1998</td>\n",
       "      <td>1.100006e+11</td>\n",
       "    </tr>\n",
       "    <tr>\n",
       "      <th>110000616726</th>\n",
       "      <td>1998</td>\n",
       "      <td>02/24/1998</td>\n",
       "      <td>1.100006e+11</td>\n",
       "    </tr>\n",
       "    <tr>\n",
       "      <th>110000616726</th>\n",
       "      <td>1998</td>\n",
       "      <td>02/24/1998</td>\n",
       "      <td>1.100006e+11</td>\n",
       "    </tr>\n",
       "    <tr>\n",
       "      <th>110000616726</th>\n",
       "      <td>1998</td>\n",
       "      <td>02/24/1998</td>\n",
       "      <td>1.100006e+11</td>\n",
       "    </tr>\n",
       "    <tr>\n",
       "      <th>110000616726</th>\n",
       "      <td>1998</td>\n",
       "      <td>02/24/1998</td>\n",
       "      <td>1.100006e+11</td>\n",
       "    </tr>\n",
       "    <tr>\n",
       "      <th>110000616726</th>\n",
       "      <td>1998</td>\n",
       "      <td>02/24/1998</td>\n",
       "      <td>1.100006e+11</td>\n",
       "    </tr>\n",
       "    <tr>\n",
       "      <th>110000616726</th>\n",
       "      <td>1998</td>\n",
       "      <td>02/24/1998</td>\n",
       "      <td>1.100006e+11</td>\n",
       "    </tr>\n",
       "    <tr>\n",
       "      <th>110000616726</th>\n",
       "      <td>1998</td>\n",
       "      <td>02/24/1998</td>\n",
       "      <td>1.100006e+11</td>\n",
       "    </tr>\n",
       "    <tr>\n",
       "      <th>110000616726</th>\n",
       "      <td>1998</td>\n",
       "      <td>02/24/1998</td>\n",
       "      <td>1.100006e+11</td>\n",
       "    </tr>\n",
       "    <tr>\n",
       "      <th>110000616726</th>\n",
       "      <td>1998</td>\n",
       "      <td>02/28/1998</td>\n",
       "      <td>1.100006e+11</td>\n",
       "    </tr>\n",
       "    <tr>\n",
       "      <th>110000616726</th>\n",
       "      <td>1998</td>\n",
       "      <td>02/28/1998</td>\n",
       "      <td>1.100006e+11</td>\n",
       "    </tr>\n",
       "    <tr>\n",
       "      <th>110000616726</th>\n",
       "      <td>1998</td>\n",
       "      <td>02/28/1998</td>\n",
       "      <td>1.100006e+11</td>\n",
       "    </tr>\n",
       "    <tr>\n",
       "      <th>110000616726</th>\n",
       "      <td>1998</td>\n",
       "      <td>02/28/1998</td>\n",
       "      <td>1.100006e+11</td>\n",
       "    </tr>\n",
       "    <tr>\n",
       "      <th>110000616726</th>\n",
       "      <td>1998</td>\n",
       "      <td>02/28/1998</td>\n",
       "      <td>1.100006e+11</td>\n",
       "    </tr>\n",
       "    <tr>\n",
       "      <th>110000616726</th>\n",
       "      <td>1998</td>\n",
       "      <td>02/28/1998</td>\n",
       "      <td>1.100006e+11</td>\n",
       "    </tr>\n",
       "    <tr>\n",
       "      <th>110000616726</th>\n",
       "      <td>1998</td>\n",
       "      <td>02/28/1998</td>\n",
       "      <td>1.100006e+11</td>\n",
       "    </tr>\n",
       "    <tr>\n",
       "      <th>110000616726</th>\n",
       "      <td>1998</td>\n",
       "      <td>02/28/1998</td>\n",
       "      <td>1.100006e+11</td>\n",
       "    </tr>\n",
       "    <tr>\n",
       "      <th>110042050197</th>\n",
       "      <td>1996</td>\n",
       "      <td>09/24/1996</td>\n",
       "      <td>1.100421e+11</td>\n",
       "    </tr>\n",
       "    <tr>\n",
       "      <th>110042050197</th>\n",
       "      <td>1996</td>\n",
       "      <td>09/24/1996</td>\n",
       "      <td>1.100421e+11</td>\n",
       "    </tr>\n",
       "    <tr>\n",
       "      <th>110042050197</th>\n",
       "      <td>1996</td>\n",
       "      <td>09/24/1996</td>\n",
       "      <td>1.100421e+11</td>\n",
       "    </tr>\n",
       "    <tr>\n",
       "      <th>110042050197</th>\n",
       "      <td>1996</td>\n",
       "      <td>09/24/1996</td>\n",
       "      <td>1.100421e+11</td>\n",
       "    </tr>\n",
       "    <tr>\n",
       "      <th>110001585990</th>\n",
       "      <td>1986</td>\n",
       "      <td>11/17/1987</td>\n",
       "      <td>1.100016e+11</td>\n",
       "    </tr>\n",
       "    <tr>\n",
       "      <th>110001585990</th>\n",
       "      <td>1986</td>\n",
       "      <td>11/17/1987</td>\n",
       "      <td>1.100016e+11</td>\n",
       "    </tr>\n",
       "  </tbody>\n",
       "</table>\n",
       "</div>"
      ],
      "text/plain": [
       "              FISCAL_YEAR CASE_STATUS_DATE      facility\n",
       "REGISTRY_ID                                             \n",
       "110000616726         1998       02/24/1998  1.100006e+11\n",
       "110000616726         1998       02/24/1998  1.100006e+11\n",
       "110000616726         1998       02/24/1998  1.100006e+11\n",
       "110000616726         1998       02/24/1998  1.100006e+11\n",
       "110000616726         1998       02/24/1998  1.100006e+11\n",
       "110000616726         1998       02/24/1998  1.100006e+11\n",
       "110000616726         1998       02/24/1998  1.100006e+11\n",
       "110000616726         1998       02/24/1998  1.100006e+11\n",
       "110000616726         1998       02/24/1998  1.100006e+11\n",
       "110000616726         1998       02/24/1998  1.100006e+11\n",
       "110000616726         1998       02/24/1998  1.100006e+11\n",
       "110000616726         1998       02/24/1998  1.100006e+11\n",
       "110000616726         1998       02/24/1998  1.100006e+11\n",
       "110000616726         1998       02/24/1998  1.100006e+11\n",
       "110000616726         1998       02/24/1998  1.100006e+11\n",
       "110000616726         1998       02/24/1998  1.100006e+11\n",
       "110000616726         1998       02/28/1998  1.100006e+11\n",
       "110000616726         1998       02/28/1998  1.100006e+11\n",
       "110000616726         1998       02/28/1998  1.100006e+11\n",
       "110000616726         1998       02/28/1998  1.100006e+11\n",
       "110000616726         1998       02/28/1998  1.100006e+11\n",
       "110000616726         1998       02/28/1998  1.100006e+11\n",
       "110000616726         1998       02/28/1998  1.100006e+11\n",
       "110000616726         1998       02/28/1998  1.100006e+11\n",
       "110042050197         1996       09/24/1996  1.100421e+11\n",
       "110042050197         1996       09/24/1996  1.100421e+11\n",
       "110042050197         1996       09/24/1996  1.100421e+11\n",
       "110042050197         1996       09/24/1996  1.100421e+11\n",
       "110001585990         1986       11/17/1987  1.100016e+11\n",
       "110001585990         1986       11/17/1987  1.100016e+11"
      ]
     },
     "execution_count": 11,
     "metadata": {},
     "output_type": "execute_result"
    }
   ],
   "source": [
    "\n",
    "print( \"Facilities without enforcements: \" + str( len( no_data_ids )))\n",
    "print( \"Facilities with enforcements: \" + str( len( my_cd_icis )))\n",
    "my_cd_icis"
   ]
  },
  {
   "cell_type": "code",
   "execution_count": 12,
   "metadata": {},
   "outputs": [],
   "source": [
    "fac_idx_list = my_cd_icis['facility'].dropna()\n",
    "fac_cd_icis = my_cd_facs.loc[fac_idx_list]"
   ]
  },
  {
   "cell_type": "code",
   "execution_count": 13,
   "metadata": {},
   "outputs": [
    {
     "data": {
      "text/html": [
       "<div style=\"width:100%;\"><div style=\"position:relative;width:100%;height:0;padding-bottom:60%;\"><iframe src=\"data:text/html;charset=utf-8;base64,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\" style=\"position:absolute;width:100%;height:100%;left:0;top:0;border:none !important;\" allowfullscreen webkitallowfullscreen mozallowfullscreen></iframe></div></div>"
      ],
      "text/plain": [
       "<folium.folium.Map at 0x7fa529347850>"
      ]
     },
     "execution_count": 13,
     "metadata": {},
     "output_type": "execute_result"
    }
   ],
   "source": [
    "# Let's show a quick map of your area and the facilities in it\n",
    "\n",
    "def mapper(df):\n",
    "    # Initialize the map\n",
    "    m = folium.Map(\n",
    "        location = [df.mean()[\"FAC_LAT\"], df.mean()[\"FAC_LONG\"]],\n",
    "        zoom_start = 11\n",
    "    )\n",
    "\n",
    "    # Add a clickable marker for each facility\n",
    "    for index, row in df.iterrows():\n",
    "        folium.Marker(\n",
    "            location = [row[\"FAC_LAT\"], row[\"FAC_LONG\"]],\n",
    "            popup = row[\"FAC_NAME\"] ).add_to(m)\n",
    "\n",
    "    # Show the map\n",
    "    return m\n",
    "\n",
    "map_of_facilities_in_my_area = mapper(fac_cd_icis)\n",
    "map_of_facilities_in_my_area"
   ]
  },
  {
   "cell_type": "markdown",
   "metadata": {},
   "source": [
    "Present another dropdown with the list of names of the facilities.  Choosing a facility will display\n",
    "the violations."
   ]
  },
  {
   "cell_type": "code",
   "execution_count": 14,
   "metadata": {},
   "outputs": [],
   "source": [
    "cd_array = fac_cd_icis[\"FAC_NAME\"].unique()\n",
    "cd_array.sort()"
   ]
  },
  {
   "cell_type": "code",
   "execution_count": 15,
   "metadata": {},
   "outputs": [
    {
     "data": {
      "application/vnd.jupyter.widget-view+json": {
       "model_id": "a72f865fb5564ba5b123f179287c714e",
       "version_major": 2,
       "version_minor": 0
      },
      "text/plain": [
       "Dropdown(description='Facility Name:', options=('BROOKHAVEN NATIONAL LABORATORY', 'F & H MANUFACTURING CORP PR…"
      ]
     },
     "metadata": {},
     "output_type": "display_data"
    }
   ],
   "source": [
    "w3=widgets.Dropdown(\n",
    "    options=cd_array,\n",
    "    description='Facility Name:',\n",
    "    disabled=False,\n",
    ")\n",
    "display(w3)"
   ]
  },
  {
   "cell_type": "markdown",
   "metadata": {},
   "source": [
    "Run this next cell after choosing a facility."
   ]
  },
  {
   "cell_type": "code",
   "execution_count": 16,
   "metadata": {},
   "outputs": [],
   "source": [
    "my_fac = fac_cd_icis[fac_cd_icis[\"FAC_NAME\"] == w3.value]\n",
    "enforcements = my_cd_icis[my_cd_icis['facility'] == my_fac.iloc[[0]].index[0]]"
   ]
  },
  {
   "cell_type": "code",
   "execution_count": 17,
   "metadata": {},
   "outputs": [],
   "source": [
    "# This cell creates a function that will be used by both the CD and the state\n",
    "# to plot the number of cases by year.\n",
    "import datetime\n",
    "\n",
    "def show_plot( df, date_field, year_field, place, date_format, chart_title ):\n",
    "    format_str = date_format # The format\n",
    "    nan_count = 0\n",
    "    year_col = []\n",
    "    for day in df[date_field]:\n",
    "        try:\n",
    "            # breakpoint()\n",
    "            viol_year = datetime.datetime.strptime(day, format_str).year\n",
    "            year_col.append( viol_year )\n",
    "        except:\n",
    "            nan_count += 1\n",
    "            year_col.append(  np.NaN )\n",
    "    df[year_field] = year_col\n",
    "    \n",
    "    year_groups = df.groupby( year_field )[[ year_field ]]\n",
    "    counted_years = year_groups.count()\n",
    "\n",
    "    # Print how many values are present \n",
    "    print(counted_years)\n",
    "    chart_title +=  \" in \" + place + \" by year\"\n",
    "\n",
    "    ax = counted_years[[year_field]].plot(kind='bar', title = chart_title, figsize=(15, 10), legend=False, fontsize=12)\n",
    "    ax.set_xlabel(\"Year\", fontsize=12)\n",
    "    ax.set_ylabel(\"Count\", fontsize=12)"
   ]
  },
  {
   "cell_type": "markdown",
   "metadata": {},
   "source": [
    "## Plot the number of enforcements by year for the congressional district."
   ]
  },
  {
   "cell_type": "code",
   "execution_count": 18,
   "metadata": {},
   "outputs": [
    {
     "name": "stdout",
     "output_type": "stream",
     "text": [
      "                  CASE_STATUS_YEAR\n",
      "CASE_STATUS_YEAR                  \n",
      "1987                             2\n",
      "1996                             4\n",
      "1998                            24\n"
     ]
    },
    {
     "data": {
      "image/png": "[encoded data removed]",
      "text/plain": [
       "<Figure size 1080x720 with 1 Axes>"
      ]
     },
     "metadata": {
      "needs_background": "light"
     },
     "output_type": "display_data"
    }
   ],
   "source": [
    "chart_title = \"Total CAA enforcements\"\n",
    "\n",
    "show_plot( my_cd_icis, 'CASE_STATUS_DATE', 'CASE_STATUS_YEAR', \\\n",
    "          my_state + ' - #' + str( my_cd ), \"%m/%d/%Y\", chart_title )"
   ]
  },
  {
   "cell_type": "markdown",
   "metadata": {},
   "source": [
    "## Plot the number of enforcements by year, using the entire state.\n",
    "Since the number of enforcements in a single CD may be small, it can be more\n",
    "interesting to look at the entire state."
   ]
  },
  {
   "cell_type": "code",
   "execution_count": 19,
   "metadata": {},
   "outputs": [
    {
     "name": "stdout",
     "output_type": "stream",
     "text": [
      "                  CASE_STATUS_YEAR\n",
      "CASE_STATUS_YEAR                  \n",
      "1976                            48\n",
      "1977                            44\n",
      "1978                            46\n",
      "1979                           101\n",
      "1980                            62\n",
      "1981                           188\n",
      "1982                            81\n",
      "1983                            95\n",
      "1984                            89\n",
      "1985                           105\n",
      "1986                           257\n",
      "1987                           336\n",
      "1988                           352\n",
      "1989                           365\n",
      "1990                           283\n",
      "1991                           238\n",
      "1992                           240\n",
      "1993                           321\n",
      "1994                           441\n",
      "1995                           505\n",
      "1996                           621\n",
      "1997                           760\n",
      "1998                           870\n",
      "1999                          1054\n",
      "2000                          1008\n",
      "2001                          1098\n",
      "2002                           663\n",
      "2003                           192\n",
      "2004                           124\n",
      "2005                            98\n",
      "2006                            61\n",
      "2007                            71\n",
      "2008                            94\n",
      "2009                           137\n",
      "2010                            72\n",
      "2011                            38\n",
      "2012                            43\n",
      "2013                            31\n",
      "2014                            13\n",
      "2015                            42\n",
      "2016                            39\n",
      "2017                            35\n",
      "2018                            26\n",
      "2019                            11\n",
      "2020                            35\n"
     ]
    },
    {
     "data": {
      "image/png": "[encoded data removed]",
      "text/plain": [
       "<Figure size 1080x720 with 1 Axes>"
      ]
     },
     "metadata": {
      "needs_background": "light"
     },
     "output_type": "display_data"
    }
   ],
   "source": [
    "chart_title = \"Total CAA enforcements\"\n",
    "\n",
    "show_plot( icis_data, 'CASE_STATUS_DATE', 'CASE_STATUS_YEAR', my_state, \\\n",
    "          \"%m/%d/%Y\", chart_title )"
   ]
  },
  {
   "cell_type": "code",
   "execution_count": null,
   "metadata": {},
   "outputs": [],
   "source": []
  }
 ],
 "metadata": {
  "kernelspec": {
   "display_name": "Python 3.7.5 64-bit ('base': conda)",
   "language": "python",
   "name": "python37564bitbaseconda7071e98414dd4b3880bf69a85f4101b4"
  },
  "language_info": {
   "codemirror_mode": {
    "name": "ipython",
    "version": 3
   },
   "file_extension": ".py",
   "mimetype": "text/x-python",
   "name": "python",
   "nbconvert_exporter": "python",
   "pygments_lexer": "ipython3",
   "version": "3.7.6"
  }
 },
 "nbformat": 4,
 "nbformat_minor": 4
}
