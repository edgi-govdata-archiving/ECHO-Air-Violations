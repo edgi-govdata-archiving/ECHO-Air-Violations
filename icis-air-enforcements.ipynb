{
 "cells": [
  {
   "cell_type": "markdown",
   "metadata": {},
   "source": [
    "Note:  This notebook has widgets to select the state, congressional district and facility.  Those currently work only when the cells are run one at a time sequentially, not all at once."
   ]
  },
  {
   "cell_type": "markdown",
   "metadata": {},
   "source": [
    "## Clean Air Act Formal Enforcements by Congressional District\n",
    "\n",
    "This notebook examines ECHO data on formal enforcement cases, the next step after inspections by which the EPA and state agencies move forward to enforce environmental laws.  It uses the following downloadable ECHO spreadsheets:  CASE_FACILITIES, CASE_ENFORCEMENTS and ECHO_EXPORTER.\n",
    "The fields in the CASE_FACILITIES table are:\n",
    "<ol>\n",
    "    <li>REGISTRY_ID, </li>\n",
    "    <li>CASE_NUMBER. </li>\n",
    "</ol>\n",
    "The fields in the CASE_ENFORCEMENTS table are:\n",
    "<ol>\n",
    "    <li>CASE_NUMBER, </li>\n",
    "    <li>FISCAL_YEAR, </li>\n",
    "    <li>CASE_STATUS_DATE, </li>\n",
    "    <li>HQ_DIVISION. </li>\n",
    "</ol>\n",
    "The CASE_NUMBER field links these tables.\n",
    "\n",
    "The REGISTRY_ID identifier is linked to the ECHO_EXPORTER table's field of the same name.\n",
    "\n",
    "The HQ_DIVISION of interest for this notebook is 'CAA'.\n",
    "    \n",
    "A state and congressional district must be chosen using the dropdown\n",
    "widgets that are provided."
   ]
  },
  {
   "cell_type": "code",
   "execution_count": null,
   "metadata": {},
   "outputs": [],
   "source": [
    "# Import libraries\n",
    "import urllib.parse\n",
    "import pandas as pd\n",
    "import numpy as np\n",
    "import matplotlib.pyplot as plt\n",
    "%matplotlib inline\n",
    "import folium\n",
    "\n",
    "from ipywidgets import interact, interactive, fixed, interact_manual\n",
    "import ipywidgets as widgets\n",
    "from IPython.display import display\n"
   ]
  },
  {
   "cell_type": "markdown",
   "metadata": {},
   "source": [
    "Run this next cell, select a state, and then run the following cell."
   ]
  },
  {
   "cell_type": "code",
   "execution_count": null,
   "metadata": {},
   "outputs": [],
   "source": [
    "states = [\"AL\", \"AK\", \"AZ\", \"AR\", \"CA\", \"CO\", \"CT\", \"DC\", \"DE\", \"FL\", \"GA\", \n",
    "          \"HI\", \"ID\", \"IL\", \"IN\", \"IA\", \"KS\", \"KY\", \"LA\", \"ME\", \"MD\", \n",
    "          \"MA\", \"MI\", \"MN\", \"MS\", \"MO\", \"MT\", \"NE\", \"NV\", \"NH\", \"NJ\", \n",
    "          \"NM\", \"NY\", \"NC\", \"ND\", \"OH\", \"OK\", \"OR\", \"PA\", \"RI\", \"SC\", \n",
    "          \"SD\", \"TN\", \"TX\", \"UT\", \"VT\", \"VA\", \"WA\", \"WV\", \"WI\", \"WY\"]\n",
    "dropdown_state=widgets.Dropdown(\n",
    "    options=states,\n",
    "    value='NY',\n",
    "    description='State:',\n",
    "    disabled=False,\n",
    ")\n",
    "output_state = widgets.Output()\n",
    "my_state = \"\"\n",
    "\n",
    "def dropdown_state_eventhandler( change ):\n",
    "    output_state.clear_output()\n",
    "    value = change.new\n",
    "    with output_state:\n",
    "        display( change.new )\n",
    "            \n",
    "dropdown_state.observe( dropdown_state_eventhandler, names='value')\n",
    "display( dropdown_state )"
   ]
  },
  {
   "cell_type": "code",
   "execution_count": null,
   "metadata": {},
   "outputs": [],
   "source": [
    "my_state = dropdown_state.value\n",
    "\n",
    "sql = \"select REGISTRY_ID, FAC_NAME, FAC_STATE, FAC_LAT, FAC_LONG, FAC_DERIVED_CD113 \" + \\\n",
    "    \" from ECHO_EXPORTER where AIR_FLAG = 'Y' and FAC_STATE = '\" + my_state + \"'\"\n",
    "url='http://apps.tlt.stonybrook.edu/echoepa/?query='\n",
    "data_location=url+urllib.parse.quote(sql)\n",
    "print(sql)\n",
    "print(data_location)\n"
   ]
  },
  {
   "cell_type": "code",
   "execution_count": null,
   "metadata": {
    "scrolled": false
   },
   "outputs": [],
   "source": [
    "\n",
    "echo_data = pd.read_csv(data_location,encoding='iso-8859-1',header = 0)\n",
    "echo_data.set_index( \"REGISTRY_ID\", inplace=True)\n"
   ]
  },
  {
   "cell_type": "markdown",
   "metadata": {},
   "source": [
    "Run this next cell after choosing a state from the dropdown list."
   ]
  },
  {
   "cell_type": "code",
   "execution_count": null,
   "metadata": {},
   "outputs": [],
   "source": [
    "num_facilities = echo_data.shape[0]\n",
    "print(\"There are %s ICIS facilities in %s tracked in the ECHO database.\" %(num_facilities, my_state))"
   ]
  },
  {
   "cell_type": "markdown",
   "metadata": {},
   "source": [
    "Run this next cell to generate the Congressional District dropdown list for your state.  Then select a CD and run the following cell."
   ]
  },
  {
   "cell_type": "code",
   "execution_count": null,
   "metadata": {},
   "outputs": [],
   "source": [
    "if (( my_state != 'none' ) & (my_state != 'all' )):\n",
    "    cd_array = echo_data[\"FAC_DERIVED_CD113\"].fillna(0).astype(int).unique()\n",
    "    cd_array.sort()\n",
    "    w2=widgets.Dropdown(\n",
    "        options=cd_array,\n",
    "        value=1,\n",
    "        description='Congressional Districts:',\n",
    "        disabled=False,\n",
    "    )\n",
    "    display(w2)"
   ]
  },
  {
   "cell_type": "markdown",
   "metadata": {},
   "source": [
    "Here is a map of congressional districts: https://www.govtrack.us/congress/members/map\n",
    "\n",
    "Run this next cell after choosing a congressional district from the dropdown list."
   ]
  },
  {
   "cell_type": "code",
   "execution_count": null,
   "metadata": {},
   "outputs": [],
   "source": [
    "my_cd = w2.value\n",
    "my_cd_facs = echo_data[echo_data[\"FAC_DERIVED_CD113\"].fillna(0).astype(int) == my_cd]\n",
    "num_facilities = my_cd_facs.shape[0]    \n",
    "print(\"There are %s ICIS facilities in %s district %s tracked in the ECHO database.\" %(num_facilities, my_state, my_cd))"
   ]
  },
  {
   "cell_type": "markdown",
   "metadata": {},
   "source": [
    "Next look up the formal enforcement history for the facilities in the selected\n",
    "state and congressional district.  This step may take awhile."
   ]
  },
  {
   "cell_type": "code",
   "execution_count": null,
   "metadata": {},
   "outputs": [],
   "source": [
    "# sql = \"select PGM_SYS_ID, STATE_EPA_FLAG, AGENCY_TYPE_DESC, COMP_MONITOR_DESC, ACTUAL_END_DATE from `ICIS-AIR_FCES_PCES` where STATE_CODE='\" + my_state + \"'\"\n",
    "url='http://apps.tlt.stonybrook.edu/echoepa/?query='\n",
    "\n",
    "sql = \"select CF.REGISTRY_ID, CE.FISCAL_YEAR, CE.CASE_STATUS_DATE from `CASE_FACILITIES` CF, `CASE_ENFORCEMENTS` CE\" + \\\n",
    "   \" where CE.HQ_DIVISION = 'AIR' and CE.CASE_NUMBER = CF.CASE_NUMBER\"\n",
    "data_location=url+urllib.parse.quote(sql)\n",
    "print(sql)\n",
    "print(data_location)"
   ]
  },
  {
   "cell_type": "code",
   "execution_count": null,
   "metadata": {},
   "outputs": [],
   "source": [
    "icis_data = pd.read_csv(data_location,encoding='iso-8859-1',header = 0)\n",
    "icis_data.set_index( \"REGISTRY_ID\", inplace=True)"
   ]
  },
  {
   "cell_type": "code",
   "execution_count": null,
   "metadata": {
    "scrolled": true
   },
   "outputs": [],
   "source": [
    "# Find the facility that matches the inspection, by REGISTRY_ID.\n",
    "\n",
    "my_cd_icis = pd.DataFrame()\n",
    "no_data_ids = []\n",
    "# Look through all facilities in my CD.\n",
    "for fac in my_cd_facs.itertuples():\n",
    "    # breakpoint()\n",
    "    fac_id = fac.Index\n",
    "    try:\n",
    "        enforcements = icis_data.loc[ fac_id ].copy()\n",
    "        # breakpoint()\n",
    "        n = enforcements.shape[0]\n",
    "        fac_list = [fac.Index] * n\n",
    "        enforcements['facility'] = fac_list\n",
    "        frames = [my_cd_icis, enforcements]\n",
    "        my_cd_icis = pd.concat( frames, ignore_index=False )\n",
    "    except KeyError:\n",
    "        # The facility wasn't found in the ICIS_FEC_EPA_INSPECTIONS data.\n",
    "        no_data_ids.append( fac.Index )\n",
    "    \n",
    "# my_cd_icis.to_csv( r'my_cd_enforcements.csv', index=True, header=True )\n",
    "# with open( \"no_data_ids.txt\", \"w\" ) as output:\n",
    "#     output.write( str( no_data_ids ))"
   ]
  },
  {
   "cell_type": "markdown",
   "metadata": {},
   "source": [
    "Map the facilities that have had these formal enforcement cases."
   ]
  },
  {
   "cell_type": "code",
   "execution_count": null,
   "metadata": {},
   "outputs": [],
   "source": [
    "\n",
    "print( \"Facilities without enforcements: \" + str( len( no_data_ids )))\n",
    "print( \"Facilities with enforcements: \" + str( len( my_cd_icis )))\n",
    "my_cd_icis"
   ]
  },
  {
   "cell_type": "markdown",
   "metadata": {},
   "source": [
    "Save the data to a CSV file in your Google Drive.\n",
    "The first of the next three cells will open our Google Drive to write into.\n",
    "The second cell writes the congressional district file.\n",
    "The third cell writes the file for state data.\n",
    "Running these cells is optional."
   ]
  },
  {
   "cell_type": "code",
   "execution_count": null,
   "metadata": {},
   "outputs": [],
   "source": [
    "from google.colab import drive\n",
    "drive.mount('/content/drive')"
   ]
  },
  {
   "cell_type": "markdown",
   "metadata": {},
   "source": [
    "Write the congressional district data to CSV file."
   ]
  },
  {
   "cell_type": "code",
   "execution_count": null,
   "metadata": {},
   "outputs": [],
   "source": [
    "filename = '/content/drive/My Drive/cd_air-enforce-' + my_state + '-' + str( my_cd ) + '.csv'\n",
    "my_cd_icis.to_csv( filename ) \n",
    "print( \"Writing this data to %s\" %(filename))"
   ]
  },
  {
   "cell_type": "markdown",
   "metadata": {},
   "source": [
    "Write the state data to CSV file."
   ]
  },
  {
   "cell_type": "code",
   "execution_count": null,
   "metadata": {},
   "outputs": [],
   "source": [
    "filename = '/content/drive/My Drive/state-air-enforce-' + my_state + '.csv'\n",
    "icis_data.to_csv( filename ) \n",
    "print( \"Writing this data to %s\" %(filename))"
   ]
  },
  {
   "cell_type": "code",
   "execution_count": null,
   "metadata": {},
   "outputs": [],
   "source": [
    "# Let's show a quick map of your area and the facilities in it\n",
    "\n",
    "def mapper(df):\n",
    "    # Initialize the map\n",
    "    m = folium.Map(\n",
    "        location = [df.mean()[\"FAC_LAT\"], df.mean()[\"FAC_LONG\"]],\n",
    "        zoom_start = 11\n",
    "    )\n",
    "\n",
    "    # Add a clickable marker for each facility\n",
    "    for index, row in df.iterrows():\n",
    "        folium.Marker(\n",
    "            location = [row[\"FAC_LAT\"], row[\"FAC_LONG\"]],\n",
    "            popup = row[\"FAC_NAME\"] ).add_to(m)\n",
    "\n",
    "    # Show the map\n",
    "    return m\n",
    "\n",
    "fac_idx_list = my_cd_icis['facility'].dropna()\n",
    "fac_cd_icis = my_cd_facs.loc[fac_idx_list]\n",
    "\n",
    "map_of_facilities_in_my_area = mapper(fac_cd_icis)\n",
    "map_of_facilities_in_my_area"
   ]
  },
  {
   "cell_type": "markdown",
   "metadata": {},
   "source": [
    "Present another dropdown with the list of names of the facilities.  Choosing a facility will display the formal enforcement cases."
   ]
  },
  {
   "cell_type": "code",
   "execution_count": null,
   "metadata": {},
   "outputs": [],
   "source": [
    "cd_array = fac_cd_icis[\"FAC_NAME\"].unique()\n",
    "cd_array.sort()"
   ]
  },
  {
   "cell_type": "code",
   "execution_count": null,
   "metadata": {},
   "outputs": [],
   "source": [
    "w3=widgets.Dropdown(\n",
    "    options=cd_array,\n",
    "    description='Facility Name:',\n",
    "    disabled=False,\n",
    ")\n",
    "display(w3)"
   ]
  },
  {
   "cell_type": "markdown",
   "metadata": {},
   "source": [
    "Run this next cell after choosing a facility."
   ]
  },
  {
   "cell_type": "code",
   "execution_count": null,
   "metadata": {},
   "outputs": [],
   "source": [
    "my_fac = fac_cd_icis[fac_cd_icis[\"FAC_NAME\"] == w3.value]\n",
    "enforcements = my_cd_icis[my_cd_icis['facility'] == my_fac.iloc[[0]].index[0]]"
   ]
  },
  {
   "cell_type": "markdown",
   "metadata": {},
   "source": [
    "## Plot the number of enforcements by year for the congressional district."
   ]
  },
  {
   "cell_type": "code",
   "execution_count": null,
   "metadata": {},
   "outputs": [],
   "source": [
    "# This cell creates a function that will be used by both the CD and the state\n",
    "# to plot the number of cases by year.\n",
    "import datetime\n",
    "\n",
    "def show_plot( df, date_field, year_field, place, date_format, chart_title ):\n",
    "    format_str = date_format # The format\n",
    "    nan_count = 0\n",
    "    year_col = []\n",
    "    for day in df[date_field]:\n",
    "        try:\n",
    "            # breakpoint()\n",
    "            viol_year = datetime.datetime.strptime(day, format_str).year\n",
    "            year_col.append( viol_year )\n",
    "        except:\n",
    "            nan_count += 1\n",
    "            year_col.append(  np.NaN )\n",
    "    df[year_field] = year_col\n",
    "    \n",
    "    year_groups = df.groupby( year_field )[[ year_field ]]\n",
    "    counted_years = year_groups.count()\n",
    "\n",
    "    # Print how many values are present \n",
    "    print(counted_years)\n",
    "    chart_title +=  \" in \" + place + \" by year\"\n",
    "\n",
    "    ax = counted_years[[year_field]].plot(kind='bar', title = chart_title, figsize=(15, 10), legend=False, fontsize=12)\n",
    "    ax.set_xlabel(\"Year\", fontsize=12)\n",
    "    ax.set_ylabel(\"Count\", fontsize=12)\n",
    "\n",
    "chart_title = \"Total CAA enforcements\"\n",
    "\n",
    "show_plot( my_cd_icis, 'CASE_STATUS_DATE', 'CASE_STATUS_YEAR', \\\n",
    "          my_state + ' - #' + str( my_cd ), \"%m/%d/%Y\", chart_title )"
   ]
  },
  {
   "cell_type": "markdown",
   "metadata": {},
   "source": [
    "## Plot the number of enforcements by year, using the entire state.\n",
    "Since the number of enforcements in a single CD may be small, it can be more\n",
    "interesting to look at the entire state."
   ]
  },
  {
   "cell_type": "code",
   "execution_count": null,
   "metadata": {},
   "outputs": [],
   "source": [
    "chart_title = \"Total CAA enforcements\"\n",
    "\n",
    "show_plot( icis_data, 'CASE_STATUS_DATE', 'CASE_STATUS_YEAR', my_state, \\\n",
    "          \"%m/%d/%Y\", chart_title )"
   ]
  },
  {
   "cell_type": "code",
   "execution_count": null,
   "metadata": {},
   "outputs": [],
   "source": []
  }
 ],
 "metadata": {
  "kernelspec": {
   "display_name": "Python 3",
   "language": "python",
   "name": "python3"
  },
  "language_info": {
   "codemirror_mode": {
    "name": "ipython",
    "version": 3
   },
   "file_extension": ".py",
   "mimetype": "text/x-python",
   "name": "python",
   "nbconvert_exporter": "python",
   "pygments_lexer": "ipython3",
   "version": "3.7.4"
  }
 },
 "nbformat": 4,
 "nbformat_minor": 4
}
