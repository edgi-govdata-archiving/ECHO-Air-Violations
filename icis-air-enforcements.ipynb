{
 "cells": [
  {
   "cell_type": "markdown",
   "metadata": {},
   "source": [
    "# Clean Air Act Formal Enforcements by Congressional District\n",
    "\n",
    "This notebook examines ECHO data on formal enforcement cases, the next step after inspections by which the EPA and state agencies move forward to enforce environmental laws.  It uses the following downloadable ECHO spreadsheets:  CASE_FACILITIES, CASE_ENFORCEMENTS and ECHO_EXPORTER.\n",
    "The fields in the CASE_FACILITIES table are:\n",
    "<ol>\n",
    "    <li>REGISTRY_ID, </li>\n",
    "    <li>CASE_NUMBER. </li>\n",
    "</ol>\n",
    "The fields in the CASE_ENFORCEMENTS table are:\n",
    "<ol>\n",
    "    <li>CASE_NUMBER, </li>\n",
    "    <li>FISCAL_YEAR, </li>\n",
    "    <li>CASE_STATUS_DATE, </li>\n",
    "    <li>HQ_DIVISION. </li>\n",
    "</ol>\n",
    "The CASE_NUMBER field links these tables.\n",
    "\n",
    "The REGISTRY_ID identifier is linked to the ECHO_EXPORTER table's field of the same name.\n",
    "\n",
    "The HQ_DIVISION of interest for this notebook is 'CAA'.\n",
    "    \n",
    "**A state and congressional district must be chosen using the dropdown\n",
    "widgets that are provided.**\n",
    "\n",
    "Note:  This notebook has widgets to select the state, congressional district and facility.  Those currently work only when you **run cells one at a time sequentially, not all at once.**"
   ]
  },
  {
   "cell_type": "markdown",
   "metadata": {},
   "source": [
    "---\n",
    "---"
   ]
  },
  {
   "cell_type": "markdown",
   "metadata": {},
   "source": [
    "## How to Run\n",
    "* If you click on a gray **code** cell, a little “play button” arrow appears on the left. If you click the play button, it will run the code in that cell (“**running** a cell”). The button will animate. When the animation stops, the cell has finished running.\n",
    "![Where to click to run the cell](https://github.com/edgi-govdata-archiving/EEW-Image-Assets/blob/master/Jupyter%20instructions/pressplay.JPG?raw=true)\n",
    "* You may get a warning that the notebook was not authored by Google. We know, we authored them! It’s okay. Click “Run Anyway” to continue. \n",
    "![Error Message](https://github.com/edgi-govdata-archiving/EEW-Image-Assets/blob/master/Jupyter%20instructions/warning-message.JPG?raw=true)\n",
    "* **It is important to run cells in order because they depend on each other.**\n",
    "* Some cells, like the one shown below, will create a dropdown menu after you run them. Be sure to make a selection (for example, click to change NY to LA) before running the next cell.\n",
    "![Dropdown menu](https://github.com/edgi-govdata-archiving/EEW-Image-Assets/blob/master/Jupyter%20instructions/dropdown.JPG?raw=true)\n",
    "* Other cells will simply print information when you run them, like this one:\n",
    "![Simple cell](https://github.com/edgi-govdata-archiving/EEW-Image-Assets/blob/master/Jupyter%20instructions/cell-simple.JPG?raw=true)\n",
    "* Run all of the cells in a Notebook to make a complete report. Please feel free to look at and **learn about each result as you create it**!"
   ]
  },
  {
   "cell_type": "code",
   "execution_count": 1,
   "metadata": {},
   "outputs": [
    {
     "ename": "SyntaxError",
     "evalue": "invalid syntax (<ipython-input-1-667f777f690f>, line 1)",
     "output_type": "error",
     "traceback": [
      "\u001b[0;36m  File \u001b[0;32m\"<ipython-input-1-667f777f690f>\"\u001b[0;36m, line \u001b[0;32m1\u001b[0m\n\u001b[0;31m    ---\u001b[0m\n\u001b[0m       ^\u001b[0m\n\u001b[0;31mSyntaxError\u001b[0m\u001b[0;31m:\u001b[0m invalid syntax\n"
     ]
    }
   ],
   "source": [
    "---\n",
    "---"
   ]
  },
  {
   "cell_type": "markdown",
   "metadata": {},
   "source": [
    "# Let's Begin!\n",
    "\n",
    "### Hover over the \"[ ]\" on the top left corner of the cell below and you should see a \"play\" button appear. Click on it to run the cell then move to the next one."
   ]
  },
  {
   "cell_type": "code",
   "execution_count": 2,
   "metadata": {},
   "outputs": [],
   "source": [
    "# Import libraries\n",
    "import urllib.parse\n",
    "import pandas as pd\n",
    "import numpy as np\n",
    "import matplotlib.pyplot as plt\n",
    "%matplotlib inline\n",
    "import folium\n",
    "\n",
    "from ipywidgets import interact, interactive, fixed, interact_manual\n",
    "import ipywidgets as widgets\n",
    "from IPython.display import display\n"
   ]
  },
  {
   "cell_type": "markdown",
   "metadata": {},
   "source": [
    "### Run this next cell to create the widget for selecting states. It will create a dropdown menu at the bottom. Choose your state from the menu then move on to the next cell."
   ]
  },
  {
   "cell_type": "code",
   "execution_count": 3,
   "metadata": {},
   "outputs": [
    {
     "data": {
      "application/vnd.jupyter.widget-view+json": {
       "model_id": "d60b6994743949e0994e741724acceb5",
       "version_major": 2,
       "version_minor": 0
      },
      "text/plain": [
       "Dropdown(description='State:', index=32, options=('AL', 'AK', 'AZ', 'AR', 'CA', 'CO', 'CT', 'DC', 'DE', 'FL', …"
      ]
     },
     "metadata": {},
     "output_type": "display_data"
    }
   ],
   "source": [
    "states = [\"AL\", \"AK\", \"AZ\", \"AR\", \"CA\", \"CO\", \"CT\", \"DC\", \"DE\", \"FL\", \"GA\", \n",
    "          \"HI\", \"ID\", \"IL\", \"IN\", \"IA\", \"KS\", \"KY\", \"LA\", \"ME\", \"MD\", \n",
    "          \"MA\", \"MI\", \"MN\", \"MS\", \"MO\", \"MT\", \"NE\", \"NV\", \"NH\", \"NJ\", \n",
    "          \"NM\", \"NY\", \"NC\", \"ND\", \"OH\", \"OK\", \"OR\", \"PA\", \"RI\", \"SC\", \n",
    "          \"SD\", \"TN\", \"TX\", \"UT\", \"VT\", \"VA\", \"WA\", \"WV\", \"WI\", \"WY\"]\n",
    "dropdown_state=widgets.Dropdown(\n",
    "    options=states,\n",
    "    value='NY',\n",
    "    description='State:',\n",
    "    disabled=False,\n",
    ")\n",
    "output_state = widgets.Output()\n",
    "my_state = \"\"\n",
    "\n",
    "def dropdown_state_eventhandler( change ):\n",
    "    output_state.clear_output()\n",
    "    value = change.new\n",
    "    with output_state:\n",
    "        display( change.new )\n",
    "            \n",
    "dropdown_state.observe( dropdown_state_eventhandler, names='value')\n",
    "display( dropdown_state )"
   ]
  },
  {
   "cell_type": "markdown",
   "metadata": {},
   "source": [
    "### Run this cell after choosing a state. It will pull the data for that state from ECHO"
   ]
  },
  {
   "cell_type": "code",
   "execution_count": 4,
   "metadata": {},
   "outputs": [
    {
     "name": "stdout",
     "output_type": "stream",
     "text": [
      "select REGISTRY_ID, FAC_NAME, FAC_STATE, FAC_LAT, FAC_LONG, FAC_DERIVED_CD113  from ECHO_EXPORTER where AIR_FLAG = 'Y' and FAC_STATE = 'NY'\n",
      "http://apps.tlt.stonybrook.edu/echoepa/?query=select%20REGISTRY_ID%2C%20FAC_NAME%2C%20FAC_STATE%2C%20FAC_LAT%2C%20FAC_LONG%2C%20FAC_DERIVED_CD113%20%20from%20ECHO_EXPORTER%20where%20AIR_FLAG%20%3D%20%27Y%27%20and%20FAC_STATE%20%3D%20%27NY%27\n"
     ]
    }
   ],
   "source": [
    "my_state = dropdown_state.value\n",
    "\n",
    "sql = \"select REGISTRY_ID, FAC_NAME, FAC_STATE, FAC_LAT, FAC_LONG, FAC_DERIVED_CD113 \" + \\\n",
    "    \" from ECHO_EXPORTER where AIR_FLAG = 'Y' and FAC_STATE = '\" + my_state + \"'\"\n",
    "url='http://apps.tlt.stonybrook.edu/echoepa/?query='\n",
    "data_location=url+urllib.parse.quote(sql)\n",
    "print(sql)\n",
    "print(data_location)\n"
   ]
  },
  {
   "cell_type": "markdown",
   "metadata": {},
   "source": [
    "### Run this cell to load the CSV of that data. Then, we will be able to analyze it!"
   ]
  },
  {
   "cell_type": "code",
   "execution_count": 5,
   "metadata": {
    "scrolled": false
   },
   "outputs": [],
   "source": [
    "\n",
    "echo_data = pd.read_csv(data_location,encoding='iso-8859-1',header = 0)\n",
    "echo_data.set_index( \"REGISTRY_ID\", inplace=True)\n"
   ]
  },
  {
   "cell_type": "markdown",
   "metadata": {},
   "source": [
    "### How many facilities in the selected state are tracked under the Clean Air Act in the ICIS database?"
   ]
  },
  {
   "cell_type": "code",
   "execution_count": 6,
   "metadata": {},
   "outputs": [
    {
     "name": "stdout",
     "output_type": "stream",
     "text": [
      "There are 12464 ICIS facilities in NY tracked in the ECHO database.\n"
     ]
    }
   ],
   "source": [
    "num_facilities = echo_data.shape[0]\n",
    "print(\"There are %s ICIS facilities in %s tracked in the ECHO database.\" %(num_facilities, my_state))"
   ]
  },
  {
   "cell_type": "markdown",
   "metadata": {},
   "source": [
    "### Run this next cell to generate the Congressional District dropdown list for your state.  Then select a CD and run the following cell.\n",
    "#### Here is a map of congressional districts: https://www.govtrack.us/congress/members/map"
   ]
  },
  {
   "cell_type": "code",
   "execution_count": 7,
   "metadata": {},
   "outputs": [
    {
     "data": {
      "application/vnd.jupyter.widget-view+json": {
       "model_id": "383d20f2aefb491ab5f4dc0df871dac2",
       "version_major": 2,
       "version_minor": 0
      },
      "text/plain": [
       "Dropdown(description='Congressional Districts:', index=1, options=(0, 1, 2, 3, 4, 5, 6, 7, 8, 9, 10, 11, 12, 1…"
      ]
     },
     "metadata": {},
     "output_type": "display_data"
    }
   ],
   "source": [
    "if (( my_state != 'none' ) & (my_state != 'all' )):\n",
    "    cd_array = echo_data[\"FAC_DERIVED_CD113\"].fillna(0).astype(int).unique()\n",
    "    cd_array.sort()\n",
    "    w2=widgets.Dropdown(\n",
    "        options=cd_array,\n",
    "        value=1,\n",
    "        description='Congressional Districts:',\n",
    "        disabled=False,\n",
    "    )\n",
    "    display(w2)"
   ]
  },
  {
   "cell_type": "markdown",
   "metadata": {},
   "source": [
    "### Run this next cell after choosing a congressional district from the dropdown list.\n",
    "#### You will then see the total number of ICIS (EPA's Integrated Compliance System) facilities that are being regulated in your district under the Clean Air Act."
   ]
  },
  {
   "cell_type": "code",
   "execution_count": 8,
   "metadata": {},
   "outputs": [
    {
     "name": "stdout",
     "output_type": "stream",
     "text": [
      "There are 400 ICIS facilities in NY district 1 tracked in the ECHO database.\n"
     ]
    }
   ],
   "source": [
    "my_cd = w2.value\n",
    "my_cd_facs = echo_data[echo_data[\"FAC_DERIVED_CD113\"].fillna(0).astype(int) == my_cd]\n",
    "num_facilities = my_cd_facs.shape[0]    \n",
    "print(\"There are %s ICIS facilities in %s district %s tracked in the ECHO database.\" %(num_facilities, my_state, my_cd))"
   ]
  },
  {
   "cell_type": "markdown",
   "metadata": {},
   "source": [
    "### Next run the next few cells to look up the formal enforcement history for the facilities in the selected state and congressional district.  This step may take a while to run."
   ]
  },
  {
   "cell_type": "code",
   "execution_count": 9,
   "metadata": {},
   "outputs": [
    {
     "name": "stdout",
     "output_type": "stream",
     "text": [
      "select CF.REGISTRY_ID, CE.FISCAL_YEAR, CE.CASE_STATUS_DATE from `CASE_FACILITIES` CF, `CASE_ENFORCEMENTS` CE where CE.HQ_DIVISION = 'AIR' and CE.CASE_NUMBER = CF.CASE_NUMBER\n",
      "http://apps.tlt.stonybrook.edu/echoepa/?query=select%20CF.REGISTRY_ID%2C%20CE.FISCAL_YEAR%2C%20CE.CASE_STATUS_DATE%20from%20%60CASE_FACILITIES%60%20CF%2C%20%60CASE_ENFORCEMENTS%60%20CE%20where%20CE.HQ_DIVISION%20%3D%20%27AIR%27%20and%20CE.CASE_NUMBER%20%3D%20CF.CASE_NUMBER\n"
     ]
    }
   ],
   "source": [
    "# sql = \"select PGM_SYS_ID, STATE_EPA_FLAG, AGENCY_TYPE_DESC, COMP_MONITOR_DESC, ACTUAL_END_DATE from `ICIS-AIR_FCES_PCES` where STATE_CODE='\" + my_state + \"'\"\n",
    "url='http://apps.tlt.stonybrook.edu/echoepa/?query='\n",
    "\n",
    "sql = \"select CF.REGISTRY_ID, CE.FISCAL_YEAR, CE.CASE_STATUS_DATE from `CASE_FACILITIES` CF, `CASE_ENFORCEMENTS` CE\" + \\\n",
    "   \" where CE.HQ_DIVISION = 'AIR' and CE.CASE_NUMBER = CF.CASE_NUMBER\"\n",
    "data_location=url+urllib.parse.quote(sql)\n",
    "print(sql)\n",
    "print(data_location)"
   ]
  },
  {
   "cell_type": "code",
   "execution_count": 10,
   "metadata": {},
   "outputs": [],
   "source": [
    "icis_data = pd.read_csv(data_location,encoding='iso-8859-1',header = 0)\n",
    "icis_data.set_index( \"REGISTRY_ID\", inplace=True)"
   ]
  },
  {
   "cell_type": "code",
   "execution_count": 11,
   "metadata": {
    "scrolled": true
   },
   "outputs": [],
   "source": [
    "# Find the facility that matches the inspection, by REGISTRY_ID.\n",
    "\n",
    "my_cd_icis = pd.DataFrame()\n",
    "no_data_ids = []\n",
    "# Look through all facilities in my CD.\n",
    "for fac in my_cd_facs.itertuples():\n",
    "    # breakpoint()\n",
    "    fac_id = fac.Index\n",
    "    try:\n",
    "        enforcements = icis_data.loc[ fac_id ].copy()\n",
    "        # breakpoint()\n",
    "        n = enforcements.shape[0]\n",
    "        fac_list = [fac.Index] * n\n",
    "        enforcements['facility'] = fac_list\n",
    "        frames = [my_cd_icis, enforcements]\n",
    "        my_cd_icis = pd.concat( frames, ignore_index=False )\n",
    "    except KeyError:\n",
    "        # The facility wasn't found in the ICIS_FEC_EPA_INSPECTIONS data.\n",
    "        no_data_ids.append( fac.Index )\n",
    "    \n",
    "# my_cd_icis.to_csv( r'my_cd_enforcements.csv', index=True, header=True )\n",
    "# with open( \"no_data_ids.txt\", \"w\" ) as output:\n",
    "#     output.write( str( no_data_ids ))"
   ]
  },
  {
   "cell_type": "markdown",
   "metadata": {},
   "source": [
    "### How many facilities have received enforcement actions?\n",
    "\n",
    "#### The table that follows lists the ID, date, and facility ID of each formal enforcement action tracked in the database."
   ]
  },
  {
   "cell_type": "code",
   "execution_count": 12,
   "metadata": {},
   "outputs": [
    {
     "name": "stdout",
     "output_type": "stream",
     "text": [
      "Facilities without enforcements: 397\n",
      "Facilities with enforcements: 30\n"
     ]
    },
    {
     "data": {
      "text/html": [
       "<div>\n",
       "<style scoped>\n",
       "    .dataframe tbody tr th:only-of-type {\n",
       "        vertical-align: middle;\n",
       "    }\n",
       "\n",
       "    .dataframe tbody tr th {\n",
       "        vertical-align: top;\n",
       "    }\n",
       "\n",
       "    .dataframe thead th {\n",
       "        text-align: right;\n",
       "    }\n",
       "</style>\n",
       "<table border=\"1\" class=\"dataframe\">\n",
       "  <thead>\n",
       "    <tr style=\"text-align: right;\">\n",
       "      <th></th>\n",
       "      <th>FISCAL_YEAR</th>\n",
       "      <th>CASE_STATUS_DATE</th>\n",
       "      <th>facility</th>\n",
       "    </tr>\n",
       "    <tr>\n",
       "      <th>REGISTRY_ID</th>\n",
       "      <th></th>\n",
       "      <th></th>\n",
       "      <th></th>\n",
       "    </tr>\n",
       "  </thead>\n",
       "  <tbody>\n",
       "    <tr>\n",
       "      <th>110001585990</th>\n",
       "      <td>1986</td>\n",
       "      <td>11/17/1987</td>\n",
       "      <td>1.100016e+11</td>\n",
       "    </tr>\n",
       "    <tr>\n",
       "      <th>110001585990</th>\n",
       "      <td>1986</td>\n",
       "      <td>11/17/1987</td>\n",
       "      <td>1.100016e+11</td>\n",
       "    </tr>\n",
       "    <tr>\n",
       "      <th>110000616726</th>\n",
       "      <td>1998</td>\n",
       "      <td>02/24/1998</td>\n",
       "      <td>1.100006e+11</td>\n",
       "    </tr>\n",
       "    <tr>\n",
       "      <th>110000616726</th>\n",
       "      <td>1998</td>\n",
       "      <td>02/24/1998</td>\n",
       "      <td>1.100006e+11</td>\n",
       "    </tr>\n",
       "    <tr>\n",
       "      <th>110000616726</th>\n",
       "      <td>1998</td>\n",
       "      <td>02/24/1998</td>\n",
       "      <td>1.100006e+11</td>\n",
       "    </tr>\n",
       "    <tr>\n",
       "      <th>110000616726</th>\n",
       "      <td>1998</td>\n",
       "      <td>02/24/1998</td>\n",
       "      <td>1.100006e+11</td>\n",
       "    </tr>\n",
       "    <tr>\n",
       "      <th>110000616726</th>\n",
       "      <td>1998</td>\n",
       "      <td>02/24/1998</td>\n",
       "      <td>1.100006e+11</td>\n",
       "    </tr>\n",
       "    <tr>\n",
       "      <th>110000616726</th>\n",
       "      <td>1998</td>\n",
       "      <td>02/24/1998</td>\n",
       "      <td>1.100006e+11</td>\n",
       "    </tr>\n",
       "    <tr>\n",
       "      <th>110000616726</th>\n",
       "      <td>1998</td>\n",
       "      <td>02/24/1998</td>\n",
       "      <td>1.100006e+11</td>\n",
       "    </tr>\n",
       "    <tr>\n",
       "      <th>110000616726</th>\n",
       "      <td>1998</td>\n",
       "      <td>02/24/1998</td>\n",
       "      <td>1.100006e+11</td>\n",
       "    </tr>\n",
       "    <tr>\n",
       "      <th>110000616726</th>\n",
       "      <td>1998</td>\n",
       "      <td>02/24/1998</td>\n",
       "      <td>1.100006e+11</td>\n",
       "    </tr>\n",
       "    <tr>\n",
       "      <th>110000616726</th>\n",
       "      <td>1998</td>\n",
       "      <td>02/24/1998</td>\n",
       "      <td>1.100006e+11</td>\n",
       "    </tr>\n",
       "    <tr>\n",
       "      <th>110000616726</th>\n",
       "      <td>1998</td>\n",
       "      <td>02/24/1998</td>\n",
       "      <td>1.100006e+11</td>\n",
       "    </tr>\n",
       "    <tr>\n",
       "      <th>110000616726</th>\n",
       "      <td>1998</td>\n",
       "      <td>02/24/1998</td>\n",
       "      <td>1.100006e+11</td>\n",
       "    </tr>\n",
       "    <tr>\n",
       "      <th>110000616726</th>\n",
       "      <td>1998</td>\n",
       "      <td>02/24/1998</td>\n",
       "      <td>1.100006e+11</td>\n",
       "    </tr>\n",
       "    <tr>\n",
       "      <th>110000616726</th>\n",
       "      <td>1998</td>\n",
       "      <td>02/24/1998</td>\n",
       "      <td>1.100006e+11</td>\n",
       "    </tr>\n",
       "    <tr>\n",
       "      <th>110000616726</th>\n",
       "      <td>1998</td>\n",
       "      <td>02/24/1998</td>\n",
       "      <td>1.100006e+11</td>\n",
       "    </tr>\n",
       "    <tr>\n",
       "      <th>110000616726</th>\n",
       "      <td>1998</td>\n",
       "      <td>02/24/1998</td>\n",
       "      <td>1.100006e+11</td>\n",
       "    </tr>\n",
       "    <tr>\n",
       "      <th>110000616726</th>\n",
       "      <td>1998</td>\n",
       "      <td>02/28/1998</td>\n",
       "      <td>1.100006e+11</td>\n",
       "    </tr>\n",
       "    <tr>\n",
       "      <th>110000616726</th>\n",
       "      <td>1998</td>\n",
       "      <td>02/28/1998</td>\n",
       "      <td>1.100006e+11</td>\n",
       "    </tr>\n",
       "    <tr>\n",
       "      <th>110000616726</th>\n",
       "      <td>1998</td>\n",
       "      <td>02/28/1998</td>\n",
       "      <td>1.100006e+11</td>\n",
       "    </tr>\n",
       "    <tr>\n",
       "      <th>110000616726</th>\n",
       "      <td>1998</td>\n",
       "      <td>02/28/1998</td>\n",
       "      <td>1.100006e+11</td>\n",
       "    </tr>\n",
       "    <tr>\n",
       "      <th>110000616726</th>\n",
       "      <td>1998</td>\n",
       "      <td>02/28/1998</td>\n",
       "      <td>1.100006e+11</td>\n",
       "    </tr>\n",
       "    <tr>\n",
       "      <th>110000616726</th>\n",
       "      <td>1998</td>\n",
       "      <td>02/28/1998</td>\n",
       "      <td>1.100006e+11</td>\n",
       "    </tr>\n",
       "    <tr>\n",
       "      <th>110000616726</th>\n",
       "      <td>1998</td>\n",
       "      <td>02/28/1998</td>\n",
       "      <td>1.100006e+11</td>\n",
       "    </tr>\n",
       "    <tr>\n",
       "      <th>110000616726</th>\n",
       "      <td>1998</td>\n",
       "      <td>02/28/1998</td>\n",
       "      <td>1.100006e+11</td>\n",
       "    </tr>\n",
       "    <tr>\n",
       "      <th>110042050197</th>\n",
       "      <td>1996</td>\n",
       "      <td>09/24/1996</td>\n",
       "      <td>1.100421e+11</td>\n",
       "    </tr>\n",
       "    <tr>\n",
       "      <th>110042050197</th>\n",
       "      <td>1996</td>\n",
       "      <td>09/24/1996</td>\n",
       "      <td>1.100421e+11</td>\n",
       "    </tr>\n",
       "    <tr>\n",
       "      <th>110042050197</th>\n",
       "      <td>1996</td>\n",
       "      <td>09/24/1996</td>\n",
       "      <td>1.100421e+11</td>\n",
       "    </tr>\n",
       "    <tr>\n",
       "      <th>110042050197</th>\n",
       "      <td>1996</td>\n",
       "      <td>09/24/1996</td>\n",
       "      <td>1.100421e+11</td>\n",
       "    </tr>\n",
       "  </tbody>\n",
       "</table>\n",
       "</div>"
      ],
      "text/plain": [
       "              FISCAL_YEAR CASE_STATUS_DATE      facility\n",
       "REGISTRY_ID                                             \n",
       "110001585990         1986       11/17/1987  1.100016e+11\n",
       "110001585990         1986       11/17/1987  1.100016e+11\n",
       "110000616726         1998       02/24/1998  1.100006e+11\n",
       "110000616726         1998       02/24/1998  1.100006e+11\n",
       "110000616726         1998       02/24/1998  1.100006e+11\n",
       "110000616726         1998       02/24/1998  1.100006e+11\n",
       "110000616726         1998       02/24/1998  1.100006e+11\n",
       "110000616726         1998       02/24/1998  1.100006e+11\n",
       "110000616726         1998       02/24/1998  1.100006e+11\n",
       "110000616726         1998       02/24/1998  1.100006e+11\n",
       "110000616726         1998       02/24/1998  1.100006e+11\n",
       "110000616726         1998       02/24/1998  1.100006e+11\n",
       "110000616726         1998       02/24/1998  1.100006e+11\n",
       "110000616726         1998       02/24/1998  1.100006e+11\n",
       "110000616726         1998       02/24/1998  1.100006e+11\n",
       "110000616726         1998       02/24/1998  1.100006e+11\n",
       "110000616726         1998       02/24/1998  1.100006e+11\n",
       "110000616726         1998       02/24/1998  1.100006e+11\n",
       "110000616726         1998       02/28/1998  1.100006e+11\n",
       "110000616726         1998       02/28/1998  1.100006e+11\n",
       "110000616726         1998       02/28/1998  1.100006e+11\n",
       "110000616726         1998       02/28/1998  1.100006e+11\n",
       "110000616726         1998       02/28/1998  1.100006e+11\n",
       "110000616726         1998       02/28/1998  1.100006e+11\n",
       "110000616726         1998       02/28/1998  1.100006e+11\n",
       "110000616726         1998       02/28/1998  1.100006e+11\n",
       "110042050197         1996       09/24/1996  1.100421e+11\n",
       "110042050197         1996       09/24/1996  1.100421e+11\n",
       "110042050197         1996       09/24/1996  1.100421e+11\n",
       "110042050197         1996       09/24/1996  1.100421e+11"
      ]
     },
     "execution_count": 12,
     "metadata": {},
     "output_type": "execute_result"
    }
   ],
   "source": [
    "\n",
    "print( \"Facilities without enforcements: \" + str( len( no_data_ids )))\n",
    "print( \"Facilities with enforcements: \" + str( len( my_cd_icis )))\n",
    "my_cd_icis"
   ]
  },
  {
   "cell_type": "markdown",
   "metadata": {},
   "source": [
    "## This section saves some of this data to a CSV file in your Google Drive.\n",
    "The first of the next three cells will open our Google Drive to write into.\n",
    "The second cell writes the congressional district file.\n",
    "The third cell writes the file for state data.\n",
    "**Running these cells is optional.**"
   ]
  },
  {
   "cell_type": "code",
   "execution_count": null,
   "metadata": {},
   "outputs": [],
   "source": [
    "from google.colab import drive\n",
    "drive.mount('/content/drive')"
   ]
  },
  {
   "cell_type": "markdown",
   "metadata": {},
   "source": [
    "Write the congressional district data to CSV file."
   ]
  },
  {
   "cell_type": "code",
   "execution_count": null,
   "metadata": {},
   "outputs": [],
   "source": [
    "filename = '/content/drive/My Drive/cd_air-enforce-' + my_state + '-' + str( my_cd ) + '.csv'\n",
    "my_cd_icis.to_csv( filename ) \n",
    "print( \"Writing this data to %s\" %(filename))"
   ]
  },
  {
   "cell_type": "markdown",
   "metadata": {},
   "source": [
    "Write the state data to CSV file."
   ]
  },
  {
   "cell_type": "code",
   "execution_count": null,
   "metadata": {},
   "outputs": [],
   "source": [
    "filename = '/content/drive/My Drive/state-air-enforce-' + my_state + '.csv'\n",
    "icis_data.to_csv( filename ) \n",
    "print( \"Writing this data to %s\" %(filename))"
   ]
  },
  {
   "cell_type": "markdown",
   "metadata": {},
   "source": [
    "## Make an interactive map of facilities that have received enforcement actions\n",
    "### Once you run this cell, a map should appear. You can zoom in and out, or click on facilities to get their names."
   ]
  },
  {
   "cell_type": "code",
   "execution_count": 14,
   "metadata": {},
   "outputs": [
    {
     "data": {
      "text/html": [
       "<div style=\"width:100%;\"><div style=\"position:relative;width:100%;height:0;padding-bottom:60%;\"><iframe src=\"data:text/html;charset=utf-8;base64,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\" style=\"position:absolute;width:100%;height:100%;left:0;top:0;border:none !important;\" allowfullscreen webkitallowfullscreen mozallowfullscreen></iframe></div></div>"
      ],
      "text/plain": [
       "<folium.folium.Map at 0x1107ca0d0>"
      ]
     },
     "execution_count": 14,
     "metadata": {},
     "output_type": "execute_result"
    }
   ],
   "source": [
    "# Let's show a quick map of your area and the facilities in it\n",
    "\n",
    "def mapper(df):\n",
    "    # Initialize the map\n",
    "    m = folium.Map(\n",
    "        location = [df.mean()[\"FAC_LAT\"], df.mean()[\"FAC_LONG\"]],\n",
    "        zoom_start = 11\n",
    "    )\n",
    "\n",
    "    # Add a clickable marker for each facility\n",
    "    for index, row in df.iterrows():\n",
    "        folium.Marker(\n",
    "            location = [row[\"FAC_LAT\"], row[\"FAC_LONG\"]],\n",
    "            popup = row[\"FAC_NAME\"] ).add_to(m)\n",
    "\n",
    "    # Show the map\n",
    "    return m\n",
    "\n",
    "fac_idx_list = my_cd_icis['facility'].dropna()\n",
    "fac_cd_icis = my_cd_facs.loc[fac_idx_list]\n",
    "\n",
    "map_of_facilities_in_my_area = mapper(fac_cd_icis)\n",
    "map_of_facilities_in_my_area"
   ]
  },
  {
   "cell_type": "markdown",
   "metadata": {},
   "source": [
    "## Enforcement actions by facility\n",
    "### Run the below cell, then choose a facility from the dropdown that appears to delve deeper into enforcement actions at that facility."
   ]
  },
  {
   "cell_type": "code",
   "execution_count": null,
   "metadata": {},
   "outputs": [],
   "source": [
    "cd_array = fac_cd_icis[\"FAC_NAME\"].unique()\n",
    "cd_array.sort()"
   ]
  },
  {
   "cell_type": "code",
   "execution_count": null,
   "metadata": {},
   "outputs": [],
   "source": [
    "w3=widgets.Dropdown(\n",
    "    options=cd_array,\n",
    "    description='Facility Name:',\n",
    "    disabled=False,\n",
    ")\n",
    "display(w3)"
   ]
  },
  {
   "cell_type": "markdown",
   "metadata": {},
   "source": [
    "Run this next cell after choosing a facility."
   ]
  },
  {
   "cell_type": "code",
   "execution_count": null,
   "metadata": {},
   "outputs": [],
   "source": [
    "my_fac = fac_cd_icis[fac_cd_icis[\"FAC_NAME\"] == w3.value]\n",
    "enforcements = my_cd_icis[my_cd_icis['facility'] == my_fac.iloc[[0]].index[0]]"
   ]
  },
  {
   "cell_type": "markdown",
   "metadata": {},
   "source": [
    "## Plot the number of enforcements by year for the congressional district."
   ]
  },
  {
   "cell_type": "code",
   "execution_count": null,
   "metadata": {},
   "outputs": [],
   "source": [
    "# This cell creates a function that will be used by both the CD and the state\n",
    "# to plot the number of cases by year.\n",
    "import datetime\n",
    "\n",
    "def show_plot( df, date_field, year_field, place, date_format, chart_title ):\n",
    "    format_str = date_format # The format\n",
    "    nan_count = 0\n",
    "    year_col = []\n",
    "    for day in df[date_field]:\n",
    "        try:\n",
    "            # breakpoint()\n",
    "            viol_year = datetime.datetime.strptime(day, format_str).year\n",
    "            year_col.append( viol_year )\n",
    "        except:\n",
    "            nan_count += 1\n",
    "            year_col.append(  np.NaN )\n",
    "    df[year_field] = year_col\n",
    "    \n",
    "    year_groups = df.groupby( year_field )[[ year_field ]]\n",
    "    counted_years = year_groups.count()\n",
    "\n",
    "    # Print how many values are present \n",
    "    print(counted_years)\n",
    "    chart_title +=  \" in \" + place + \" by year\"\n",
    "\n",
    "    ax = counted_years[[year_field]].plot(kind='bar', title = chart_title, figsize=(15, 10), legend=False, fontsize=12)\n",
    "    ax.set_xlabel(\"Year\", fontsize=12)\n",
    "    ax.set_ylabel(\"Count\", fontsize=12)\n",
    "\n",
    "chart_title = \"Total CAA enforcements\"\n",
    "\n",
    "show_plot( my_cd_icis, 'CASE_STATUS_DATE', 'CASE_STATUS_YEAR', \\\n",
    "          my_state + ' - #' + str( my_cd ), \"%m/%d/%Y\", chart_title )"
   ]
  },
  {
   "cell_type": "markdown",
   "metadata": {},
   "source": [
    "## Plot the number of enforcements by year, using the entire state.\n",
    "Since the number of enforcements in a single CD may be small, it can be more\n",
    "interesting to look at the entire state."
   ]
  },
  {
   "cell_type": "code",
   "execution_count": null,
   "metadata": {},
   "outputs": [],
   "source": [
    "chart_title = \"Total CAA enforcements\"\n",
    "\n",
    "show_plot( icis_data, 'CASE_STATUS_DATE', 'CASE_STATUS_YEAR', my_state, \\\n",
    "          \"%m/%d/%Y\", chart_title )"
   ]
  },
  {
   "cell_type": "code",
   "execution_count": null,
   "metadata": {},
   "outputs": [],
   "source": []
  }
 ],
 "metadata": {
  "kernelspec": {
   "display_name": "Python 3",
   "language": "python",
   "name": "python3"
  },
  "language_info": {
   "codemirror_mode": {
    "name": "ipython",
    "version": 3
   },
   "file_extension": ".py",
   "mimetype": "text/x-python",
   "name": "python",
   "nbconvert_exporter": "python",
   "pygments_lexer": "ipython3",
   "version": "3.7.4"
  }
 },
 "nbformat": 4,
 "nbformat_minor": 4
}
