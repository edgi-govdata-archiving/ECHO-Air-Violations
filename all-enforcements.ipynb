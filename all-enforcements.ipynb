{
 "cells": [
  {
   "cell_type": "markdown",
   "metadata": {},
   "source": [
    "Note:  This notebook has widgets to select the state, congressional district and facility.  Those currently work only when the cells are run one at a time sequentially, not all at once."
   ]
  },
  {
   "cell_type": "markdown",
   "metadata": {},
   "source": [
    "## All Enforcements by Congressional District\n",
    "\n",
    "This notebook examines ECHO data using CASE_FACILITIES and CASE_ENFORCEMENTS.\n",
    "The CASE_NUMBER FIELD links these two tables.  Facilities within the congressional district are identified via the ECHO_EXPORTER data set, with the REGISTRY_ID of ECHO_EXPORTER matched against the same field of CASE_FACILITIES.\n",
    "HQ_DIVISION identifies the program of the enforcement, and CASE_STATUS_DATE is taken to be the date the enforcement was concluded.\n",
    "\n",
    "\n",
    "A state and congressional district must be chosen using the dropdown\n",
    "widgets that are provided."
   ]
  },
  {
   "cell_type": "code",
   "execution_count": 8,
   "metadata": {},
   "outputs": [],
   "source": [
    "# Import libraries\n",
    "import urllib.parse\n",
    "import pandas as pd\n",
    "import numpy as np\n",
    "import matplotlib.pyplot as plt\n",
    "%matplotlib inline\n",
    "import folium\n",
    "\n",
    "from ipywidgets import interact, interactive, fixed, interact_manual\n",
    "import ipywidgets as widgets\n",
    "from IPython.display import display\n"
   ]
  },
  {
   "cell_type": "markdown",
   "metadata": {},
   "source": [
    "Run this next cell, select a state, and then run the following cell."
   ]
  },
  {
   "cell_type": "code",
   "execution_count": 9,
   "metadata": {},
   "outputs": [
    {
     "data": {
      "application/vnd.jupyter.widget-view+json": {
       "model_id": "a52e14a931774ce4b0deccaf2d06064d",
       "version_major": 2,
       "version_minor": 0
      },
      "text/plain": [
       "Dropdown(description='State:', index=32, options=('AL', 'AK', 'AZ', 'AR', 'CA', 'CO', 'CT', 'DC', 'DE', 'FL', …"
      ]
     },
     "metadata": {},
     "output_type": "display_data"
    }
   ],
   "source": [
    "states = [\"AL\", \"AK\", \"AZ\", \"AR\", \"CA\", \"CO\", \"CT\", \"DC\", \"DE\", \"FL\", \"GA\", \n",
    "          \"HI\", \"ID\", \"IL\", \"IN\", \"IA\", \"KS\", \"KY\", \"LA\", \"ME\", \"MD\", \n",
    "          \"MA\", \"MI\", \"MN\", \"MS\", \"MO\", \"MT\", \"NE\", \"NV\", \"NH\", \"NJ\", \n",
    "          \"NM\", \"NY\", \"NC\", \"ND\", \"OH\", \"OK\", \"OR\", \"PA\", \"RI\", \"SC\", \n",
    "          \"SD\", \"TN\", \"TX\", \"UT\", \"VT\", \"VA\", \"WA\", \"WV\", \"WI\", \"WY\"]\n",
    "dropdown_state=widgets.Dropdown(\n",
    "    options=states,\n",
    "    value='NY',\n",
    "    description='State:',\n",
    "    disabled=False,\n",
    ")\n",
    "output_state = widgets.Output()\n",
    "my_state = \"\"\n",
    "\n",
    "def dropdown_state_eventhandler( change ):\n",
    "    output_state.clear_output()\n",
    "    value = change.new\n",
    "    with output_state:\n",
    "        display( change.new )\n",
    "            \n",
    "dropdown_state.observe( dropdown_state_eventhandler, names='value')\n",
    "display( dropdown_state )"
   ]
  },
  {
   "cell_type": "markdown",
   "metadata": {},
   "source": [
    "Run this next cell after choosing a state."
   ]
  },
  {
   "cell_type": "code",
   "execution_count": 38,
   "metadata": {},
   "outputs": [
    {
     "name": "stdout",
     "output_type": "stream",
     "text": [
      "select REGISTRY_ID, FAC_NAME, FAC_STATE, FAC_LAT, FAC_LONG, AIR_IDS, FAC_DERIVED_CD113  from ECHO_EXPORTER where AIR_FLAG = 'Y' and FAC_STATE = 'NY'\n",
      "http://apps.tlt.stonybrook.edu/echoepa/?query=select%20REGISTRY_ID%2C%20FAC_NAME%2C%20FAC_STATE%2C%20FAC_LAT%2C%20FAC_LONG%2C%20AIR_IDS%2C%20FAC_DERIVED_CD113%20%20from%20ECHO_EXPORTER%20where%20AIR_FLAG%20%3D%20%27Y%27%20and%20FAC_STATE%20%3D%20%27NY%27\n"
     ]
    }
   ],
   "source": [
    "my_state = dropdown_state.value\n",
    "\n",
    "sql = \"select REGISTRY_ID, FAC_NAME, FAC_STATE, FAC_LAT, FAC_LONG, AIR_IDS, FAC_DERIVED_CD113 \" + \\\n",
    "    \" from ECHO_EXPORTER where AIR_FLAG = 'Y' and FAC_STATE = '\" + my_state + \"'\" \n",
    "url='http://apps.tlt.stonybrook.edu/echoepa/?query='\n",
    "data_location=url+urllib.parse.quote(sql)\n",
    "print(sql)\n",
    "print(data_location)\n"
   ]
  },
  {
   "cell_type": "code",
   "execution_count": 39,
   "metadata": {
    "scrolled": false
   },
   "outputs": [],
   "source": [
    "try:\n",
    "    echo_data = pd.read_csv(data_location,encoding='iso-8859-1',header = 0)\n",
    "    echo_data.set_index( \"REGISTRY_ID\", inplace=True)\n",
    "except:\n",
    "    print( \"No data for \" + my_state )"
   ]
  },
  {
   "cell_type": "markdown",
   "metadata": {},
   "source": [
    "Run this next cell after choosing a state from the dropdown list."
   ]
  },
  {
   "cell_type": "code",
   "execution_count": 40,
   "metadata": {},
   "outputs": [
    {
     "name": "stdout",
     "output_type": "stream",
     "text": [
      "There are 12464 facilities in NY tracked in the ECHO database.\n"
     ]
    }
   ],
   "source": [
    "num_facilities = echo_data.shape[0]\n",
    "print(\"There are %s facilities in %s tracked in the ECHO database.\" %(num_facilities, my_state))"
   ]
  },
  {
   "cell_type": "markdown",
   "metadata": {},
   "source": [
    "Run this next cell to generate the Congressional District dropdown list for your state.  Then select a CD and run the following cell.\n",
    "Here is a map of congressional districts: https://www.govtrack.us/congress/members/map"
   ]
  },
  {
   "cell_type": "code",
   "execution_count": 42,
   "metadata": {},
   "outputs": [
    {
     "data": {
      "application/vnd.jupyter.widget-view+json": {
       "model_id": "33f833dc5b764062ae097f1e54dde5fb",
       "version_major": 2,
       "version_minor": 0
      },
      "text/plain": [
       "Dropdown(description='Congressional Districts:', index=1, options=(0, 1, 2, 3, 4, 5, 6, 7, 8, 9, 10, 11, 12, 1…"
      ]
     },
     "metadata": {},
     "output_type": "display_data"
    }
   ],
   "source": [
    "if (( my_state != 'none' ) & (my_state != 'all' )):\n",
    "    cd_array = echo_data[\"FAC_DERIVED_CD113\"].fillna(0).astype(int).unique()\n",
    "    cd_array.sort()\n",
    "    w2=widgets.Dropdown(\n",
    "        options=cd_array,\n",
    "        value=1,\n",
    "        description='Congressional Districts:',\n",
    "        disabled=False,\n",
    "    )\n",
    "    display(w2)"
   ]
  },
  {
   "cell_type": "markdown",
   "metadata": {},
   "source": [
    "\n",
    "\n",
    "Run this next cell after choosing a congressional district from the dropdown list."
   ]
  },
  {
   "cell_type": "code",
   "execution_count": 43,
   "metadata": {},
   "outputs": [
    {
     "name": "stdout",
     "output_type": "stream",
     "text": [
      "There are 400 ICIS facilities in NY district 1 tracked in the ECHO database.\n"
     ]
    }
   ],
   "source": [
    "my_cd = w2.value\n",
    "my_cd_facs = echo_data[echo_data[\"FAC_DERIVED_CD113\"].fillna(0).astype(int) == my_cd]\n",
    "num_facilities = my_cd_facs.shape[0]    \n",
    "print(\"There are %s ICIS facilities in %s district %s tracked in the ECHO database.\" %(num_facilities, my_state, my_cd))"
   ]
  },
  {
   "cell_type": "markdown",
   "metadata": {},
   "source": [
    "Next look up the violation history for the facilities in the selected\n",
    "state and congressional district.  This step may take awhile."
   ]
  },
  {
   "cell_type": "code",
   "execution_count": 44,
   "metadata": {},
   "outputs": [],
   "source": [
    "sql = \"select cf.REGISTRY_ID, cf.CASE_NUMBER, ce.FISCAL_YEAR, ce.HQ_DIVISION, ce.TOTAL_PENALTY_ASSESSED_AMT \" + \\\n",
    "    \" from CASE_FACILITIES cf, CASE_ENFORCEMENTS ce where cf.CASE_NUMBER = ce.CASE_NUMBER \" + \\\n",
    "    \" and cf.STATE_CODE = '\" + my_state + \"'\"\n",
    "\n",
    "url='http://apps.tlt.stonybrook.edu/echoepa/?query='\n",
    "data_location=url+urllib.parse.quote(sql)\n",
    "\n",
    "case_data = pd.read_csv(data_location,encoding='iso-8859-1',header = 0)\n",
    "case_data.set_index( \"REGISTRY_ID\", inplace=True)\n"
   ]
  },
  {
   "cell_type": "code",
   "execution_count": 70,
   "metadata": {},
   "outputs": [],
   "source": [
    "case_fac_data = pd.merge( my_cd_facs, case_data, on='REGISTRY_ID' )\n",
    "case_facs = case_fac_data[['FAC_NAME', 'FAC_LAT', 'FAC_LONG']].drop_duplicates()\n",
    "state_case_fac_data = pd.merge( echo_data, case_data, on='REGISTRY_ID' )\n",
    "state_case_facs = state_case_fac_data[['FAC_NAME', 'FAC_LAT', 'FAC_LONG']].drop_duplicates()"
   ]
  },
  {
   "cell_type": "code",
   "execution_count": 71,
   "metadata": {},
   "outputs": [
    {
     "name": "stdout",
     "output_type": "stream",
     "text": [
      "There are 13 facilities with 116 EPA enforcements in the CD.\n",
      "There are 820 facilities with 2256 EPA enforcements in the state.\n"
     ]
    }
   ],
   "source": [
    "print( \"There are %s facilities with %s EPA enforcements in the district.\" %(len(case_facs), len(case_fac_data)))\n",
    "print( \"There are %s facilities with %s EPA enforcements in the state.\" %(len(state_case_facs), len(state_case_fac_data)))"
   ]
  },
  {
   "cell_type": "markdown",
   "metadata": {},
   "source": [
    "Map the facilities that have had these enforcement actions."
   ]
  },
  {
   "cell_type": "code",
   "execution_count": 57,
   "metadata": {},
   "outputs": [
    {
     "data": {
      "text/html": [
       "<div style=\"width:100%;\"><div style=\"position:relative;width:100%;height:0;padding-bottom:60%;\"><iframe src=\"data:text/html;charset=utf-8;base64,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\" style=\"position:absolute;width:100%;height:100%;left:0;top:0;border:none !important;\" allowfullscreen webkitallowfullscreen mozallowfullscreen></iframe></div></div>"
      ],
      "text/plain": [
       "<folium.folium.Map at 0x7f9a22013ad0>"
      ]
     },
     "execution_count": 57,
     "metadata": {},
     "output_type": "execute_result"
    }
   ],
   "source": [
    "# Let's show a quick map of your area and the facilities in it\n",
    "\n",
    "def mapper(df):\n",
    "    # Initialize the map\n",
    "    m = folium.Map(\n",
    "        location = [df.mean()[\"FAC_LAT\"], df.mean()[\"FAC_LONG\"]],\n",
    "        zoom_start = 9\n",
    "    )\n",
    "\n",
    "    # Add a clickable marker for each facility\n",
    "    for index, row in df.iterrows():\n",
    "        folium.Marker(\n",
    "            location = [row[\"FAC_LAT\"], row[\"FAC_LONG\"]],\n",
    "            popup = row[\"FAC_NAME\"] ).add_to(m)\n",
    "\n",
    "    # Show the map\n",
    "    return m\n",
    "\n",
    "map_of_facilities_in_my_area = mapper(case_facs)\n",
    "map_of_facilities_in_my_area"
   ]
  },
  {
   "cell_type": "markdown",
   "metadata": {},
   "source": [
    "Present another dropdown with the list of names of the facilities.  Choosing a facility will display\n",
    "the violations."
   ]
  },
  {
   "cell_type": "code",
   "execution_count": 61,
   "metadata": {},
   "outputs": [
    {
     "data": {
      "application/vnd.jupyter.widget-view+json": {
       "model_id": "8f071f60797e434ba5eb6366db0da31c",
       "version_major": 2,
       "version_minor": 0
      },
      "text/plain": [
       "Dropdown(description='Facility Name:', options=('ALADDIN PACKAGING LLC', 'AMNEAL PHARMACEUTICALS OF NY', 'BROO…"
      ]
     },
     "metadata": {},
     "output_type": "display_data"
    }
   ],
   "source": [
    "cd_array = case_fac_data[\"FAC_NAME\"].unique()\n",
    "cd_array.sort()\n",
    "\n",
    "w3=widgets.Dropdown(\n",
    "    options=cd_array,\n",
    "    description='Facility Name:',\n",
    "    disabled=False,\n",
    ")\n",
    "display(w3)"
   ]
  },
  {
   "cell_type": "markdown",
   "metadata": {},
   "source": [
    "Run this next cell after choosing a facility."
   ]
  },
  {
   "cell_type": "code",
   "execution_count": 67,
   "metadata": {},
   "outputs": [
    {
     "data": {
      "text/html": [
       "<div>\n",
       "<style scoped>\n",
       "    .dataframe tbody tr th:only-of-type {\n",
       "        vertical-align: middle;\n",
       "    }\n",
       "\n",
       "    .dataframe tbody tr th {\n",
       "        vertical-align: top;\n",
       "    }\n",
       "\n",
       "    .dataframe thead th {\n",
       "        text-align: right;\n",
       "    }\n",
       "</style>\n",
       "<table border=\"1\" class=\"dataframe\">\n",
       "  <thead>\n",
       "    <tr style=\"text-align: right;\">\n",
       "      <th></th>\n",
       "      <th>FAC_NAME</th>\n",
       "      <th>FISCAL_YEAR</th>\n",
       "      <th>HQ_DIVISION</th>\n",
       "      <th>TOTAL_PENALTY_ASSESSED_AMT</th>\n",
       "    </tr>\n",
       "    <tr>\n",
       "      <th>REGISTRY_ID</th>\n",
       "      <th></th>\n",
       "      <th></th>\n",
       "      <th></th>\n",
       "      <th></th>\n",
       "    </tr>\n",
       "  </thead>\n",
       "  <tbody>\n",
       "    <tr>\n",
       "      <th>1.100016e+11</th>\n",
       "      <td>BUSSE HOSPITAL DISPOSABLES INC</td>\n",
       "      <td>1994</td>\n",
       "      <td>CER</td>\n",
       "      <td>50000.0</td>\n",
       "    </tr>\n",
       "  </tbody>\n",
       "</table>\n",
       "</div>"
      ],
      "text/plain": [
       "                                    FAC_NAME  FISCAL_YEAR HQ_DIVISION  \\\n",
       "REGISTRY_ID                                                             \n",
       "1.100016e+11  BUSSE HOSPITAL DISPOSABLES INC         1994         CER   \n",
       "\n",
       "              TOTAL_PENALTY_ASSESSED_AMT  \n",
       "REGISTRY_ID                               \n",
       "1.100016e+11                     50000.0  "
      ]
     },
     "execution_count": 67,
     "metadata": {},
     "output_type": "execute_result"
    }
   ],
   "source": [
    "my_cases = case_fac_data[case_fac_data[\"FAC_NAME\"] == w3.value]\n",
    "my_cases[['FAC_NAME', 'FISCAL_YEAR', 'HQ_DIVISION', 'TOTAL_PENALTY_ASSESSED_AMT']]\n",
    "# my_cases"
   ]
  },
  {
   "cell_type": "markdown",
   "metadata": {},
   "source": [
    "## Plot the number of enforcements by year and program for the congressional district."
   ]
  },
  {
   "cell_type": "code",
   "execution_count": 77,
   "metadata": {},
   "outputs": [
    {
     "data": {
      "image/png": "[encoded data removed]",
      "text/plain": [
       "<Figure size 1080x720 with 1 Axes>"
      ]
     },
     "metadata": {
      "needs_background": "light"
     },
     "output_type": "display_data"
    }
   ],
   "source": [
    "chart_title = 'Number of enforcements by year in district'\n",
    "case_fac_data.groupby(['FISCAL_YEAR','HQ_DIVISION']).size().unstack().plot(kind='bar', \\\n",
    "                                                                           title = chart_title, figsize=(15, 10), \\\n",
    "                                                                           legend=True, fontsize=12,stacked=True)\n",
    "plt.show()"
   ]
  },
  {
   "cell_type": "markdown",
   "metadata": {},
   "source": [
    "## Plot the number of enforcements by year and program for the state."
   ]
  },
  {
   "cell_type": "code",
   "execution_count": 81,
   "metadata": {},
   "outputs": [
    {
     "data": {
      "image/png": "[encoded data removed]",
      "text/plain": [
       "<Figure size 1080x720 with 1 Axes>"
      ]
     },
     "metadata": {
      "needs_background": "light"
     },
     "output_type": "display_data"
    }
   ],
   "source": [
    "chart_title = 'Number of enforcements in state by year'\n",
    "state_case_fac_data.groupby(['FISCAL_YEAR','HQ_DIVISION']).size().unstack().plot(kind='bar', \\\n",
    "                                                                           title = chart_title, figsize=(15, 10), \\\n",
    "                                                                           legend=True, fontsize=12,stacked=True)\n",
    "plt.show()"
   ]
  },
  {
   "cell_type": "code",
   "execution_count": null,
   "metadata": {},
   "outputs": [],
   "source": []
  }
 ],
 "metadata": {
  "kernelspec": {
   "display_name": "Python 3.7.5 64-bit ('base': conda)",
   "language": "python",
   "name": "python37564bitbaseconda7071e98414dd4b3880bf69a85f4101b4"
  },
  "language_info": {
   "codemirror_mode": {
    "name": "ipython",
    "version": 3
   },
   "file_extension": ".py",
   "mimetype": "text/x-python",
   "name": "python",
   "nbconvert_exporter": "python",
   "pygments_lexer": "ipython3",
   "version": "3.7.6"
  }
 },
 "nbformat": 4,
 "nbformat_minor": 4
}
