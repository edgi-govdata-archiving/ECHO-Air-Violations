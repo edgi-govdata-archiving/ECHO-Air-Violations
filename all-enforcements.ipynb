{
 "cells": [
  {
   "cell_type": "markdown",
   "metadata": {},
   "source": [
    "Note:  This notebook has widgets to select the state, congressional district and facility.  Those currently work only when the cells are run one at a time sequentially, not all at once."
   ]
  },
  {
   "cell_type": "markdown",
   "metadata": {},
   "source": [
    "## All Enforcements by Congressional District\n",
    "\n",
    "This notebook examines ECHO data using CASE_FACILITIES and CASE_ENFORCEMENTS.\n",
    "The CASE_NUMBER FIELD links these two tables.  Facilities within the congressional district are identified via the ECHO_EXPORTER data set, with the REGISTRY_ID of ECHO_EXPORTER matched against the same field of CASE_FACILITIES.\n",
    "HQ_DIVISION identifies the program of the enforcement, and CASE_STATUS_DATE is taken to be the date the enforcement was concluded.\n",
    "\n",
    "\n",
    "A state and congressional district must be chosen using the dropdown\n",
    "widgets that are provided."
   ]
  },
  {
   "cell_type": "code",
   "execution_count": 82,
   "metadata": {},
   "outputs": [],
   "source": [
    "# Import libraries\n",
    "import urllib.parse\n",
    "import pandas as pd\n",
    "import numpy as np\n",
    "import matplotlib.pyplot as plt\n",
    "%matplotlib inline\n",
    "import folium\n",
    "\n",
    "from ipywidgets import interact, interactive, fixed, interact_manual\n",
    "import ipywidgets as widgets\n",
    "from IPython.display import display\n"
   ]
  },
  {
   "cell_type": "markdown",
   "metadata": {},
   "source": [
    "Run this next cell, select a state, and then run the following cell."
   ]
  },
  {
   "cell_type": "code",
   "execution_count": 83,
   "metadata": {},
   "outputs": [
    {
     "data": {
      "application/vnd.jupyter.widget-view+json": {
       "model_id": "c0f39d6583ff4d3696e5bff426a05466",
       "version_major": 2,
       "version_minor": 0
      },
      "text/plain": [
       "Dropdown(description='State:', index=32, options=('AL', 'AK', 'AZ', 'AR', 'CA', 'CO', 'CT', 'DC', 'DE', 'FL', …"
      ]
     },
     "metadata": {},
     "output_type": "display_data"
    }
   ],
   "source": [
    "states = [\"AL\", \"AK\", \"AZ\", \"AR\", \"CA\", \"CO\", \"CT\", \"DC\", \"DE\", \"FL\", \"GA\", \n",
    "          \"HI\", \"ID\", \"IL\", \"IN\", \"IA\", \"KS\", \"KY\", \"LA\", \"ME\", \"MD\", \n",
    "          \"MA\", \"MI\", \"MN\", \"MS\", \"MO\", \"MT\", \"NE\", \"NV\", \"NH\", \"NJ\", \n",
    "          \"NM\", \"NY\", \"NC\", \"ND\", \"OH\", \"OK\", \"OR\", \"PA\", \"RI\", \"SC\", \n",
    "          \"SD\", \"TN\", \"TX\", \"UT\", \"VT\", \"VA\", \"WA\", \"WV\", \"WI\", \"WY\"]\n",
    "dropdown_state=widgets.Dropdown(\n",
    "    options=states,\n",
    "    value='NY',\n",
    "    description='State:',\n",
    "    disabled=False,\n",
    ")\n",
    "output_state = widgets.Output()\n",
    "my_state = \"\"\n",
    "\n",
    "def dropdown_state_eventhandler( change ):\n",
    "    output_state.clear_output()\n",
    "    value = change.new\n",
    "    with output_state:\n",
    "        display( change.new )\n",
    "            \n",
    "dropdown_state.observe( dropdown_state_eventhandler, names='value')\n",
    "display( dropdown_state )"
   ]
  },
  {
   "cell_type": "markdown",
   "metadata": {},
   "source": [
    "Run this next cell after choosing a state."
   ]
  },
  {
   "cell_type": "code",
   "execution_count": 84,
   "metadata": {},
   "outputs": [],
   "source": [
    "my_state = dropdown_state.value\n",
    "\n",
    "sql = \"select REGISTRY_ID, FAC_NAME, FAC_STATE, FAC_LAT, FAC_LONG, AIR_IDS, FAC_DERIVED_CD113 \" + \\\n",
    "    \" from ECHO_EXPORTER where AIR_FLAG = 'Y' and FAC_STATE = '\" + my_state + \"'\" \n",
    "url='http://apps.tlt.stonybrook.edu/echoepa/?query='\n",
    "data_location=url+urllib.parse.quote(sql)\n",
    "# print(sql)\n",
    "# print(data_location)\n"
   ]
  },
  {
   "cell_type": "code",
   "execution_count": 85,
   "metadata": {
    "scrolled": false
   },
   "outputs": [],
   "source": [
    "try:\n",
    "    echo_data = pd.read_csv(data_location,encoding='iso-8859-1',header = 0)\n",
    "    echo_data.set_index( \"REGISTRY_ID\", inplace=True)\n",
    "except:\n",
    "    print( \"No data for \" + my_state )"
   ]
  },
  {
   "cell_type": "markdown",
   "metadata": {},
   "source": [
    "Run this next cell after choosing a state from the dropdown list."
   ]
  },
  {
   "cell_type": "code",
   "execution_count": 86,
   "metadata": {},
   "outputs": [
    {
     "name": "stdout",
     "output_type": "stream",
     "text": [
      "There are 12464 facilities in NY tracked in the ECHO database.\n"
     ]
    }
   ],
   "source": [
    "num_facilities = echo_data.shape[0]\n",
    "print(\"There are %s facilities in %s tracked in the ECHO database.\" %(num_facilities, my_state))"
   ]
  },
  {
   "cell_type": "markdown",
   "metadata": {},
   "source": [
    "Run this next cell to generate the Congressional District dropdown list for your state.  Then select a CD and run the following cell.\n",
    "Here is a map of congressional districts: https://www.govtrack.us/congress/members/map"
   ]
  },
  {
   "cell_type": "code",
   "execution_count": 87,
   "metadata": {},
   "outputs": [
    {
     "data": {
      "application/vnd.jupyter.widget-view+json": {
       "model_id": "4cb79fb842f14b38add7f34d67a3a731",
       "version_major": 2,
       "version_minor": 0
      },
      "text/plain": [
       "Dropdown(description='Congressional Districts:', index=1, options=(0, 1, 2, 3, 4, 5, 6, 7, 8, 9, 10, 11, 12, 1…"
      ]
     },
     "metadata": {},
     "output_type": "display_data"
    }
   ],
   "source": [
    "if (( my_state != 'none' ) & (my_state != 'all' )):\n",
    "    cd_array = echo_data[\"FAC_DERIVED_CD113\"].fillna(0).astype(int).unique()\n",
    "    cd_array.sort()\n",
    "    w2=widgets.Dropdown(\n",
    "        options=cd_array,\n",
    "        value=1,\n",
    "        description='Congressional Districts:',\n",
    "        disabled=False,\n",
    "    )\n",
    "    display(w2)"
   ]
  },
  {
   "cell_type": "markdown",
   "metadata": {},
   "source": [
    "\n",
    "\n",
    "Run this next cell after choosing a congressional district from the dropdown list."
   ]
  },
  {
   "cell_type": "code",
   "execution_count": 88,
   "metadata": {},
   "outputs": [
    {
     "name": "stdout",
     "output_type": "stream",
     "text": [
      "There are 400 ICIS facilities in NY district 1 tracked in the ECHO database.\n"
     ]
    }
   ],
   "source": [
    "my_cd = w2.value\n",
    "my_cd_facs = echo_data[echo_data[\"FAC_DERIVED_CD113\"].fillna(0).astype(int) == my_cd]\n",
    "num_facilities = my_cd_facs.shape[0]    \n",
    "print(\"There are %s ICIS facilities in %s district %s tracked in the ECHO database.\" %(num_facilities, my_state, my_cd))"
   ]
  },
  {
   "cell_type": "markdown",
   "metadata": {},
   "source": [
    "Next look up the violation history for the facilities in the selected\n",
    "state and congressional district.  This step may take awhile."
   ]
  },
  {
   "cell_type": "code",
   "execution_count": 95,
   "metadata": {},
   "outputs": [
    {
     "name": "stdout",
     "output_type": "stream",
     "text": [
      "select cf.REGISTRY_ID, cf.CASE_NUMBER, ce.FISCAL_YEAR, ce.HQ_DIVISION, ce.TOTAL_PENALTY_ASSESSED_AMT  from CASE_FACILITIES cf, CASE_ENFORCEMENTS ce where cf.CASE_NUMBER = ce.CASE_NUMBER  and cf.STATE_CODE = 'NY'\n",
      "http://apps.tlt.stonybrook.edu/echoepa/?query=select%20cf.REGISTRY_ID%2C%20cf.CASE_NUMBER%2C%20ce.FISCAL_YEAR%2C%20ce.HQ_DIVISION%2C%20ce.TOTAL_PENALTY_ASSESSED_AMT%20%20from%20CASE_FACILITIES%20cf%2C%20CASE_ENFORCEMENTS%20ce%20where%20cf.CASE_NUMBER%20%3D%20ce.CASE_NUMBER%20%20and%20cf.STATE_CODE%20%3D%20%27NY%27\n"
     ]
    }
   ],
   "source": [
    "sql = \"select cf.REGISTRY_ID, cf.CASE_NUMBER, ce.FISCAL_YEAR, ce.HQ_DIVISION, ce.TOTAL_PENALTY_ASSESSED_AMT \" + \\\n",
    "    \" from CASE_FACILITIES cf, CASE_ENFORCEMENTS ce where cf.CASE_NUMBER = ce.CASE_NUMBER \" + \\\n",
    "    \" and cf.STATE_CODE = '\" + my_state + \"'\"\n",
    "\n",
    "url='http://apps.tlt.stonybrook.edu/echoepa/?query='\n",
    "data_location=url+urllib.parse.quote(sql)\n",
    "print(sql)\n",
    "print(data_location)"
   ]
  },
  {
   "cell_type": "code",
   "execution_count": 89,
   "metadata": {},
   "outputs": [
    {
     "name": "stdout",
     "output_type": "stream",
     "text": [
      "There are 13 facilities with 116 EPA enforcements in the district.\n",
      "There are 820 facilities with 2256 EPA enforcements in the state.\n"
     ]
    }
   ],
   "source": [
    "sql = \"select cf.REGISTRY_ID, cf.CASE_NUMBER, ce.FISCAL_YEAR, ce.HQ_DIVISION, ce.TOTAL_PENALTY_ASSESSED_AMT \" + \\\n",
    "    \" from CASE_FACILITIES cf, CASE_ENFORCEMENTS ce where cf.CASE_NUMBER = ce.CASE_NUMBER \" + \\\n",
    "    \" and cf.STATE_CODE = '\" + my_state + \"'\"\n",
    "\n",
    "url='http://apps.tlt.stonybrook.edu/echoepa/?query='\n",
    "data_location=url+urllib.parse.quote(sql)\n",
    "\n",
    "case_data = pd.read_csv(data_location,encoding='iso-8859-1',header = 0)\n",
    "case_data.set_index( \"REGISTRY_ID\", inplace=True)\n",
    "\n"
   ]
  },
  {
   "cell_type": "code",
   "execution_count": 112,
   "metadata": {},
   "outputs": [
    {
     "name": "stdout",
     "output_type": "stream",
     "text": [
      "There are 13 facilities with 116 EPA enforcements in the district.\n",
      "There are 820 facilities with 2256 EPA enforcements in the state.\n"
     ]
    }
   ],
   "source": [
    "case_fac_data = pd.merge( my_cd_facs, case_data, on='REGISTRY_ID' ).fillna( value={'HQ_DIVISION': 'Unknown'} )\n",
    "case_facs = case_fac_data[['FAC_NAME', 'FAC_LAT', 'FAC_LONG']].drop_duplicates()\n",
    "state_case_fac_data = pd.merge( echo_data, case_data, on='REGISTRY_ID' ).fillna( value={'HQ_DIVISION': 'Unknown'} )\n",
    "state_case_facs = state_case_fac_data[['FAC_NAME', 'FAC_LAT', 'FAC_LONG']].drop_duplicates()\n",
    "\n",
    "print( \"There are %s facilities with %s EPA enforcements in the district.\" %(len(case_facs), len(case_fac_data)))\n",
    "print( \"There are %s facilities with %s EPA enforcements in the state.\" %(len(state_case_facs), len(state_case_fac_data)))\n"
   ]
  },
  {
   "cell_type": "markdown",
   "metadata": {},
   "source": [
    "Save the data to a CSV file in your Google Drive.\n",
    "The first of the next three cells will open our Google Drive to write into.\n",
    "The second cell writes the congressional district file.\n",
    "The third cell writes the file for state data.\n",
    "Running these cells is optional."
   ]
  },
  {
   "cell_type": "code",
   "execution_count": 118,
   "metadata": {},
   "outputs": [
    {
     "ename": "ModuleNotFoundError",
     "evalue": "No module named 'google'",
     "output_type": "error",
     "traceback": [
      "\u001b[0;31m---------------------------------------------------------------------------\u001b[0m",
      "\u001b[0;31mModuleNotFoundError\u001b[0m                       Traceback (most recent call last)",
      "\u001b[0;32m<ipython-input-118-d5df0069828e>\u001b[0m in \u001b[0;36m<module>\u001b[0;34m\u001b[0m\n\u001b[0;32m----> 1\u001b[0;31m \u001b[0;32mfrom\u001b[0m \u001b[0mgoogle\u001b[0m\u001b[0;34m.\u001b[0m\u001b[0mcolab\u001b[0m \u001b[0;32mimport\u001b[0m \u001b[0mdrive\u001b[0m\u001b[0;34m\u001b[0m\u001b[0;34m\u001b[0m\u001b[0m\n\u001b[0m\u001b[1;32m      2\u001b[0m \u001b[0mdrive\u001b[0m\u001b[0;34m.\u001b[0m\u001b[0mmount\u001b[0m\u001b[0;34m(\u001b[0m\u001b[0;34m'/content/drive'\u001b[0m\u001b[0;34m)\u001b[0m\u001b[0;34m\u001b[0m\u001b[0;34m\u001b[0m\u001b[0m\n",
      "\u001b[0;31mModuleNotFoundError\u001b[0m: No module named 'google'"
     ]
    }
   ],
   "source": [
    "from google.colab import drive\n",
    "drive.mount('/content/drive')"
   ]
  },
  {
   "cell_type": "markdown",
   "metadata": {},
   "source": [
    "Write the congressional district data to CSV file."
   ]
  },
  {
   "cell_type": "code",
   "execution_count": null,
   "metadata": {},
   "outputs": [],
   "source": [
    "filename = '/content/drive/My Drive/cd_cases-' + my_state + '-' + str( my_cd ) + '.csv'\n",
    "case_fac_data.to_csv( filename ) \n",
    "print( \"Writing this data to %s\" %(filename))"
   ]
  },
  {
   "cell_type": "code",
   "execution_count": null,
   "metadata": {},
   "outputs": [],
   "source": [
    "Write the state data to CSV file."
   ]
  },
  {
   "cell_type": "code",
   "execution_count": null,
   "metadata": {},
   "outputs": [],
   "source": [
    "filename = '/content/drive/My Drive/state_cases-' + my_state + '.csv'\n",
    "state_case_fac_data.to_csv( filename ) \n",
    "print( \"Writing this data to %s\" %(filename))"
   ]
  },
  {
   "cell_type": "markdown",
   "metadata": {},
   "source": [
    "Map the facilities that have had these enforcement actions."
   ]
  },
  {
   "cell_type": "code",
   "execution_count": 113,
   "metadata": {},
   "outputs": [
    {
     "data": {
      "text/html": [
       "<div style=\"width:100%;\"><div style=\"position:relative;width:100%;height:0;padding-bottom:60%;\"><iframe src=\"data:text/html;charset=utf-8;base64,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\" style=\"position:absolute;width:100%;height:100%;left:0;top:0;border:none !important;\" allowfullscreen webkitallowfullscreen mozallowfullscreen></iframe></div></div>"
      ],
      "text/plain": [
       "<folium.folium.Map at 0x7f9a21b7a9d0>"
      ]
     },
     "execution_count": 113,
     "metadata": {},
     "output_type": "execute_result"
    }
   ],
   "source": [
    "# Let's show a quick map of your area and the facilities in it\n",
    "\n",
    "def mapper(df):\n",
    "    # Initialize the map\n",
    "    m = folium.Map(\n",
    "        location = [df.mean()[\"FAC_LAT\"], df.mean()[\"FAC_LONG\"]],\n",
    "        zoom_start = 9\n",
    "    )\n",
    "\n",
    "    # Add a clickable marker for each facility\n",
    "    for index, row in df.iterrows():\n",
    "        folium.Marker(\n",
    "            location = [row[\"FAC_LAT\"], row[\"FAC_LONG\"]],\n",
    "            popup = row[\"FAC_NAME\"] ).add_to(m)\n",
    "\n",
    "    # Show the map\n",
    "    return m\n",
    "\n",
    "map_of_facilities_in_my_area = mapper(case_facs)\n",
    "map_of_facilities_in_my_area"
   ]
  },
  {
   "cell_type": "markdown",
   "metadata": {},
   "source": [
    "Present another dropdown with the list of names of the facilities.  Choosing a facility will display\n",
    "the violations."
   ]
  },
  {
   "cell_type": "code",
   "execution_count": 114,
   "metadata": {},
   "outputs": [
    {
     "data": {
      "application/vnd.jupyter.widget-view+json": {
       "model_id": "0995836910444c20a955c293d4cfaa7f",
       "version_major": 2,
       "version_minor": 0
      },
      "text/plain": [
       "Dropdown(description='Facility Name:', options=('ALADDIN PACKAGING LLC', 'AMNEAL PHARMACEUTICALS OF NY', 'BROO…"
      ]
     },
     "metadata": {},
     "output_type": "display_data"
    }
   ],
   "source": [
    "cd_array = case_fac_data[\"FAC_NAME\"].unique()\n",
    "cd_array.sort()\n",
    "\n",
    "w3=widgets.Dropdown(\n",
    "    options=cd_array,\n",
    "    description='Facility Name:',\n",
    "    disabled=False,\n",
    ")\n",
    "display(w3)"
   ]
  },
  {
   "cell_type": "markdown",
   "metadata": {},
   "source": [
    "Run this next cell after choosing a facility."
   ]
  },
  {
   "cell_type": "code",
   "execution_count": 115,
   "metadata": {},
   "outputs": [],
   "source": [
    "my_cases = case_fac_data[case_fac_data[\"FAC_NAME\"] == w3.value]\n",
    "# my_cases[['FAC_NAME', 'FISCAL_YEAR', 'HQ_DIVISION', 'TOTAL_PENALTY_ASSESSED_AMT']]\n",
    "# my_cases"
   ]
  },
  {
   "cell_type": "markdown",
   "metadata": {},
   "source": [
    "## Plot the number of enforcements by year and program for the congressional district."
   ]
  },
  {
   "cell_type": "code",
   "execution_count": 116,
   "metadata": {},
   "outputs": [
    {
     "data": {
      "image/png": "[encoded data removed]",
      "text/plain": [
       "<Figure size 1080x720 with 1 Axes>"
      ]
     },
     "metadata": {
      "needs_background": "light"
     },
     "output_type": "display_data"
    }
   ],
   "source": [
    "chart_title = 'Number of enforcements by year in district'\n",
    "case_fac_data.groupby(['FISCAL_YEAR','HQ_DIVISION']).size().unstack().plot(kind='bar', \\\n",
    "                                                                           title = chart_title, figsize=(15, 10), \\\n",
    "                                                                           legend=True, fontsize=12,stacked=True)\n",
    "plt.show()"
   ]
  },
  {
   "cell_type": "markdown",
   "metadata": {},
   "source": [
    "## Plot the number of enforcements by year and program for the state."
   ]
  },
  {
   "cell_type": "code",
   "execution_count": 117,
   "metadata": {},
   "outputs": [
    {
     "data": {
      "image/png": "[encoded data removed]",
      "text/plain": [
       "<Figure size 1080x720 with 1 Axes>"
      ]
     },
     "metadata": {
      "needs_background": "light"
     },
     "output_type": "display_data"
    }
   ],
   "source": [
    "chart_title = 'Number of enforcements in state by year'\n",
    "state_case_fac_data.groupby(['FISCAL_YEAR','HQ_DIVISION']).size().unstack().plot(kind='bar', \\\n",
    "                                                                           title = chart_title, figsize=(15, 10), \\\n",
    "                                                                           legend=True, fontsize=12,stacked=True)\n",
    "plt.show()"
   ]
  },
  {
   "cell_type": "code",
   "execution_count": null,
   "metadata": {},
   "outputs": [],
   "source": []
  }
 ],
 "metadata": {
  "kernelspec": {
   "display_name": "Python 3.7.5 64-bit ('base': conda)",
   "language": "python",
   "name": "python37564bitbaseconda7071e98414dd4b3880bf69a85f4101b4"
  },
  "language_info": {
   "codemirror_mode": {
    "name": "ipython",
    "version": 3
   },
   "file_extension": ".py",
   "mimetype": "text/x-python",
   "name": "python",
   "nbconvert_exporter": "python",
   "pygments_lexer": "ipython3",
   "version": "3.7.6"
  }
 },
 "nbformat": 4,
 "nbformat_minor": 4
}
