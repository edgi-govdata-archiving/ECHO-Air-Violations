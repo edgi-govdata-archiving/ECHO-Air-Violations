{
 "cells": [
  {
   "cell_type": "markdown",
   "metadata": {},
   "source": [
    "# All Enforcements by Congressional District\n",
    "\n",
    "This notebook examines ECHO data using CASE_FACILITIES and CASE_ENFORCEMENTS.\n",
    "The CASE_NUMBER FIELD links these two tables.  Facilities within the congressional district are identified via the ECHO_EXPORTER data set, with the REGISTRY_ID of ECHO_EXPORTER matched against the same field of CASE_FACILITIES.\n",
    "HQ_DIVISION identifies the program of the enforcement, and CASE_STATUS_DATE is taken to be the date the enforcement was concluded.\n",
    "\n",
    "\n",
    "**A state and congressional district must be chosen using the dropdown widgets that are provided.**\n",
    "\n",
    "Note:  This notebook has widgets to select the state, congressional district and facility.  Those currently work only when you **run cells one at a time sequentially, not all at once.**"
   ]
  },
  {
   "cell_type": "markdown",
   "metadata": {},
   "source": [
    "---\n",
    "---"
   ]
  },
  {
   "cell_type": "markdown",
   "metadata": {},
   "source": [
    "## How to Run\n",
    "* If you click on a gray **code** cell, a little “play button” arrow appears on the left. If you click the play button, it will run the code in that cell (“**running** a cell”). The button will animate. When the animation stops, the cell has finished running.\n",
    "![Where to click to run the cell](https://github.com/edgi-govdata-archiving/EEW-Image-Assets/blob/master/Jupyter%20instructions/pressplay.JPG?raw=true)\n",
    "* You may get a warning that the notebook was not authored by Google. We know, we authored them! It’s okay. Click “Run Anyway” to continue. \n",
    "![Error Message](https://github.com/edgi-govdata-archiving/EEW-Image-Assets/blob/master/Jupyter%20instructions/warning-message.JPG?raw=true)\n",
    "* **It is important to run cells in order because they depend on each other.**\n",
    "* Some cells, like the one shown below, will create a dropdown menu after you run them. Be sure to make a selection (for example, click to change NY to LA) before running the next cell.\n",
    "![Dropdown menu](https://github.com/edgi-govdata-archiving/EEW-Image-Assets/blob/master/Jupyter%20instructions/dropdown.JPG?raw=true)\n",
    "* Other cells will simply print information when you run them, like this one:\n",
    "![Simple cell](https://github.com/edgi-govdata-archiving/EEW-Image-Assets/blob/master/Jupyter%20instructions/cell-simple.JPG?raw=true)\n",
    "* Run all of the cells in a Notebook to make a complete report. Please feel free to look at and **learn about each result as you create it**!"
   ]
  },
  {
   "cell_type": "markdown",
   "metadata": {},
   "source": [
    "---\n",
    "---"
   ]
  },
  {
   "cell_type": "markdown",
   "metadata": {},
   "source": [
    "# Let's Begin!\n",
    "\n",
    "### Hover over the \"[ ]\" on the top left corner of the cell below and you should see a \"play\" button appear. Click on it to run the cell then move to the next one."
   ]
  },
  {
   "cell_type": "code",
   "execution_count": null,
   "metadata": {},
   "outputs": [],
   "source": [
    "# Import libraries\n",
    "import urllib.parse\n",
    "import pandas as pd\n",
    "import numpy as np\n",
    "import matplotlib.pyplot as plt\n",
    "%matplotlib inline\n",
    "import folium\n",
    "\n",
    "from ipywidgets import interact, interactive, fixed, interact_manual\n",
    "import ipywidgets as widgets\n",
    "from IPython.display import display\n"
   ]
  },
  {
   "cell_type": "markdown",
   "metadata": {},
   "source": [
    "### Run this next cell to create the widget for selecting states. It will create a dropdown menu at the bottom. Choose your state from the menu then move on to the next cell."
   ]
  },
  {
   "cell_type": "code",
   "execution_count": null,
   "metadata": {},
   "outputs": [],
   "source": [
    "states = [\"AL\", \"AK\", \"AZ\", \"AR\", \"CA\", \"CO\", \"CT\", \"DC\", \"DE\", \"FL\", \"GA\", \n",
    "          \"HI\", \"ID\", \"IL\", \"IN\", \"IA\", \"KS\", \"KY\", \"LA\", \"ME\", \"MD\", \n",
    "          \"MA\", \"MI\", \"MN\", \"MS\", \"MO\", \"MT\", \"NE\", \"NV\", \"NH\", \"NJ\", \n",
    "          \"NM\", \"NY\", \"NC\", \"ND\", \"OH\", \"OK\", \"OR\", \"PA\", \"RI\", \"SC\", \n",
    "          \"SD\", \"TN\", \"TX\", \"UT\", \"VT\", \"VA\", \"WA\", \"WV\", \"WI\", \"WY\"]\n",
    "dropdown_state=widgets.Dropdown(\n",
    "    options=states,\n",
    "    value='NY',\n",
    "    description='State:',\n",
    "    disabled=False,\n",
    ")\n",
    "output_state = widgets.Output()\n",
    "my_state = \"\"\n",
    "\n",
    "def dropdown_state_eventhandler( change ):\n",
    "    output_state.clear_output()\n",
    "    value = change.new\n",
    "    with output_state:\n",
    "        display( change.new )\n",
    "            \n",
    "dropdown_state.observe( dropdown_state_eventhandler, names='value')\n",
    "display( dropdown_state )"
   ]
  },
  {
   "cell_type": "markdown",
   "metadata": {},
   "source": [
    "### Run this cell after choosing a state. It will pull the data for that state from ECHO"
   ]
  },
  {
   "cell_type": "code",
   "execution_count": null,
   "metadata": {},
   "outputs": [],
   "source": [
    "my_state = dropdown_state.value\n",
    "\n",
    "sql = \"select REGISTRY_ID, FAC_NAME, FAC_STATE, FAC_LAT, FAC_LONG, AIR_IDS, FAC_DERIVED_CD113 \" + \\\n",
    "    \" from ECHO_EXPORTER where AIR_FLAG = 'Y' and FAC_STATE = '\" + my_state + \"'\" \n",
    "url='http://apps.tlt.stonybrook.edu/echoepa/?query='\n",
    "data_location=url+urllib.parse.quote(sql)\n",
    "# print(sql)\n",
    "# print(data_location)\n"
   ]
  },
  {
   "cell_type": "markdown",
   "metadata": {},
   "source": [
    "### Run this cell to load the CSV of that data. Then, we will be able to analyze it!"
   ]
  },
  {
   "cell_type": "code",
   "execution_count": null,
   "metadata": {
    "scrolled": false
   },
   "outputs": [],
   "source": [
    "try:\n",
    "    echo_data = pd.read_csv(data_location,encoding='iso-8859-1',header = 0)\n",
    "    echo_data.set_index( \"REGISTRY_ID\", inplace=True)\n",
    "except:\n",
    "    print( \"No data for \" + my_state )"
   ]
  },
  {
   "cell_type": "markdown",
   "metadata": {},
   "source": [
    "### How many facilities in the selected state are tracked in the ECHO database?"
   ]
  },
  {
   "cell_type": "code",
   "execution_count": null,
   "metadata": {},
   "outputs": [],
   "source": [
    "num_facilities = echo_data.shape[0]\n",
    "print(\"There are %s facilities in %s tracked in the ECHO database.\" %(num_facilities, my_state))"
   ]
  },
  {
   "cell_type": "markdown",
   "metadata": {},
   "source": [
    "### Run this next cell to generate the Congressional District dropdown list for your state.  Then select a CD and run the following cell.\n",
    "#### Here is a map of congressional districts: https://www.govtrack.us/congress/members/map"
   ]
  },
  {
   "cell_type": "code",
   "execution_count": null,
   "metadata": {},
   "outputs": [],
   "source": [
    "if (( my_state != 'none' ) & (my_state != 'all' )):\n",
    "    cd_array = echo_data[\"FAC_DERIVED_CD113\"].fillna(0).astype(int).unique()\n",
    "    cd_array.sort()\n",
    "    w2=widgets.Dropdown(\n",
    "        options=cd_array,\n",
    "        value=1,\n",
    "        description='Congressional Districts:',\n",
    "        disabled=False,\n",
    "    )\n",
    "    display(w2)"
   ]
  },
  {
   "cell_type": "markdown",
   "metadata": {},
   "source": [
    "### Run this next cell after choosing a congressional district from the dropdown list.\n",
    "#### You will then see the total number of facilities that are being regulated in your district and tracked in ECHO."
   ]
  },
  {
   "cell_type": "code",
   "execution_count": null,
   "metadata": {},
   "outputs": [],
   "source": [
    "my_cd = w2.value\n",
    "my_cd_facs = echo_data[echo_data[\"FAC_DERIVED_CD113\"].fillna(0).astype(int) == my_cd]\n",
    "num_facilities = my_cd_facs.shape[0]    \n",
    "print(\"There are %s ICIS facilities in %s district %s tracked in the ECHO database.\" %(num_facilities, my_state, my_cd))"
   ]
  },
  {
   "cell_type": "markdown",
   "metadata": {},
   "source": [
    "### Next run the next few cells to look up the enforcement history for the facilities in the selected state and congressional district.  This step may take a while to run."
   ]
  },
  {
   "cell_type": "code",
   "execution_count": null,
   "metadata": {},
   "outputs": [],
   "source": [
    "sql = \"select cf.REGISTRY_ID, cf.CASE_NUMBER, ce.FISCAL_YEAR, ce.HQ_DIVISION, ce.TOTAL_PENALTY_ASSESSED_AMT \" + \\\n",
    "    \" from CASE_FACILITIES cf, CASE_ENFORCEMENTS ce where cf.CASE_NUMBER = ce.CASE_NUMBER \" + \\\n",
    "    \" and cf.STATE_CODE = '\" + my_state + \"'\"\n",
    "\n",
    "url='http://apps.tlt.stonybrook.edu/echoepa/?query='\n",
    "data_location=url+urllib.parse.quote(sql)\n",
    "print(sql)\n",
    "print(data_location)"
   ]
  },
  {
   "cell_type": "code",
   "execution_count": null,
   "metadata": {},
   "outputs": [],
   "source": [
    "sql = \"select cf.REGISTRY_ID, cf.CASE_NUMBER, ce.FISCAL_YEAR, ce.HQ_DIVISION, ce.TOTAL_PENALTY_ASSESSED_AMT \" + \\\n",
    "    \" from CASE_FACILITIES cf, CASE_ENFORCEMENTS ce where cf.CASE_NUMBER = ce.CASE_NUMBER \" + \\\n",
    "    \" and cf.STATE_CODE = '\" + my_state + \"'\"\n",
    "\n",
    "url='http://apps.tlt.stonybrook.edu/echoepa/?query='\n",
    "data_location=url+urllib.parse.quote(sql)\n",
    "\n",
    "case_data = pd.read_csv(data_location,encoding='iso-8859-1',header = 0)\n",
    "case_data.set_index( \"REGISTRY_ID\", inplace=True)\n",
    "\n"
   ]
  },
  {
   "cell_type": "markdown",
   "metadata": {},
   "source": [
    "### How many facilities in the district and the whole state have received enforcement actions?"
   ]
  },
  {
   "cell_type": "code",
   "execution_count": null,
   "metadata": {},
   "outputs": [],
   "source": [
    "case_fac_data = pd.merge( my_cd_facs, case_data, on='REGISTRY_ID' ).fillna( value={'HQ_DIVISION': 'Unknown'} )\n",
    "case_facs = case_fac_data[['FAC_NAME', 'FAC_LAT', 'FAC_LONG']].drop_duplicates()\n",
    "state_case_fac_data = pd.merge( echo_data, case_data, on='REGISTRY_ID' ).fillna( value={'HQ_DIVISION': 'Unknown'} )\n",
    "state_case_facs = state_case_fac_data[['FAC_NAME', 'FAC_LAT', 'FAC_LONG']].drop_duplicates()\n",
    "\n",
    "print( \"There are %s facilities with %s EPA enforcements in the district.\" %(len(case_facs), len(case_fac_data)))\n",
    "print( \"There are %s facilities with %s EPA enforcements in the state.\" %(len(state_case_facs), len(state_case_fac_data)))\n"
   ]
  },
  {
   "cell_type": "markdown",
   "metadata": {},
   "source": [
    "## This section saves some of this data to a CSV file in your Google Drive.\n",
    "The first of the next three cells will open our Google Drive to write into.\n",
    "The second cell writes the congressional district file.\n",
    "The third cell writes the file for state data.\n",
    "**Running these cells is optional.**"
   ]
  },
  {
   "cell_type": "code",
   "execution_count": null,
   "metadata": {},
   "outputs": [],
   "source": [
    "from google.colab import drive\n",
    "drive.mount('/content/drive')"
   ]
  },
  {
   "cell_type": "markdown",
   "metadata": {},
   "source": [
    "Write the congressional district data to CSV file."
   ]
  },
  {
   "cell_type": "code",
   "execution_count": null,
   "metadata": {},
   "outputs": [],
   "source": [
    "filename = '/content/drive/My Drive/cd_cases-' + my_state + '-' + str( my_cd ) + '.csv'\n",
    "case_fac_data.to_csv( filename ) \n",
    "print( \"Writing this data to %s\" %(filename))"
   ]
  },
  {
   "cell_type": "markdown",
   "metadata": {},
   "source": [
    "Write the state data to CSV file."
   ]
  },
  {
   "cell_type": "code",
   "execution_count": null,
   "metadata": {},
   "outputs": [],
   "source": [
    "filename = '/content/drive/My Drive/state_cases-' + my_state + '.csv'\n",
    "state_case_fac_data.to_csv( filename ) \n",
    "print( \"Writing this data to %s\" %(filename))"
   ]
  },
  {
   "cell_type": "markdown",
   "metadata": {},
   "source": [
    "## Create an interactive map of all of the facilities in the area that have received enforcemet actions\n",
    "### Once you run this cell, a map should appear. You can zoom in and out, or click on facilities to get their names."
   ]
  },
  {
   "cell_type": "code",
   "execution_count": null,
   "metadata": {},
   "outputs": [],
   "source": [
    "# Let's show a quick map of your area and the facilities in it\n",
    "\n",
    "def mapper(df):\n",
    "    # Initialize the map\n",
    "    m = folium.Map(\n",
    "        location = [df.mean()[\"FAC_LAT\"], df.mean()[\"FAC_LONG\"]],\n",
    "        zoom_start = 9\n",
    "    )\n",
    "\n",
    "    # Add a clickable marker for each facility\n",
    "    for index, row in df.iterrows():\n",
    "        folium.Marker(\n",
    "            location = [row[\"FAC_LAT\"], row[\"FAC_LONG\"]],\n",
    "            popup = row[\"FAC_NAME\"] ).add_to(m)\n",
    "\n",
    "    # Show the map\n",
    "    return m\n",
    "\n",
    "map_of_facilities_in_my_area = mapper(case_facs)\n",
    "map_of_facilities_in_my_area"
   ]
  },
  {
   "cell_type": "markdown",
   "metadata": {},
   "source": [
    "## Enforcement actions by facility\n",
    "### Run the below cell, then choose a facility from the dropdown that appears to delve deeper into enforcement actions at that facility."
   ]
  },
  {
   "cell_type": "code",
   "execution_count": null,
   "metadata": {},
   "outputs": [],
   "source": [
    "cd_array = case_fac_data[\"FAC_NAME\"].unique()\n",
    "cd_array.sort()\n",
    "\n",
    "w3=widgets.Dropdown(\n",
    "    options=cd_array,\n",
    "    description='Facility Name:',\n",
    "    disabled=False,\n",
    ")\n",
    "display(w3)"
   ]
  },
  {
   "cell_type": "markdown",
   "metadata": {},
   "source": [
    "### Run this next cell after choosing a facility to print out some details about it"
   ]
  },
  {
   "cell_type": "code",
   "execution_count": null,
   "metadata": {},
   "outputs": [],
   "source": [
    "my_cases = case_fac_data[case_fac_data[\"FAC_NAME\"] == w3.value]\n",
    "# my_cases[['FAC_NAME', 'FISCAL_YEAR', 'HQ_DIVISION', 'TOTAL_PENALTY_ASSESSED_AMT']]\n",
    "# my_cases"
   ]
  },
  {
   "cell_type": "markdown",
   "metadata": {},
   "source": [
    "## Plot the number of enforcements by year and program for the congressional district."
   ]
  },
  {
   "cell_type": "code",
   "execution_count": null,
   "metadata": {},
   "outputs": [],
   "source": [
    "chart_title = 'Number of enforcements by year in district'\n",
    "case_fac_data.groupby(['FISCAL_YEAR','HQ_DIVISION']).size().unstack().plot(kind='bar', \\\n",
    "                                                                           title = chart_title, figsize=(15, 10), \\\n",
    "                                                                           legend=True, fontsize=12,stacked=True)\n",
    "plt.show()"
   ]
  },
  {
   "cell_type": "markdown",
   "metadata": {},
   "source": [
    "## Plot the number of enforcements by year and program for the state."
   ]
  },
  {
   "cell_type": "code",
   "execution_count": null,
   "metadata": {},
   "outputs": [],
   "source": [
    "chart_title = 'Number of enforcements in state by year'\n",
    "state_case_fac_data.groupby(['FISCAL_YEAR','HQ_DIVISION']).size().unstack().plot(kind='bar', \\\n",
    "                                                                           title = chart_title, figsize=(15, 10), \\\n",
    "                                                                           legend=True, fontsize=12,stacked=True)\n",
    "plt.show()"
   ]
  }
 ],
 "metadata": {
  "kernelspec": {
   "display_name": "Python 3",
   "language": "python",
   "name": "python3"
  },
  "language_info": {
   "codemirror_mode": {
    "name": "ipython",
    "version": 3
   },
   "file_extension": ".py",
   "mimetype": "text/x-python",
   "name": "python",
   "nbconvert_exporter": "python",
   "pygments_lexer": "ipython3",
   "version": "3.7.4"
  }
 },
 "nbformat": 4,
 "nbformat_minor": 4
}
