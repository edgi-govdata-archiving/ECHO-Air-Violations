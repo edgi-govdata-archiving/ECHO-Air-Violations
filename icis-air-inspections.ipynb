{
 "cells": [
  {
   "cell_type": "markdown",
   "metadata": {},
   "source": [
    "# Clean Air Act Inspections Evaluations by Congressional District\n",
    "\n",
    "This notebook examines ECHO data on air inspections, the means by which EPA and state environmental agencies check facilities for their compliance with the Clean Air Act. This notebook draws mainly on the ECHO downloadable file ICIS_FEC_EPA_INSPECTIONS. \n",
    "The fields in this table are:\n",
    "<ol>\n",
    "    <li>REGISTRY_ID, </li>\n",
    "    <li>STATUTE_CODE, </li>\n",
    "    <li>ACTUAL_BEGIN_DATE</li>\n",
    "\n",
    "The REGISTRY_ID identifier is linked to the ECHO_EXPORTER table's field of the same name.\n",
    "\n",
    "The STATUTE_CODE of interest for this notebook is 'CAA'.\n",
    "    \n",
    "**A state and congressional district must be chosen using the dropdown widgets that are provided.**\n",
    "\n",
    "Note:  This notebook has widgets to select the state, congressional district and facility.  Those currently work only when you **run cells one at a time sequentially, not all at once.**"
   ]
  },
  {
   "cell_type": "markdown",
   "metadata": {},
   "source": [
    "---\n",
    "---"
   ]
  },
  {
   "cell_type": "markdown",
   "metadata": {},
   "source": [
    "## How to Run\n",
    "* If you click on a gray **code** cell, a little “play button” arrow appears on the left. If you click the play button, it will run the code in that cell (“**running** a cell”). The button will animate. When the animation stops, the cell has finished running.\n",
    "![Where to click to run the cell](https://github.com/edgi-govdata-archiving/EEW-Image-Assets/blob/master/Jupyter%20instructions/pressplay.JPG?raw=true)\n",
    "* You may get a warning that the notebook was not authored by Google. We know, we authored them! It’s okay. Click “Run Anyway” to continue. \n",
    "![Error Message](https://github.com/edgi-govdata-archiving/EEW-Image-Assets/blob/master/Jupyter%20instructions/warning-message.JPG?raw=true)\n",
    "* **It is important to run cells in order because they depend on each other.**\n",
    "* Some cells, like the one shown below, will create a dropdown menu after you run them. Be sure to make a selection (for example, click to change NY to LA) before running the next cell.\n",
    "![Dropdown menu](https://github.com/edgi-govdata-archiving/EEW-Image-Assets/blob/master/Jupyter%20instructions/dropdown.JPG?raw=true)\n",
    "* Other cells will simply print information when you run them, like this one:\n",
    "![Simple cell](https://github.com/edgi-govdata-archiving/EEW-Image-Assets/blob/master/Jupyter%20instructions/cell-simple.JPG?raw=true)\n",
    "* Run all of the cells in a Notebook to make a complete report. Please feel free to look at and **learn about each result as you create it**!"
   ]
  },
  {
   "cell_type": "markdown",
   "metadata": {},
   "source": [
    "---\n",
    "---"
   ]
  },
  {
   "cell_type": "markdown",
   "metadata": {},
   "source": [
    "# Let's Begin!\n",
    "\n",
    "### Hover over the \"[ ]\" on the top left corner of the cell below and you should see a \"play\" button appear. Click on it to run the cell then move to the next one."
   ]
  },
  {
   "cell_type": "code",
   "execution_count": 1,
   "metadata": {},
   "outputs": [],
   "source": [
    "# Import libraries\n",
    "import urllib.parse\n",
    "import pandas as pd\n",
    "import numpy as np\n",
    "import matplotlib.pyplot as plt\n",
    "%matplotlib inline\n",
    "import folium\n",
    "\n",
    "from ipywidgets import interact, interactive, fixed, interact_manual\n",
    "import ipywidgets as widgets\n",
    "from IPython.display import display\n"
   ]
  },
  {
   "cell_type": "markdown",
   "metadata": {},
   "source": [
    "### Run this next cell to create the widget for selecting states. It will create a dropdown menu at the bottom. Choose your state from the menu then move on to the next cell."
   ]
  },
  {
   "cell_type": "code",
   "execution_count": 2,
   "metadata": {},
   "outputs": [
    {
     "data": {
      "application/vnd.jupyter.widget-view+json": {
       "model_id": "d476cdc642164adcadbb8f7a2bb8ad04",
       "version_major": 2,
       "version_minor": 0
      },
      "text/plain": [
       "Dropdown(description='State:', index=32, options=('AL', 'AK', 'AZ', 'AR', 'CA', 'CO', 'CT', 'DC', 'DE', 'FL', …"
      ]
     },
     "metadata": {},
     "output_type": "display_data"
    }
   ],
   "source": [
    "states = [\"AL\", \"AK\", \"AZ\", \"AR\", \"CA\", \"CO\", \"CT\", \"DC\", \"DE\", \"FL\", \"GA\", \n",
    "          \"HI\", \"ID\", \"IL\", \"IN\", \"IA\", \"KS\", \"KY\", \"LA\", \"ME\", \"MD\", \n",
    "          \"MA\", \"MI\", \"MN\", \"MS\", \"MO\", \"MT\", \"NE\", \"NV\", \"NH\", \"NJ\", \n",
    "          \"NM\", \"NY\", \"NC\", \"ND\", \"OH\", \"OK\", \"OR\", \"PA\", \"RI\", \"SC\", \n",
    "          \"SD\", \"TN\", \"TX\", \"UT\", \"VT\", \"VA\", \"WA\", \"WV\", \"WI\", \"WY\"]\n",
    "dropdown_state=widgets.Dropdown(\n",
    "    options=states,\n",
    "    value='NY',\n",
    "    description='State:',\n",
    "    disabled=False,\n",
    ")\n",
    "output_state = widgets.Output()\n",
    "my_state = \"\"\n",
    "\n",
    "def dropdown_state_eventhandler( change ):\n",
    "    output_state.clear_output()\n",
    "    value = change.new\n",
    "    with output_state:\n",
    "        display( change.new )\n",
    "            \n",
    "dropdown_state.observe( dropdown_state_eventhandler, names='value')\n",
    "display( dropdown_state )"
   ]
  },
  {
   "cell_type": "markdown",
   "metadata": {},
   "source": [
    "### Run this cell after choosing a state. It will pull the data for that state from ECHO"
   ]
  },
  {
   "cell_type": "code",
   "execution_count": 3,
   "metadata": {},
   "outputs": [
    {
     "name": "stdout",
     "output_type": "stream",
     "text": [
      "select REGISTRY_ID, FAC_NAME, FAC_STATE, FAC_LAT, FAC_LONG, FAC_DERIVED_CD113  from ECHO_EXPORTER where AIR_FLAG = 'Y' and FAC_STATE = 'NY'\n",
      "http://apps.tlt.stonybrook.edu/echoepa/?query=select%20REGISTRY_ID%2C%20FAC_NAME%2C%20FAC_STATE%2C%20FAC_LAT%2C%20FAC_LONG%2C%20FAC_DERIVED_CD113%20%20from%20ECHO_EXPORTER%20where%20AIR_FLAG%20%3D%20%27Y%27%20and%20FAC_STATE%20%3D%20%27NY%27\n"
     ]
    }
   ],
   "source": [
    "my_state = dropdown_state.value\n",
    "\n",
    "sql = \"select REGISTRY_ID, FAC_NAME, FAC_STATE, FAC_LAT, FAC_LONG, FAC_DERIVED_CD113 \" + \\\n",
    "    \" from ECHO_EXPORTER where AIR_FLAG = 'Y' and FAC_STATE = '\" + my_state + \"'\"\n",
    "url='http://apps.tlt.stonybrook.edu/echoepa/?query='\n",
    "data_location=url+urllib.parse.quote(sql)\n",
    "print(sql)\n",
    "print(data_location)\n"
   ]
  },
  {
   "cell_type": "markdown",
   "metadata": {},
   "source": [
    "### Run this cell to load the CSV of that data. Then, we will be able to analyze it!"
   ]
  },
  {
   "cell_type": "code",
   "execution_count": 4,
   "metadata": {
    "scrolled": false
   },
   "outputs": [],
   "source": [
    "try:\n",
    "    echo_data = pd.read_csv(data_location,encoding='iso-8859-1',header = 0)\n",
    "    echo_data.set_index( \"REGISTRY_ID\", inplace=True)\n",
    "except:\n",
    "    print( \"No data for \" + my_state )"
   ]
  },
  {
   "cell_type": "markdown",
   "metadata": {},
   "source": [
    "### How many facilities in the selected state are tracked under the Clean Air Act in the ICIS database?"
   ]
  },
  {
   "cell_type": "code",
   "execution_count": 5,
   "metadata": {},
   "outputs": [
    {
     "name": "stdout",
     "output_type": "stream",
     "text": [
      "There are 12464 ICIS facilities in NY tracked in the ECHO database.\n"
     ]
    }
   ],
   "source": [
    "num_facilities = echo_data.shape[0]\n",
    "print(\"There are %s ICIS facilities in %s tracked in the ECHO database.\" %(num_facilities, my_state))"
   ]
  },
  {
   "cell_type": "markdown",
   "metadata": {},
   "source": [
    "### Run this next cell to generate the Congressional District dropdown list for your state.  Then select a CD and run the following cell.\n",
    "#### Here is a map of congressional districts: https://www.govtrack.us/congress/members/map"
   ]
  },
  {
   "cell_type": "code",
   "execution_count": 6,
   "metadata": {},
   "outputs": [
    {
     "data": {
      "application/vnd.jupyter.widget-view+json": {
       "model_id": "79e23e0d74bf477a852d052f4b1003b3",
       "version_major": 2,
       "version_minor": 0
      },
      "text/plain": [
       "Dropdown(description='Congressional Districts:', index=1, options=(0, 1, 2, 3, 4, 5, 6, 7, 8, 9, 10, 11, 12, 1…"
      ]
     },
     "metadata": {},
     "output_type": "display_data"
    }
   ],
   "source": [
    "if (( my_state != 'none' ) & (my_state != 'all' )):\n",
    "    cd_array = echo_data[\"FAC_DERIVED_CD113\"].fillna(0).astype(int).unique()\n",
    "    cd_array.sort()\n",
    "    w2=widgets.Dropdown(\n",
    "        options=cd_array,\n",
    "        value=1,\n",
    "        description='Congressional Districts:',\n",
    "        disabled=False,\n",
    "    )\n",
    "    display(w2)"
   ]
  },
  {
   "cell_type": "markdown",
   "metadata": {},
   "source": [
    "### Run this next cell after choosing a congressional district from the dropdown list.\n",
    "#### You will then see the total number of ICIS (EPA's Integrated Compliance System) facilities that are being regulated in your district under the Clean Air Act."
   ]
  },
  {
   "cell_type": "code",
   "execution_count": 7,
   "metadata": {},
   "outputs": [
    {
     "name": "stdout",
     "output_type": "stream",
     "text": [
      "There are 400 ICIS facilities in NY district 1 tracked in the ECHO database.\n"
     ]
    }
   ],
   "source": [
    "my_cd = w2.value\n",
    "my_cd_facs = echo_data[echo_data[\"FAC_DERIVED_CD113\"].fillna(0).astype(int) == my_cd]\n",
    "num_facilities = my_cd_facs.shape[0]    \n",
    "print(\"There are %s ICIS facilities in %s district %s tracked in the ECHO database.\" %(num_facilities, my_state, my_cd))"
   ]
  },
  {
   "cell_type": "markdown",
   "metadata": {},
   "source": [
    "### Next run the next few cells to look up the compliance monitoring history for the facilities in the selected state and congressional district.  This step may take a while to run."
   ]
  },
  {
   "cell_type": "code",
   "execution_count": 8,
   "metadata": {},
   "outputs": [
    {
     "name": "stdout",
     "output_type": "stream",
     "text": [
      "select REGISTRY_ID, STATUTE_CODE, ACTUAL_END_DATE from `ICIS_FEC_EPA_INSPECTIONS` where STATUTE_CODE = 'CAA'\n",
      "http://apps.tlt.stonybrook.edu/echoepa/?query=select%20REGISTRY_ID%2C%20STATUTE_CODE%2C%20ACTUAL_END_DATE%20from%20%60ICIS_FEC_EPA_INSPECTIONS%60%20where%20STATUTE_CODE%20%3D%20%27CAA%27\n"
     ]
    }
   ],
   "source": [
    "# sql = \"select PGM_SYS_ID, STATE_EPA_FLAG, AGENCY_TYPE_DESC, COMP_MONITOR_DESC, ACTUAL_END_DATE from `ICIS-AIR_FCES_PCES` where STATE_CODE='\" + my_state + \"'\"\n",
    "url='http://apps.tlt.stonybrook.edu/echoepa/?query='\n",
    "\n",
    "sql = \"select REGISTRY_ID, STATUTE_CODE, ACTUAL_END_DATE from `ICIS_FEC_EPA_INSPECTIONS` \" + \\\n",
    "    \"where STATUTE_CODE = 'CAA'\"\n",
    "# sql = \"show columns from `ICIS_FEC_EPA_INSPECTIONS`\"\n",
    "# sql = \"show tables from slim_echoepa_a\"\n",
    "data_location=url+urllib.parse.quote(sql)\n",
    "print(sql)\n",
    "print(data_location)"
   ]
  },
  {
   "cell_type": "code",
   "execution_count": 9,
   "metadata": {},
   "outputs": [],
   "source": [
    "icis_data = pd.read_csv(data_location,encoding='iso-8859-1',header = 0)\n",
    "icis_data.set_index( \"REGISTRY_ID\", inplace=True)"
   ]
  },
  {
   "cell_type": "code",
   "execution_count": 10,
   "metadata": {
    "scrolled": true
   },
   "outputs": [
    {
     "name": "stderr",
     "output_type": "stream",
     "text": [
      "/Library/Frameworks/Python.framework/Versions/3.7/lib/python3.7/site-packages/ipykernel_launcher.py:16: FutureWarning: Sorting because non-concatenation axis is not aligned. A future version\n",
      "of pandas will change to not sort by default.\n",
      "\n",
      "To accept the future behavior, pass 'sort=False'.\n",
      "\n",
      "To retain the current behavior and silence the warning, pass 'sort=True'.\n",
      "\n",
      "  app.launch_new_instance()\n"
     ]
    }
   ],
   "source": [
    "# Find the facility that matches the inspection, by REGISTRY_ID.\n",
    "\n",
    "my_cd_icis = pd.DataFrame()\n",
    "no_data_ids = []\n",
    "# Look through all facilities in my CD.\n",
    "for fac in my_cd_facs.itertuples():\n",
    "    # breakpoint()\n",
    "    fac_id = fac.Index\n",
    "    try:\n",
    "        air_inspections = icis_data.loc[ fac_id ].copy().to_frame()\n",
    "        # breakpoint()\n",
    "        n = air_inspections.shape[0]\n",
    "        fac_list = [fac.Index] * n\n",
    "        air_inspections['facility'] = fac_list\n",
    "        frames = [my_cd_icis, air_inspections]\n",
    "        my_cd_icis = pd.concat( frames, ignore_index=False )\n",
    "    except KeyError:\n",
    "        # The facility wasn't found in the ICIS_FEC_EPA_INSPECTIONS data.\n",
    "        no_data_ids.append( fac.Index )\n",
    "    \n",
    "# my_cd_icis.to_csv( r'my_cd_icis.csv', index=True, header=True )\n",
    "# with open( \"no_data_ids.txt\", \"w\" ) as output:\n",
    "#     output.write( str( no_data_ids ))"
   ]
  },
  {
   "cell_type": "markdown",
   "metadata": {},
   "source": [
    "### How many facilities have had compliance evaluations, over all years contained in the ECHO data?"
   ]
  },
  {
   "cell_type": "code",
   "execution_count": 11,
   "metadata": {},
   "outputs": [
    {
     "name": "stdout",
     "output_type": "stream",
     "text": [
      "Facilities without inspections: 397\n",
      "Facilities with inspections: 6\n"
     ]
    }
   ],
   "source": [
    "\n",
    "print( \"Facilities without inspections: \" + str( len( no_data_ids )))\n",
    "print( \"Facilities with inspections: \" + str( len( my_cd_icis )))"
   ]
  },
  {
   "cell_type": "markdown",
   "metadata": {},
   "source": [
    "### Make a table that lists the names, locations, and IDs of the facilities that have received inspections"
   ]
  },
  {
   "cell_type": "code",
   "execution_count": 12,
   "metadata": {},
   "outputs": [
    {
     "data": {
      "text/html": [
       "<div>\n",
       "<style scoped>\n",
       "    .dataframe tbody tr th:only-of-type {\n",
       "        vertical-align: middle;\n",
       "    }\n",
       "\n",
       "    .dataframe tbody tr th {\n",
       "        vertical-align: top;\n",
       "    }\n",
       "\n",
       "    .dataframe thead th {\n",
       "        text-align: right;\n",
       "    }\n",
       "</style>\n",
       "<table border=\"1\" class=\"dataframe\">\n",
       "  <thead>\n",
       "    <tr style=\"text-align: right;\">\n",
       "      <th></th>\n",
       "      <th>FAC_NAME</th>\n",
       "      <th>FAC_STATE</th>\n",
       "      <th>FAC_LAT</th>\n",
       "      <th>FAC_LONG</th>\n",
       "      <th>FAC_DERIVED_CD113</th>\n",
       "    </tr>\n",
       "    <tr>\n",
       "      <th>REGISTRY_ID</th>\n",
       "      <th></th>\n",
       "      <th></th>\n",
       "      <th></th>\n",
       "      <th></th>\n",
       "      <th></th>\n",
       "    </tr>\n",
       "  </thead>\n",
       "  <tbody>\n",
       "    <tr>\n",
       "      <th>1.100008e+11</th>\n",
       "      <td>NORTHVILLE HOLTSVILLE TERMINAL</td>\n",
       "      <td>NY</td>\n",
       "      <td>40.812503</td>\n",
       "      <td>-73.065525</td>\n",
       "      <td>1.0</td>\n",
       "    </tr>\n",
       "    <tr>\n",
       "      <th>1.100008e+11</th>\n",
       "      <td>NORTHVILLE HOLTSVILLE TERMINAL</td>\n",
       "      <td>NY</td>\n",
       "      <td>40.812503</td>\n",
       "      <td>-73.065525</td>\n",
       "      <td>1.0</td>\n",
       "    </tr>\n",
       "    <tr>\n",
       "      <th>1.100195e+11</th>\n",
       "      <td>BROOKHAVEN LANDFILL &amp; RECYCLING AREA</td>\n",
       "      <td>NY</td>\n",
       "      <td>40.797178</td>\n",
       "      <td>-72.930442</td>\n",
       "      <td>1.0</td>\n",
       "    </tr>\n",
       "    <tr>\n",
       "      <th>1.100195e+11</th>\n",
       "      <td>BROOKHAVEN LANDFILL &amp; RECYCLING AREA</td>\n",
       "      <td>NY</td>\n",
       "      <td>40.797178</td>\n",
       "      <td>-72.930442</td>\n",
       "      <td>1.0</td>\n",
       "    </tr>\n",
       "    <tr>\n",
       "      <th>1.100016e+11</th>\n",
       "      <td>IRS BROOKHAVEN SERVICE CENTER</td>\n",
       "      <td>NY</td>\n",
       "      <td>40.816680</td>\n",
       "      <td>-73.045030</td>\n",
       "      <td>1.0</td>\n",
       "    </tr>\n",
       "    <tr>\n",
       "      <th>1.100016e+11</th>\n",
       "      <td>IRS BROOKHAVEN SERVICE CENTER</td>\n",
       "      <td>NY</td>\n",
       "      <td>40.816680</td>\n",
       "      <td>-73.045030</td>\n",
       "      <td>1.0</td>\n",
       "    </tr>\n",
       "  </tbody>\n",
       "</table>\n",
       "</div>"
      ],
      "text/plain": [
       "                                          FAC_NAME FAC_STATE    FAC_LAT  \\\n",
       "REGISTRY_ID                                                               \n",
       "1.100008e+11        NORTHVILLE HOLTSVILLE TERMINAL        NY  40.812503   \n",
       "1.100008e+11        NORTHVILLE HOLTSVILLE TERMINAL        NY  40.812503   \n",
       "1.100195e+11  BROOKHAVEN LANDFILL & RECYCLING AREA        NY  40.797178   \n",
       "1.100195e+11  BROOKHAVEN LANDFILL & RECYCLING AREA        NY  40.797178   \n",
       "1.100016e+11         IRS BROOKHAVEN SERVICE CENTER        NY  40.816680   \n",
       "1.100016e+11         IRS BROOKHAVEN SERVICE CENTER        NY  40.816680   \n",
       "\n",
       "               FAC_LONG  FAC_DERIVED_CD113  \n",
       "REGISTRY_ID                                 \n",
       "1.100008e+11 -73.065525                1.0  \n",
       "1.100008e+11 -73.065525                1.0  \n",
       "1.100195e+11 -72.930442                1.0  \n",
       "1.100195e+11 -72.930442                1.0  \n",
       "1.100016e+11 -73.045030                1.0  \n",
       "1.100016e+11 -73.045030                1.0  "
      ]
     },
     "execution_count": 12,
     "metadata": {},
     "output_type": "execute_result"
    }
   ],
   "source": [
    "fac_idx_list = my_cd_icis['facility'].dropna()\n",
    "fac_cd_icis = my_cd_facs.loc[fac_idx_list]\n",
    "my_cd_facs.loc[fac_idx_list]"
   ]
  },
  {
   "cell_type": "markdown",
   "metadata": {},
   "source": [
    "## Use that table to make an interactive map of facilities that have received inspections\n",
    "### Once you run this cell, a map should appear. You can zoom in and out, or click on facilities to get their names."
   ]
  },
  {
   "cell_type": "code",
   "execution_count": 13,
   "metadata": {},
   "outputs": [
    {
     "data": {
      "text/html": [
       "<div style=\"width:100%;\"><div style=\"position:relative;width:100%;height:0;padding-bottom:60%;\"><iframe src=\"data:text/html;charset=utf-8;base64,PCFET0NUWVBFIGh0bWw+CjxoZWFkPiAgICAKICAgIDxtZXRhIGh0dHAtZXF1aXY9ImNvbnRlbnQtdHlwZSIgY29udGVudD0idGV4dC9odG1sOyBjaGFyc2V0PVVURi04IiAvPgogICAgCiAgICAgICAgPHNjcmlwdD4KICAgICAgICAgICAgTF9OT19UT1VDSCA9IGZhbHNlOwogICAgICAgICAgICBMX0RJU0FCTEVfM0QgPSBmYWxzZTsKICAgICAgICA8L3NjcmlwdD4KICAgIAogICAgPHNjcmlwdCBzcmM9Imh0dHBzOi8vY2RuLmpzZGVsaXZyLm5ldC9ucG0vbGVhZmxldEAxLjUuMS9kaXN0L2xlYWZsZXQuanMiPjwvc2NyaXB0PgogICAgPHNjcmlwdCBzcmM9Imh0dHBzOi8vY29kZS5qcXVlcnkuY29tL2pxdWVyeS0xLjEyLjQubWluLmpzIj48L3NjcmlwdD4KICAgIDxzY3JpcHQgc3JjPSJodHRwczovL21heGNkbi5ib290c3RyYXBjZG4uY29tL2Jvb3RzdHJhcC8zLjIuMC9qcy9ib290c3RyYXAubWluLmpzIj48L3NjcmlwdD4KICAgIDxzY3JpcHQgc3JjPSJodHRwczovL2NkbmpzLmNsb3VkZmxhcmUuY29tL2FqYXgvbGlicy9MZWFmbGV0LmF3ZXNvbWUtbWFya2Vycy8yLjAuMi9sZWFmbGV0LmF3ZXNvbWUtbWFya2Vycy5qcyI+PC9zY3JpcHQ+CiAgICA8bGluayByZWw9InN0eWxlc2hlZXQiIGhyZWY9Imh0dHBzOi8vY2RuLmpzZGVsaXZyLm5ldC9ucG0vbGVhZmxldEAxLjUuMS9kaXN0L2xlYWZsZXQuY3NzIi8+CiAgICA8bGluayByZWw9InN0eWxlc2hlZXQiIGhyZWY9Imh0dHBzOi8vbWF4Y2RuLmJvb3RzdHJhcGNkbi5jb20vYm9vdHN0cmFwLzMuMi4wL2Nzcy9ib290c3RyYXAubWluLmNzcyIvPgogICAgPGxpbmsgcmVsPSJzdHlsZXNoZWV0IiBocmVmPSJodHRwczovL21heGNkbi5ib290c3RyYXBjZG4uY29tL2Jvb3RzdHJhcC8zLjIuMC9jc3MvYm9vdHN0cmFwLXRoZW1lLm1pbi5jc3MiLz4KICAgIDxsaW5rIHJlbD0ic3R5bGVzaGVldCIgaHJlZj0iaHR0cHM6Ly9tYXhjZG4uYm9vdHN0cmFwY2RuLmNvbS9mb250LWF3ZXNvbWUvNC42LjMvY3NzL2ZvbnQtYXdlc29tZS5taW4uY3NzIi8+CiAgICA8bGluayByZWw9InN0eWxlc2hlZXQiIGhyZWY9Imh0dHBzOi8vY2RuanMuY2xvdWRmbGFyZS5jb20vYWpheC9saWJzL0xlYWZsZXQuYXdlc29tZS1tYXJrZXJzLzIuMC4yL2xlYWZsZXQuYXdlc29tZS1tYXJrZXJzLmNzcyIvPgogICAgPGxpbmsgcmVsPSJzdHlsZXNoZWV0IiBocmVmPSJodHRwczovL3Jhd2Nkbi5naXRoYWNrLmNvbS9weXRob24tdmlzdWFsaXphdGlvbi9mb2xpdW0vbWFzdGVyL2ZvbGl1bS90ZW1wbGF0ZXMvbGVhZmxldC5hd2Vzb21lLnJvdGF0ZS5jc3MiLz4KICAgIDxzdHlsZT5odG1sLCBib2R5IHt3aWR0aDogMTAwJTtoZWlnaHQ6IDEwMCU7bWFyZ2luOiAwO3BhZGRpbmc6IDA7fTwvc3R5bGU+CiAgICA8c3R5bGU+I21hcCB7cG9zaXRpb246YWJzb2x1dGU7dG9wOjA7Ym90dG9tOjA7cmlnaHQ6MDtsZWZ0OjA7fTwvc3R5bGU+CiAgICAKICAgICAgICAgICAgPG1ldGEgbmFtZT0idmlld3BvcnQiIGNvbnRlbnQ9IndpZHRoPWRldmljZS13aWR0aCwKICAgICAgICAgICAgICAgIGluaXRpYWwtc2NhbGU9MS4wLCBtYXhpbXVtLXNjYWxlPTEuMCwgdXNlci1zY2FsYWJsZT1ubyIgLz4KICAgICAgICAgICAgPHN0eWxlPgogICAgICAgICAgICAgICAgI21hcF9lNDY5MWMzYTY1OGU0OTQ0YmM1MDkxN2E5ZmM3NDZjYSB7CiAgICAgICAgICAgICAgICAgICAgcG9zaXRpb246IHJlbGF0aXZlOwogICAgICAgICAgICAgICAgICAgIHdpZHRoOiAxMDAuMCU7CiAgICAgICAgICAgICAgICAgICAgaGVpZ2h0OiAxMDAuMCU7CiAgICAgICAgICAgICAgICAgICAgbGVmdDogMC4wJTsKICAgICAgICAgICAgICAgICAgICB0b3A6IDAuMCU7CiAgICAgICAgICAgICAgICB9CiAgICAgICAgICAgIDwvc3R5bGU+CiAgICAgICAgCjwvaGVhZD4KPGJvZHk+ICAgIAogICAgCiAgICAgICAgICAgIDxkaXYgY2xhc3M9ImZvbGl1bS1tYXAiIGlkPSJtYXBfZTQ2OTFjM2E2NThlNDk0NGJjNTA5MTdhOWZjNzQ2Y2EiID48L2Rpdj4KICAgICAgICAKPC9ib2R5Pgo8c2NyaXB0PiAgICAKICAgIAogICAgICAgICAgICB2YXIgbWFwX2U0NjkxYzNhNjU4ZTQ5NDRiYzUwOTE3YTlmYzc0NmNhID0gTC5tYXAoCiAgICAgICAgICAgICAgICAibWFwX2U0NjkxYzNhNjU4ZTQ5NDRiYzUwOTE3YTlmYzc0NmNhIiwKICAgICAgICAgICAgICAgIHsKICAgICAgICAgICAgICAgICAgICBjZW50ZXI6IFs0MC44MDg3ODY5OTk5OTk5OTUsIC03My4wMTM2NjU2NjY2NjY2N10sCiAgICAgICAgICAgICAgICAgICAgY3JzOiBMLkNSUy5FUFNHMzg1NywKICAgICAgICAgICAgICAgICAgICB6b29tOiA5LAogICAgICAgICAgICAgICAgICAgIHpvb21Db250cm9sOiB0cnVlLAogICAgICAgICAgICAgICAgICAgIHByZWZlckNhbnZhczogZmFsc2UsCiAgICAgICAgICAgICAgICB9CiAgICAgICAgICAgICk7CgogICAgICAgICAgICAKCiAgICAgICAgCiAgICAKICAgICAgICAgICAgdmFyIHRpbGVfbGF5ZXJfM2E5NzEwNmQxYjg3NDBmMGJkODU1YmUwZTdiMjIwMzggPSBMLnRpbGVMYXllcigKICAgICAgICAgICAgICAgICJodHRwczovL3tzfS50aWxlLm9wZW5zdHJlZXRtYXAub3JnL3t6fS97eH0ve3l9LnBuZyIsCiAgICAgICAgICAgICAgICB7ImF0dHJpYnV0aW9uIjogIkRhdGEgYnkgXHUwMDI2Y29weTsgXHUwMDNjYSBocmVmPVwiaHR0cDovL29wZW5zdHJlZXRtYXAub3JnXCJcdTAwM2VPcGVuU3RyZWV0TWFwXHUwMDNjL2FcdTAwM2UsIHVuZGVyIFx1MDAzY2EgaHJlZj1cImh0dHA6Ly93d3cub3BlbnN0cmVldG1hcC5vcmcvY29weXJpZ2h0XCJcdTAwM2VPRGJMXHUwMDNjL2FcdTAwM2UuIiwgImRldGVjdFJldGluYSI6IGZhbHNlLCAibWF4TmF0aXZlWm9vbSI6IDE4LCAibWF4Wm9vbSI6IDE4LCAibWluWm9vbSI6IDAsICJub1dyYXAiOiBmYWxzZSwgIm9wYWNpdHkiOiAxLCAic3ViZG9tYWlucyI6ICJhYmMiLCAidG1zIjogZmFsc2V9CiAgICAgICAgICAgICkuYWRkVG8obWFwX2U0NjkxYzNhNjU4ZTQ5NDRiYzUwOTE3YTlmYzc0NmNhKTsKICAgICAgICAKICAgIAogICAgICAgICAgICB2YXIgbWFya2VyXzM1ZjBjMTU4ODU2ODRiMGQ5MTNiMTYwN2I0YjA3YzEzID0gTC5tYXJrZXIoCiAgICAgICAgICAgICAgICBbNDAuODEyNTAzLCAtNzMuMDY1NTI1XSwKICAgICAgICAgICAgICAgIHt9CiAgICAgICAgICAgICkuYWRkVG8obWFwX2U0NjkxYzNhNjU4ZTQ5NDRiYzUwOTE3YTlmYzc0NmNhKTsKICAgICAgICAKICAgIAogICAgICAgIHZhciBwb3B1cF84NmJjNDAzYmE3Y2Y0MzUwYWY0NzZmMmIyY2Q4ZWRjYyA9IEwucG9wdXAoeyJtYXhXaWR0aCI6ICIxMDAlIn0pOwoKICAgICAgICAKICAgICAgICAgICAgdmFyIGh0bWxfZGY1YTUzZTM1OWRhNGNlMGE2YmM0YmEwM2E3MjU1ZGYgPSAkKGA8ZGl2IGlkPSJodG1sX2RmNWE1M2UzNTlkYTRjZTBhNmJjNGJhMDNhNzI1NWRmIiBzdHlsZT0id2lkdGg6IDEwMC4wJTsgaGVpZ2h0OiAxMDAuMCU7Ij5OT1JUSFZJTExFIEhPTFRTVklMTEUgVEVSTUlOQUw8L2Rpdj5gKVswXTsKICAgICAgICAgICAgcG9wdXBfODZiYzQwM2JhN2NmNDM1MGFmNDc2ZjJiMmNkOGVkY2Muc2V0Q29udGVudChodG1sX2RmNWE1M2UzNTlkYTRjZTBhNmJjNGJhMDNhNzI1NWRmKTsKICAgICAgICAKCiAgICAgICAgbWFya2VyXzM1ZjBjMTU4ODU2ODRiMGQ5MTNiMTYwN2I0YjA3YzEzLmJpbmRQb3B1cChwb3B1cF84NmJjNDAzYmE3Y2Y0MzUwYWY0NzZmMmIyY2Q4ZWRjYykKICAgICAgICA7CgogICAgICAgIAogICAgCiAgICAKICAgICAgICAgICAgdmFyIG1hcmtlcl8wOWY2NTA5MTI1Zjc0ZDRjYmY4NTZlNzlhOWI5ZjJiMCA9IEwubWFya2VyKAogICAgICAgICAgICAgICAgWzQwLjgxMjUwMywgLTczLjA2NTUyNV0sCiAgICAgICAgICAgICAgICB7fQogICAgICAgICAgICApLmFkZFRvKG1hcF9lNDY5MWMzYTY1OGU0OTQ0YmM1MDkxN2E5ZmM3NDZjYSk7CiAgICAgICAgCiAgICAKICAgICAgICB2YXIgcG9wdXBfMTg3Yjk4MzJmNGRlNDFmYWEyZjQ1ZGI1YzI4OTAzZWMgPSBMLnBvcHVwKHsibWF4V2lkdGgiOiAiMTAwJSJ9KTsKCiAgICAgICAgCiAgICAgICAgICAgIHZhciBodG1sXzE0MjA5MDRhNjc2NTQ5ZGFhZjUzYzI4YzJjNGYwOTEwID0gJChgPGRpdiBpZD0iaHRtbF8xNDIwOTA0YTY3NjU0OWRhYWY1M2MyOGMyYzRmMDkxMCIgc3R5bGU9IndpZHRoOiAxMDAuMCU7IGhlaWdodDogMTAwLjAlOyI+Tk9SVEhWSUxMRSBIT0xUU1ZJTExFIFRFUk1JTkFMPC9kaXY+YClbMF07CiAgICAgICAgICAgIHBvcHVwXzE4N2I5ODMyZjRkZTQxZmFhMmY0NWRiNWMyODkwM2VjLnNldENvbnRlbnQoaHRtbF8xNDIwOTA0YTY3NjU0OWRhYWY1M2MyOGMyYzRmMDkxMCk7CiAgICAgICAgCgogICAgICAgIG1hcmtlcl8wOWY2NTA5MTI1Zjc0ZDRjYmY4NTZlNzlhOWI5ZjJiMC5iaW5kUG9wdXAocG9wdXBfMTg3Yjk4MzJmNGRlNDFmYWEyZjQ1ZGI1YzI4OTAzZWMpCiAgICAgICAgOwoKICAgICAgICAKICAgIAogICAgCiAgICAgICAgICAgIHZhciBtYXJrZXJfZTkzMDEwYzI1MmEyNDE1YTg0ZmUzOGFiZjlmMmNiODQgPSBMLm1hcmtlcigKICAgICAgICAgICAgICAgIFs0MC43OTcxNzgsIC03Mi45MzA0NDJdLAogICAgICAgICAgICAgICAge30KICAgICAgICAgICAgKS5hZGRUbyhtYXBfZTQ2OTFjM2E2NThlNDk0NGJjNTA5MTdhOWZjNzQ2Y2EpOwogICAgICAgIAogICAgCiAgICAgICAgdmFyIHBvcHVwXzA4MzNjYjVkN2NjMjQ5ZGVhYTNkNDc4YzQxY2I4N2E4ID0gTC5wb3B1cCh7Im1heFdpZHRoIjogIjEwMCUifSk7CgogICAgICAgIAogICAgICAgICAgICB2YXIgaHRtbF8wYzVlYTlhZDA0MmU0ZTQ5YWM1MWVmMzNkZDYxOTkyZSA9ICQoYDxkaXYgaWQ9Imh0bWxfMGM1ZWE5YWQwNDJlNGU0OWFjNTFlZjMzZGQ2MTk5MmUiIHN0eWxlPSJ3aWR0aDogMTAwLjAlOyBoZWlnaHQ6IDEwMC4wJTsiPkJST09LSEFWRU4gTEFOREZJTEwgJiBSRUNZQ0xJTkcgQVJFQTwvZGl2PmApWzBdOwogICAgICAgICAgICBwb3B1cF8wODMzY2I1ZDdjYzI0OWRlYWEzZDQ3OGM0MWNiODdhOC5zZXRDb250ZW50KGh0bWxfMGM1ZWE5YWQwNDJlNGU0OWFjNTFlZjMzZGQ2MTk5MmUpOwogICAgICAgIAoKICAgICAgICBtYXJrZXJfZTkzMDEwYzI1MmEyNDE1YTg0ZmUzOGFiZjlmMmNiODQuYmluZFBvcHVwKHBvcHVwXzA4MzNjYjVkN2NjMjQ5ZGVhYTNkNDc4YzQxY2I4N2E4KQogICAgICAgIDsKCiAgICAgICAgCiAgICAKICAgIAogICAgICAgICAgICB2YXIgbWFya2VyX2YzNThkZGJlMzg1MjRiYjViYzdjMTI1NzczMTM1YjhjID0gTC5tYXJrZXIoCiAgICAgICAgICAgICAgICBbNDAuNzk3MTc4LCAtNzIuOTMwNDQyXSwKICAgICAgICAgICAgICAgIHt9CiAgICAgICAgICAgICkuYWRkVG8obWFwX2U0NjkxYzNhNjU4ZTQ5NDRiYzUwOTE3YTlmYzc0NmNhKTsKICAgICAgICAKICAgIAogICAgICAgIHZhciBwb3B1cF80OThjM2Q4ZjM2NDQ0ZDY5OWY4NjViNjQzNzA1OTA2MSA9IEwucG9wdXAoeyJtYXhXaWR0aCI6ICIxMDAlIn0pOwoKICAgICAgICAKICAgICAgICAgICAgdmFyIGh0bWxfYTEzMDhmZmU4MTc5NDE5M2IwYjI0NWM5ZTg3ZGYwNDYgPSAkKGA8ZGl2IGlkPSJodG1sX2ExMzA4ZmZlODE3OTQxOTNiMGIyNDVjOWU4N2RmMDQ2IiBzdHlsZT0id2lkdGg6IDEwMC4wJTsgaGVpZ2h0OiAxMDAuMCU7Ij5CUk9PS0hBVkVOIExBTkRGSUxMICYgUkVDWUNMSU5HIEFSRUE8L2Rpdj5gKVswXTsKICAgICAgICAgICAgcG9wdXBfNDk4YzNkOGYzNjQ0NGQ2OTlmODY1YjY0MzcwNTkwNjEuc2V0Q29udGVudChodG1sX2ExMzA4ZmZlODE3OTQxOTNiMGIyNDVjOWU4N2RmMDQ2KTsKICAgICAgICAKCiAgICAgICAgbWFya2VyX2YzNThkZGJlMzg1MjRiYjViYzdjMTI1NzczMTM1YjhjLmJpbmRQb3B1cChwb3B1cF80OThjM2Q4ZjM2NDQ0ZDY5OWY4NjViNjQzNzA1OTA2MSkKICAgICAgICA7CgogICAgICAgIAogICAgCiAgICAKICAgICAgICAgICAgdmFyIG1hcmtlcl8zMmI5MDhhMjY0ZTA0ZWQyOTZhZDhkOTcwYzBiMDBmNiA9IEwubWFya2VyKAogICAgICAgICAgICAgICAgWzQwLjgxNjY4LCAtNzMuMDQ1MDMwMDAwMDAwMDNdLAogICAgICAgICAgICAgICAge30KICAgICAgICAgICAgKS5hZGRUbyhtYXBfZTQ2OTFjM2E2NThlNDk0NGJjNTA5MTdhOWZjNzQ2Y2EpOwogICAgICAgIAogICAgCiAgICAgICAgdmFyIHBvcHVwX2NmN2ZkY2QwZWRjYzQzYTM4ZGZkYTc1NjBhZjQ0NjdhID0gTC5wb3B1cCh7Im1heFdpZHRoIjogIjEwMCUifSk7CgogICAgICAgIAogICAgICAgICAgICB2YXIgaHRtbF9mY2NhMzgwODc1MzA0OTA1OTE3OGU5NTVmYWI1Y2ViZCA9ICQoYDxkaXYgaWQ9Imh0bWxfZmNjYTM4MDg3NTMwNDkwNTkxNzhlOTU1ZmFiNWNlYmQiIHN0eWxlPSJ3aWR0aDogMTAwLjAlOyBoZWlnaHQ6IDEwMC4wJTsiPklSUyBCUk9PS0hBVkVOIFNFUlZJQ0UgQ0VOVEVSPC9kaXY+YClbMF07CiAgICAgICAgICAgIHBvcHVwX2NmN2ZkY2QwZWRjYzQzYTM4ZGZkYTc1NjBhZjQ0NjdhLnNldENvbnRlbnQoaHRtbF9mY2NhMzgwODc1MzA0OTA1OTE3OGU5NTVmYWI1Y2ViZCk7CiAgICAgICAgCgogICAgICAgIG1hcmtlcl8zMmI5MDhhMjY0ZTA0ZWQyOTZhZDhkOTcwYzBiMDBmNi5iaW5kUG9wdXAocG9wdXBfY2Y3ZmRjZDBlZGNjNDNhMzhkZmRhNzU2MGFmNDQ2N2EpCiAgICAgICAgOwoKICAgICAgICAKICAgIAogICAgCiAgICAgICAgICAgIHZhciBtYXJrZXJfNGI0Mzg0N2Q0MmFkNGZlNmEwOGU5Zjg0OTg1MDZjNWMgPSBMLm1hcmtlcigKICAgICAgICAgICAgICAgIFs0MC44MTY2OCwgLTczLjA0NTAzMDAwMDAwMDAzXSwKICAgICAgICAgICAgICAgIHt9CiAgICAgICAgICAgICkuYWRkVG8obWFwX2U0NjkxYzNhNjU4ZTQ5NDRiYzUwOTE3YTlmYzc0NmNhKTsKICAgICAgICAKICAgIAogICAgICAgIHZhciBwb3B1cF85YWNiMzIzMjEyNzY0ZjFiYWUyZGUwZWJiNzA5NDRiMyA9IEwucG9wdXAoeyJtYXhXaWR0aCI6ICIxMDAlIn0pOwoKICAgICAgICAKICAgICAgICAgICAgdmFyIGh0bWxfOGI2YTJmZWRmMmFkNGRjMGIwY2EwNjVkZGNmOGY2OWYgPSAkKGA8ZGl2IGlkPSJodG1sXzhiNmEyZmVkZjJhZDRkYzBiMGNhMDY1ZGRjZjhmNjlmIiBzdHlsZT0id2lkdGg6IDEwMC4wJTsgaGVpZ2h0OiAxMDAuMCU7Ij5JUlMgQlJPT0tIQVZFTiBTRVJWSUNFIENFTlRFUjwvZGl2PmApWzBdOwogICAgICAgICAgICBwb3B1cF85YWNiMzIzMjEyNzY0ZjFiYWUyZGUwZWJiNzA5NDRiMy5zZXRDb250ZW50KGh0bWxfOGI2YTJmZWRmMmFkNGRjMGIwY2EwNjVkZGNmOGY2OWYpOwogICAgICAgIAoKICAgICAgICBtYXJrZXJfNGI0Mzg0N2Q0MmFkNGZlNmEwOGU5Zjg0OTg1MDZjNWMuYmluZFBvcHVwKHBvcHVwXzlhY2IzMjMyMTI3NjRmMWJhZTJkZTBlYmI3MDk0NGIzKQogICAgICAgIDsKCiAgICAgICAgCiAgICAKPC9zY3JpcHQ+\" style=\"position:absolute;width:100%;height:100%;left:0;top:0;border:none !important;\" allowfullscreen webkitallowfullscreen mozallowfullscreen></iframe></div></div>"
      ],
      "text/plain": [
       "<folium.folium.Map at 0x11a9bdd90>"
      ]
     },
     "execution_count": 13,
     "metadata": {},
     "output_type": "execute_result"
    }
   ],
   "source": [
    "# Let's show a quick map of your area and the facilities in it\n",
    "\n",
    "def mapper(df):\n",
    "    # Initialize the map\n",
    "    m = folium.Map(\n",
    "        location = [df.mean()[\"FAC_LAT\"], df.mean()[\"FAC_LONG\"]],\n",
    "        zoom_start = 9\n",
    "    )\n",
    "\n",
    "    # Add a clickable marker for each facility\n",
    "    for index, row in df.iterrows():\n",
    "        folium.Marker(\n",
    "            location = [row[\"FAC_LAT\"], row[\"FAC_LONG\"]],\n",
    "            popup = row[\"FAC_NAME\"] ).add_to(m)\n",
    "\n",
    "    # Show the map\n",
    "    return m\n",
    "\n",
    "map_of_facilities_in_my_area = mapper(fac_cd_icis)\n",
    "map_of_facilities_in_my_area"
   ]
  },
  {
   "cell_type": "markdown",
   "metadata": {},
   "source": [
    "## Inspections by facility\n",
    "### Run the below cell, then choose a facility from the dropdown that appears to delve deeper into inspections at that facility."
   ]
  },
  {
   "cell_type": "code",
   "execution_count": null,
   "metadata": {},
   "outputs": [],
   "source": [
    "cd_array = fac_cd_icis[\"FAC_NAME\"].unique()\n",
    "cd_array.sort()\n",
    "\n",
    "w3=widgets.Dropdown(\n",
    "    options=cd_array,\n",
    "    description='Facility Name:',\n",
    "    disabled=False,\n",
    ")\n",
    "display(w3)"
   ]
  },
  {
   "cell_type": "markdown",
   "metadata": {},
   "source": [
    "### Run this next cell after choosing a facility to print out some details about it"
   ]
  },
  {
   "cell_type": "code",
   "execution_count": null,
   "metadata": {},
   "outputs": [],
   "source": [
    "# This cell creates a function that will be used by both the CD and the state\n",
    "# to plot the number of cases by year.\n",
    "import datetime\n",
    "\n",
    "def show_plot( df, date_field, year_field, place, date_format, chart_title ):\n",
    "    format_str = date_format # The format\n",
    "    nan_count = 0\n",
    "    year_col = []\n",
    "    for day in df[date_field]:\n",
    "        try:\n",
    "            # breakpoint()\n",
    "            viol_year = datetime.datetime.strptime(day, format_str).year\n",
    "            year_col.append( viol_year )\n",
    "        except:\n",
    "            nan_count += 1\n",
    "            year_col.append(  np.NaN )\n",
    "    df[year_field] = year_col\n",
    "    \n",
    "    year_groups = df.groupby( year_field )[[ year_field ]]\n",
    "    counted_years = year_groups.count()\n",
    "\n",
    "    # Print how many values are present \n",
    "    print(counted_years)\n",
    "    chart_title +=  \" in \" + place + \" by year\"\n",
    "\n",
    "    ax = counted_years[[year_field]].plot(kind='bar', title = chart_title, figsize=(15, 10), legend=False, fontsize=12)\n",
    "    ax.set_xlabel(\"Year\", fontsize=12)\n",
    "    ax.set_ylabel(\"Count\", fontsize=12)\n",
    "    \n",
    "my_fac = fac_cd_icis[fac_cd_icis[\"FAC_NAME\"] == w3.value]\n",
    "my_inspections = my_cd_icis[my_cd_icis['facility'] == my_fac.iloc[[0]].index[0]]\n",
    "my_inspections"
   ]
  },
  {
   "cell_type": "markdown",
   "metadata": {},
   "source": [
    "## This section saves some of this data to a CSV file in your Google Drive.\n",
    "The first of the next three cells will open our Google Drive to write into.\n",
    "The second cell writes the congressional district file.\n",
    "The third cell writes the file for state data.\n",
    "**Running these cells is optional.**"
   ]
  },
  {
   "cell_type": "code",
   "execution_count": null,
   "metadata": {},
   "outputs": [],
   "source": [
    "from google.colab import drive\n",
    "drive.mount('/content/drive')"
   ]
  },
  {
   "cell_type": "markdown",
   "metadata": {},
   "source": [
    "Write the congressional district data to CSV file."
   ]
  },
  {
   "cell_type": "code",
   "execution_count": null,
   "metadata": {},
   "outputs": [],
   "source": [
    "filename = '/content/drive/My Drive/cd-air-inspections-' + my_state + '-' + str( my_cd ) + '.csv'\n",
    "my_cd_icis.to_csv( filename ) \n",
    "print( \"Writing this data to %s\" %(filename))"
   ]
  },
  {
   "cell_type": "markdown",
   "metadata": {},
   "source": [
    "Write the state data to CSV file."
   ]
  },
  {
   "cell_type": "code",
   "execution_count": null,
   "metadata": {},
   "outputs": [],
   "source": [
    "filename = '/content/drive/My Drive/state-air-inspections-' + my_state + '.csv'\n",
    "icis_data.to_csv( filename ) \n",
    "print( \"Writing this data to %s\" %(filename))"
   ]
  },
  {
   "cell_type": "markdown",
   "metadata": {},
   "source": [
    "## Plot the number of inspections by year for the congressional district."
   ]
  },
  {
   "cell_type": "code",
   "execution_count": null,
   "metadata": {},
   "outputs": [],
   "source": [
    "chart_title = \"Total CAA inspections\"\n",
    "\n",
    "show_plot( my_cd_icis, 'ACTUAL_END_DATE', 'ACTUAL_END_YEAR', \\\n",
    "          my_state + ' - #' + str( my_cd ), '%m/%d/%Y', chart_title )"
   ]
  },
  {
   "cell_type": "markdown",
   "metadata": {},
   "source": [
    "## Plot the number of inspections by year, using the entire state.\n",
    "Since the number of inspections in a single CD may be small, it can be more\n",
    "interesting to look at the entire state."
   ]
  },
  {
   "cell_type": "code",
   "execution_count": null,
   "metadata": {},
   "outputs": [],
   "source": [
    "chart_title = \"Total CAA inspections\"\n",
    "\n",
    "show_plot( icis_data, 'ACTUAL_END_DATE', 'ACTUAL_END_YEAR', my_state, \\\n",
    "          '%m/%d/%Y', chart_title )"
   ]
  },
  {
   "cell_type": "code",
   "execution_count": null,
   "metadata": {},
   "outputs": [],
   "source": []
  }
 ],
 "metadata": {
  "kernelspec": {
   "display_name": "Python 3",
   "language": "python",
   "name": "python3"
  },
  "language_info": {
   "codemirror_mode": {
    "name": "ipython",
    "version": 3
   },
   "file_extension": ".py",
   "mimetype": "text/x-python",
   "name": "python",
   "nbconvert_exporter": "python",
   "pygments_lexer": "ipython3",
   "version": "3.7.4"
  }
 },
 "nbformat": 4,
 "nbformat_minor": 4
}
