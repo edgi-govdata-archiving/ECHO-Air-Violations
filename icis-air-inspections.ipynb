{
 "cells": [
  {
   "cell_type": "markdown",
   "metadata": {},
   "source": [
    "Note:  This notebook has widgets to select the state, congressional district and facility.  Those currently work only when the cells are run one at a time sequentially, not all at once."
   ]
  },
  {
   "cell_type": "markdown",
   "metadata": {},
   "source": [
    "## Clean Air Act Compliance Evaluations by Congressional District\n",
    "\n",
    "This notebook examines ECHO data using ICIS_FEC_EPA_INSPECTIONS.\n",
    "The fields in this table are:\n",
    "<ol>\n",
    "    <li>REGISTRY_ID, </li>\n",
    "    <li>STATUTE_CODE, </li>\n",
    "    <li>ACTUAL_BEGIN_DATE</li>\n",
    "\n",
    "The REGISTRY_ID identifier is linked to the ECHO_EXPORTER table's field of the same name.\n",
    "\n",
    "The STATUTE_CODE of interest for this notebook is 'CAA'.\n",
    "    \n",
    "A state and congressional district must be chosen using the dropdown\n",
    "widgets that are provided."
   ]
  },
  {
   "cell_type": "code",
   "execution_count": 37,
   "metadata": {},
   "outputs": [],
   "source": [
    "# Import libraries\n",
    "import urllib.parse\n",
    "import pandas as pd\n",
    "import numpy as np\n",
    "import matplotlib.pyplot as plt\n",
    "%matplotlib inline\n",
    "import folium\n",
    "\n",
    "from ipywidgets import interact, interactive, fixed, interact_manual\n",
    "import ipywidgets as widgets\n",
    "from IPython.display import display\n"
   ]
  },
  {
   "cell_type": "markdown",
   "metadata": {},
   "source": [
    "Run this next cell, select a state, and then run the following cell."
   ]
  },
  {
   "cell_type": "code",
   "execution_count": 38,
   "metadata": {},
   "outputs": [
    {
     "data": {
      "application/vnd.jupyter.widget-view+json": {
       "model_id": "622692664c724b9faf0b8322cb3a1cd6",
       "version_major": 2,
       "version_minor": 0
      },
      "text/plain": [
       "Dropdown(description='State:', index=32, options=('AL', 'AK', 'AZ', 'AR', 'CA', 'CO', 'CT', 'DC', 'DE', 'FL', …"
      ]
     },
     "metadata": {},
     "output_type": "display_data"
    }
   ],
   "source": [
    "states = [\"AL\", \"AK\", \"AZ\", \"AR\", \"CA\", \"CO\", \"CT\", \"DC\", \"DE\", \"FL\", \"GA\", \n",
    "          \"HI\", \"ID\", \"IL\", \"IN\", \"IA\", \"KS\", \"KY\", \"LA\", \"ME\", \"MD\", \n",
    "          \"MA\", \"MI\", \"MN\", \"MS\", \"MO\", \"MT\", \"NE\", \"NV\", \"NH\", \"NJ\", \n",
    "          \"NM\", \"NY\", \"NC\", \"ND\", \"OH\", \"OK\", \"OR\", \"PA\", \"RI\", \"SC\", \n",
    "          \"SD\", \"TN\", \"TX\", \"UT\", \"VT\", \"VA\", \"WA\", \"WV\", \"WI\", \"WY\"]\n",
    "dropdown_state=widgets.Dropdown(\n",
    "    options=states,\n",
    "    value='NY',\n",
    "    description='State:',\n",
    "    disabled=False,\n",
    ")\n",
    "output_state = widgets.Output()\n",
    "my_state = \"\"\n",
    "\n",
    "def dropdown_state_eventhandler( change ):\n",
    "    output_state.clear_output()\n",
    "    value = change.new\n",
    "    with output_state:\n",
    "        display( change.new )\n",
    "            \n",
    "dropdown_state.observe( dropdown_state_eventhandler, names='value')\n",
    "display( dropdown_state )"
   ]
  },
  {
   "cell_type": "code",
   "execution_count": 39,
   "metadata": {},
   "outputs": [
    {
     "name": "stdout",
     "output_type": "stream",
     "text": [
      "select REGISTRY_ID, FAC_NAME, FAC_STATE, FAC_LAT, FAC_LONG, FAC_DERIVED_CD113  from ECHO_EXPORTER where AIR_FLAG = 'Y' and FAC_STATE = 'NY'\n",
      "http://apps.tlt.stonybrook.edu/echoepa/?query=select%20REGISTRY_ID%2C%20FAC_NAME%2C%20FAC_STATE%2C%20FAC_LAT%2C%20FAC_LONG%2C%20FAC_DERIVED_CD113%20%20from%20ECHO_EXPORTER%20where%20AIR_FLAG%20%3D%20%27Y%27%20and%20FAC_STATE%20%3D%20%27NY%27\n"
     ]
    }
   ],
   "source": [
    "my_state = dropdown_state.value\n",
    "\n",
    "sql = \"select REGISTRY_ID, FAC_NAME, FAC_STATE, FAC_LAT, FAC_LONG, FAC_DERIVED_CD113 \" + \\\n",
    "    \" from ECHO_EXPORTER where AIR_FLAG = 'Y' and FAC_STATE = '\" + my_state + \"'\"\n",
    "url='http://apps.tlt.stonybrook.edu/echoepa/?query='\n",
    "data_location=url+urllib.parse.quote(sql)\n",
    "print(sql)\n",
    "print(data_location)\n"
   ]
  },
  {
   "cell_type": "code",
   "execution_count": 40,
   "metadata": {
    "scrolled": false
   },
   "outputs": [],
   "source": [
    "try:\n",
    "    echo_data = pd.read_csv(data_location,encoding='iso-8859-1',header = 0)\n",
    "    echo_data.set_index( \"REGISTRY_ID\", inplace=True)\n",
    "except:\n",
    "    print( \"No data for \" + my_state )"
   ]
  },
  {
   "cell_type": "markdown",
   "metadata": {},
   "source": [
    "Run this next cell after choosing a state from the dropdown list."
   ]
  },
  {
   "cell_type": "code",
   "execution_count": 41,
   "metadata": {},
   "outputs": [
    {
     "name": "stdout",
     "output_type": "stream",
     "text": [
      "There are 12464 ICIS facilities in NY tracked in the ECHO database.\n"
     ]
    }
   ],
   "source": [
    "num_facilities = echo_data.shape[0]\n",
    "print(\"There are %s ICIS facilities in %s tracked in the ECHO database.\" %(num_facilities, my_state))"
   ]
  },
  {
   "cell_type": "markdown",
   "metadata": {},
   "source": [
    "Run this next cell to generate the Congressional District dropdown list for your state.  Then select a CD and run the following cell."
   ]
  },
  {
   "cell_type": "code",
   "execution_count": 42,
   "metadata": {},
   "outputs": [
    {
     "data": {
      "application/vnd.jupyter.widget-view+json": {
       "model_id": "c68294d42e254333b49a244d19c31912",
       "version_major": 2,
       "version_minor": 0
      },
      "text/plain": [
       "Dropdown(description='Congressional Districts:', index=1, options=(0, 1, 2, 3, 4, 5, 6, 7, 8, 9, 10, 11, 12, 1…"
      ]
     },
     "metadata": {},
     "output_type": "display_data"
    }
   ],
   "source": [
    "if (( my_state != 'none' ) & (my_state != 'all' )):\n",
    "    cd_array = echo_data[\"FAC_DERIVED_CD113\"].fillna(0).astype(int).unique()\n",
    "    cd_array.sort()\n",
    "    w2=widgets.Dropdown(\n",
    "        options=cd_array,\n",
    "        value=1,\n",
    "        description='Congressional Districts:',\n",
    "        disabled=False,\n",
    "    )\n",
    "    display(w2)"
   ]
  },
  {
   "cell_type": "markdown",
   "metadata": {},
   "source": [
    "Here is a map of congressional districts: https://www.govtrack.us/congress/members/map\n",
    "\n",
    "Run this next cell after choosing a congressional district from the dropdown list."
   ]
  },
  {
   "cell_type": "code",
   "execution_count": 58,
   "metadata": {},
   "outputs": [
    {
     "name": "stdout",
     "output_type": "stream",
     "text": [
      "There are 441 ICIS facilities in NY district 2 tracked in the ECHO database.\n"
     ]
    }
   ],
   "source": [
    "my_cd = w2.value\n",
    "my_cd_facs = echo_data[echo_data[\"FAC_DERIVED_CD113\"].fillna(0).astype(int) == my_cd]\n",
    "num_facilities = my_cd_facs.shape[0]    \n",
    "print(\"There are %s ICIS facilities in %s district %s tracked in the ECHO database.\" %(num_facilities, my_state, my_cd))"
   ]
  },
  {
   "cell_type": "markdown",
   "metadata": {},
   "source": [
    "Next look up the compliance monitoring history for the facilities in the selected\n",
    "state and congressional district.  This step may take awhile."
   ]
  },
  {
   "cell_type": "code",
   "execution_count": 59,
   "metadata": {},
   "outputs": [
    {
     "name": "stdout",
     "output_type": "stream",
     "text": [
      "select REGISTRY_ID, STATUTE_CODE, ACTUAL_END_DATE from `ICIS_FEC_EPA_INSPECTIONS` where STATUTE_CODE = 'CAA'\n",
      "http://apps.tlt.stonybrook.edu/echoepa/?query=select%20REGISTRY_ID%2C%20STATUTE_CODE%2C%20ACTUAL_END_DATE%20from%20%60ICIS_FEC_EPA_INSPECTIONS%60%20where%20STATUTE_CODE%20%3D%20%27CAA%27\n"
     ]
    }
   ],
   "source": [
    "# sql = \"select PGM_SYS_ID, STATE_EPA_FLAG, AGENCY_TYPE_DESC, COMP_MONITOR_DESC, ACTUAL_END_DATE from `ICIS-AIR_FCES_PCES` where STATE_CODE='\" + my_state + \"'\"\n",
    "url='http://apps.tlt.stonybrook.edu/echoepa/?query='\n",
    "\n",
    "sql = \"select REGISTRY_ID, STATUTE_CODE, ACTUAL_END_DATE from `ICIS_FEC_EPA_INSPECTIONS` \" + \\\n",
    "    \"where STATUTE_CODE = 'CAA'\"\n",
    "# sql = \"show columns from `ICIS_FEC_EPA_INSPECTIONS`\"\n",
    "# sql = \"show tables from slim_echoepa_a\"\n",
    "data_location=url+urllib.parse.quote(sql)\n",
    "print(sql)\n",
    "print(data_location)"
   ]
  },
  {
   "cell_type": "code",
   "execution_count": 60,
   "metadata": {},
   "outputs": [],
   "source": [
    "icis_data = pd.read_csv(data_location,encoding='iso-8859-1',header = 0)\n",
    "icis_data.set_index( \"REGISTRY_ID\", inplace=True)"
   ]
  },
  {
   "cell_type": "code",
   "execution_count": 46,
   "metadata": {
    "scrolled": true
   },
   "outputs": [],
   "source": [
    "# Find the facility that matches the inspection, by REGISTRY_ID.\n",
    "\n",
    "my_cd_icis = pd.DataFrame()\n",
    "no_data_ids = []\n",
    "# Look through all facilities in my CD.\n",
    "for fac in my_cd_facs.itertuples():\n",
    "    # breakpoint()\n",
    "    fac_id = fac.Index\n",
    "    try:\n",
    "        air_inspections = icis_data.loc[ fac_id ].copy().to_frame()\n",
    "        # breakpoint()\n",
    "        n = air_inspections.shape[0]\n",
    "        fac_list = [fac.Index] * n\n",
    "        air_inspections['facility'] = fac_list\n",
    "        frames = [my_cd_icis, air_inspections]\n",
    "        my_cd_icis = pd.concat( frames, ignore_index=False )\n",
    "    except KeyError:\n",
    "        # The facility wasn't found in the ICIS_FEC_EPA_INSPECTIONS data.\n",
    "        no_data_ids.append( fac.Index )\n",
    "    \n",
    "# my_cd_icis.to_csv( r'my_cd_icis.csv', index=True, header=True )\n",
    "# with open( \"no_data_ids.txt\", \"w\" ) as output:\n",
    "#     output.write( str( no_data_ids ))"
   ]
  },
  {
   "cell_type": "markdown",
   "metadata": {},
   "source": [
    "Map the facilities that have had these compliance evaluations."
   ]
  },
  {
   "cell_type": "code",
   "execution_count": 47,
   "metadata": {},
   "outputs": [
    {
     "name": "stdout",
     "output_type": "stream",
     "text": [
      "Facilities without inspections: 397\n",
      "Facilities with inspections: 6\n"
     ]
    }
   ],
   "source": [
    "\n",
    "print( \"Facilities without inspections: \" + str( len( no_data_ids )))\n",
    "print( \"Facilities with inspections: \" + str( len( my_cd_icis )))"
   ]
  },
  {
   "cell_type": "code",
   "execution_count": 48,
   "metadata": {},
   "outputs": [
    {
     "data": {
      "text/html": [
       "<div>\n",
       "<style scoped>\n",
       "    .dataframe tbody tr th:only-of-type {\n",
       "        vertical-align: middle;\n",
       "    }\n",
       "\n",
       "    .dataframe tbody tr th {\n",
       "        vertical-align: top;\n",
       "    }\n",
       "\n",
       "    .dataframe thead th {\n",
       "        text-align: right;\n",
       "    }\n",
       "</style>\n",
       "<table border=\"1\" class=\"dataframe\">\n",
       "  <thead>\n",
       "    <tr style=\"text-align: right;\">\n",
       "      <th></th>\n",
       "      <th>FAC_NAME</th>\n",
       "      <th>FAC_STATE</th>\n",
       "      <th>FAC_LAT</th>\n",
       "      <th>FAC_LONG</th>\n",
       "      <th>FAC_DERIVED_CD113</th>\n",
       "    </tr>\n",
       "    <tr>\n",
       "      <th>REGISTRY_ID</th>\n",
       "      <th></th>\n",
       "      <th></th>\n",
       "      <th></th>\n",
       "      <th></th>\n",
       "      <th></th>\n",
       "    </tr>\n",
       "  </thead>\n",
       "  <tbody>\n",
       "    <tr>\n",
       "      <th>1.100008e+11</th>\n",
       "      <td>NORTHVILLE HOLTSVILLE TERMINAL</td>\n",
       "      <td>NY</td>\n",
       "      <td>40.812503</td>\n",
       "      <td>-73.065525</td>\n",
       "      <td>1.0</td>\n",
       "    </tr>\n",
       "    <tr>\n",
       "      <th>1.100008e+11</th>\n",
       "      <td>NORTHVILLE HOLTSVILLE TERMINAL</td>\n",
       "      <td>NY</td>\n",
       "      <td>40.812503</td>\n",
       "      <td>-73.065525</td>\n",
       "      <td>1.0</td>\n",
       "    </tr>\n",
       "    <tr>\n",
       "      <th>1.100195e+11</th>\n",
       "      <td>BROOKHAVEN LANDFILL &amp; RECYCLING AREA</td>\n",
       "      <td>NY</td>\n",
       "      <td>40.797178</td>\n",
       "      <td>-72.930442</td>\n",
       "      <td>1.0</td>\n",
       "    </tr>\n",
       "    <tr>\n",
       "      <th>1.100195e+11</th>\n",
       "      <td>BROOKHAVEN LANDFILL &amp; RECYCLING AREA</td>\n",
       "      <td>NY</td>\n",
       "      <td>40.797178</td>\n",
       "      <td>-72.930442</td>\n",
       "      <td>1.0</td>\n",
       "    </tr>\n",
       "    <tr>\n",
       "      <th>1.100016e+11</th>\n",
       "      <td>IRS BROOKHAVEN SERVICE CENTER</td>\n",
       "      <td>NY</td>\n",
       "      <td>40.816680</td>\n",
       "      <td>-73.045030</td>\n",
       "      <td>1.0</td>\n",
       "    </tr>\n",
       "    <tr>\n",
       "      <th>1.100016e+11</th>\n",
       "      <td>IRS BROOKHAVEN SERVICE CENTER</td>\n",
       "      <td>NY</td>\n",
       "      <td>40.816680</td>\n",
       "      <td>-73.045030</td>\n",
       "      <td>1.0</td>\n",
       "    </tr>\n",
       "  </tbody>\n",
       "</table>\n",
       "</div>"
      ],
      "text/plain": [
       "                                          FAC_NAME FAC_STATE    FAC_LAT  \\\n",
       "REGISTRY_ID                                                               \n",
       "1.100008e+11        NORTHVILLE HOLTSVILLE TERMINAL        NY  40.812503   \n",
       "1.100008e+11        NORTHVILLE HOLTSVILLE TERMINAL        NY  40.812503   \n",
       "1.100195e+11  BROOKHAVEN LANDFILL & RECYCLING AREA        NY  40.797178   \n",
       "1.100195e+11  BROOKHAVEN LANDFILL & RECYCLING AREA        NY  40.797178   \n",
       "1.100016e+11         IRS BROOKHAVEN SERVICE CENTER        NY  40.816680   \n",
       "1.100016e+11         IRS BROOKHAVEN SERVICE CENTER        NY  40.816680   \n",
       "\n",
       "               FAC_LONG  FAC_DERIVED_CD113  \n",
       "REGISTRY_ID                                 \n",
       "1.100008e+11 -73.065525                1.0  \n",
       "1.100008e+11 -73.065525                1.0  \n",
       "1.100195e+11 -72.930442                1.0  \n",
       "1.100195e+11 -72.930442                1.0  \n",
       "1.100016e+11 -73.045030                1.0  \n",
       "1.100016e+11 -73.045030                1.0  "
      ]
     },
     "execution_count": 48,
     "metadata": {},
     "output_type": "execute_result"
    }
   ],
   "source": [
    "fac_idx_list = my_cd_icis['facility'].dropna()\n",
    "fac_cd_icis = my_cd_facs.loc[fac_idx_list]\n",
    "my_cd_facs.loc[fac_idx_list]"
   ]
  },
  {
   "cell_type": "code",
   "execution_count": 57,
   "metadata": {},
   "outputs": [
    {
     "data": {
      "text/html": [
       "<div style=\"width:100%;\"><div style=\"position:relative;width:100%;height:0;padding-bottom:60%;\"><iframe src=\"data:text/html;charset=utf-8;base64,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\" style=\"position:absolute;width:100%;height:100%;left:0;top:0;border:none !important;\" allowfullscreen webkitallowfullscreen mozallowfullscreen></iframe></div></div>"
      ],
      "text/plain": [
       "<folium.folium.Map at 0x7fa19bc440d0>"
      ]
     },
     "execution_count": 57,
     "metadata": {},
     "output_type": "execute_result"
    }
   ],
   "source": [
    "# Let's show a quick map of your area and the facilities in it\n",
    "\n",
    "def mapper(df):\n",
    "    # Initialize the map\n",
    "    m = folium.Map(\n",
    "        location = [df.mean()[\"FAC_LAT\"], df.mean()[\"FAC_LONG\"]],\n",
    "        zoom_start = 9\n",
    "    )\n",
    "\n",
    "    # Add a clickable marker for each facility\n",
    "    for index, row in df.iterrows():\n",
    "        folium.Marker(\n",
    "            location = [row[\"FAC_LAT\"], row[\"FAC_LONG\"]],\n",
    "            popup = row[\"FAC_NAME\"] ).add_to(m)\n",
    "\n",
    "    # Show the map\n",
    "    return m\n",
    "\n",
    "map_of_facilities_in_my_area = mapper(fac_cd_icis)\n",
    "map_of_facilities_in_my_area"
   ]
  },
  {
   "cell_type": "markdown",
   "metadata": {},
   "source": [
    "Present another dropdown with the list of names of the facilities.  Choosing a facility will display\n",
    "the violations."
   ]
  },
  {
   "cell_type": "code",
   "execution_count": 50,
   "metadata": {},
   "outputs": [],
   "source": [
    "cd_array = fac_cd_icis[\"FAC_NAME\"].unique()\n",
    "cd_array.sort()"
   ]
  },
  {
   "cell_type": "code",
   "execution_count": 51,
   "metadata": {},
   "outputs": [
    {
     "data": {
      "application/vnd.jupyter.widget-view+json": {
       "model_id": "210bf9df6da4459485b31ba22e636df5",
       "version_major": 2,
       "version_minor": 0
      },
      "text/plain": [
       "Dropdown(description='Facility Name:', options=('BROOKHAVEN LANDFILL & RECYCLING AREA', 'IRS BROOKHAVEN SERVIC…"
      ]
     },
     "metadata": {},
     "output_type": "display_data"
    }
   ],
   "source": [
    "w3=widgets.Dropdown(\n",
    "    options=cd_array,\n",
    "    description='Facility Name:',\n",
    "    disabled=False,\n",
    ")\n",
    "display(w3)"
   ]
  },
  {
   "cell_type": "markdown",
   "metadata": {},
   "source": [
    "Run this next cell after choosing a facility."
   ]
  },
  {
   "cell_type": "code",
   "execution_count": 52,
   "metadata": {},
   "outputs": [],
   "source": [
    "my_fac = fac_cd_icis[fac_cd_icis[\"FAC_NAME\"] == w3.value]\n",
    "my_inspections = my_cd_icis[my_cd_icis['facility'] == my_fac.iloc[[0]].index[0]]\n",
    "# my_inspections\n"
   ]
  },
  {
   "cell_type": "code",
   "execution_count": 53,
   "metadata": {},
   "outputs": [],
   "source": [
    "# This cell creates a function that will be used by both the CD and the state\n",
    "# to plot the number of cases by year.\n",
    "import datetime\n",
    "\n",
    "def show_plot( df, date_field, year_field, place, date_format, chart_title ):\n",
    "    format_str = date_format # The format\n",
    "    nan_count = 0\n",
    "    year_col = []\n",
    "    for day in df[date_field]:\n",
    "        try:\n",
    "            # breakpoint()\n",
    "            viol_year = datetime.datetime.strptime(day, format_str).year\n",
    "            year_col.append( viol_year )\n",
    "        except:\n",
    "            nan_count += 1\n",
    "            year_col.append(  np.NaN )\n",
    "    df[year_field] = year_col\n",
    "    \n",
    "    year_groups = df.groupby( year_field )[[ year_field ]]\n",
    "    counted_years = year_groups.count()\n",
    "\n",
    "    # Print how many values are present \n",
    "    print(counted_years)\n",
    "    chart_title +=  \" in \" + place + \" by year\"\n",
    "\n",
    "    ax = counted_years[[year_field]].plot(kind='bar', title = chart_title, figsize=(15, 10), legend=False, fontsize=12)\n",
    "    ax.set_xlabel(\"Year\", fontsize=12)\n",
    "    ax.set_ylabel(\"Count\", fontsize=12)"
   ]
  },
  {
   "cell_type": "markdown",
   "metadata": {},
   "source": [
    "## Plot the number of inspections by year for the congressional district."
   ]
  },
  {
   "cell_type": "code",
   "execution_count": 54,
   "metadata": {},
   "outputs": [
    {
     "name": "stdout",
     "output_type": "stream",
     "text": [
      "                 ACTUAL_END_YEAR\n",
      "ACTUAL_END_YEAR                 \n",
      "2003.0                         1\n",
      "2006.0                         1\n",
      "2009.0                         1\n"
     ]
    },
    {
     "data": {
      "image/png": "[encoded data removed]",
      "text/plain": [
       "<Figure size 1080x720 with 1 Axes>"
      ]
     },
     "metadata": {
      "needs_background": "light"
     },
     "output_type": "display_data"
    }
   ],
   "source": [
    "chart_title = \"Total CAA inspections\"\n",
    "\n",
    "show_plot( my_cd_icis, 'ACTUAL_END_DATE', 'ACTUAL_END_YEAR', \\\n",
    "          my_state + ' - #' + str( my_cd ), '%m/%d/%Y', chart_title )"
   ]
  },
  {
   "cell_type": "markdown",
   "metadata": {},
   "source": [
    "## Plot the number of inspections by year, using the entire state.\n",
    "Since the number of inspections in a single CD may be small, it can be more\n",
    "interesting to look at the entire state."
   ]
  },
  {
   "cell_type": "code",
   "execution_count": 54,
   "metadata": {},
   "outputs": [
    {
     "name": "stdout",
     "output_type": "stream",
     "text": [
      "                 ACTUAL_END_YEAR\n",
      "ACTUAL_END_YEAR                 \n",
      "1998.0                         1\n",
      "1999.0                         2\n",
      "2000.0                         6\n",
      "2001.0                        35\n",
      "2002.0                       207\n",
      "2003.0                       746\n",
      "2004.0                      1670\n",
      "2005.0                      1674\n",
      "2006.0                      1465\n",
      "2007.0                      1718\n",
      "2008.0                      1586\n",
      "2009.0                      1630\n",
      "2010.0                      1369\n",
      "2011.0                      1264\n",
      "2012.0                      1297\n",
      "2013.0                       833\n",
      "2014.0                       904\n",
      "2015.0                       760\n",
      "2016.0                       736\n",
      "2017.0                       638\n",
      "2018.0                       636\n",
      "2019.0                       518\n",
      "2020.0                       120\n"
     ]
    },
    {
     "data": {
      "image/png": "[encoded data removed]",
      "text/plain": [
       "<Figure size 1080x720 with 1 Axes>"
      ]
     },
     "metadata": {
      "needs_background": "light"
     },
     "output_type": "display_data"
    }
   ],
   "source": [
    "chart_title = \"Total CAA inspections\"\n",
    "\n",
    "show_plot( icis_data, 'ACTUAL_END_DATE', 'ACTUAL_END_YEAR', my_state, \\\n",
    "          '%m/%d/%Y', chart_title )"
   ]
  },
  {
   "cell_type": "code",
   "execution_count": null,
   "metadata": {},
   "outputs": [],
   "source": []
  }
 ],
 "metadata": {
  "kernelspec": {
   "display_name": "Python 3.7.5 64-bit ('base': conda)",
   "language": "python",
   "name": "python37564bitbaseconda7071e98414dd4b3880bf69a85f4101b4"
  },
  "language_info": {
   "codemirror_mode": {
    "name": "ipython",
    "version": 3
   },
   "file_extension": ".py",
   "mimetype": "text/x-python",
   "name": "python",
   "nbconvert_exporter": "python",
   "pygments_lexer": "ipython3",
   "version": "3.7.6"
  }
 },
 "nbformat": 4,
 "nbformat_minor": 4
}
