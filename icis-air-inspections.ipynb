{
 "cells": [
  {
   "cell_type": "markdown",
   "metadata": {},
   "source": [
    "Note:  This notebook has widgets to select the state, congressional district and facility.  Those currently work only when the cells are run one at a time sequentially, not all at once."
   ]
  },
  {
   "cell_type": "markdown",
   "metadata": {},
   "source": [
    "## Clean Air Act Compliance Evaluations by Congressional District\n",
    "\n",
    "This notebook examines ECHO data using ICIS_FEC_EPA_INSPECTIONS.\n",
    "The fields in this table are:\n",
    "<ol>\n",
    "    <li>REGISTRY_ID, </li>\n",
    "    <li>STATUTE_CODE, </li>\n",
    "    <li>ACTUAL_BEGIN_DATE</li>\n",
    "\n",
    "The REGISTRY_ID identifier is linked to the ECHO_EXPORTER table's field of the same name.\n",
    "\n",
    "The STATUTE_CODE of interest for this notebook is 'CAA'.\n",
    "    \n",
    "A state and congressional district must be chosen using the dropdown\n",
    "widgets that are provided."
   ]
  },
  {
   "cell_type": "code",
   "execution_count": 4,
   "metadata": {},
   "outputs": [],
   "source": [
    "# Import libraries\n",
    "import urllib.parse\n",
    "import pandas as pd\n",
    "import numpy as np\n",
    "import matplotlib.pyplot as plt\n",
    "%matplotlib inline\n",
    "import folium\n",
    "\n",
    "from ipywidgets import interact, interactive, fixed, interact_manual\n",
    "import ipywidgets as widgets\n",
    "from IPython.display import display\n"
   ]
  },
  {
   "cell_type": "code",
   "execution_count": 5,
   "metadata": {},
   "outputs": [
    {
     "name": "stdout",
     "output_type": "stream",
     "text": [
      "select REGISTRY_ID, FAC_NAME, FAC_STATE, FAC_LAT, FAC_LONG, FAC_DERIVED_CD113 from ECHO_EXPORTER where AIR_FLAG = 'Y'\n",
      "http://apps.tlt.stonybrook.edu/echoepa/?query=select%20REGISTRY_ID%2C%20FAC_NAME%2C%20FAC_STATE%2C%20FAC_LAT%2C%20FAC_LONG%2C%20FAC_DERIVED_CD113%20from%20ECHO_EXPORTER%20where%20AIR_FLAG%20%3D%20%27Y%27\n"
     ]
    }
   ],
   "source": [
    "#data_location = \"https://github.com/edgi-govdata-archiving/echo-data/blob/master/ECHO_EXPORTER.csv?raw=true\" # Where the ECHO data is saved\n",
    "#sql=\"SELECT * FROM ECHO_EXPORTER as e,`ICIS-AIR_FACILITIES` as f,`ICIS-AIR_VIOLATION_HISTORY` as h  where  e.FAC_ZIP=f.ZIP_CODE and f.PGM_SYS_ID=h.PGM_SYS_ID and f.ZIP_CODE=%s\" %(my_zip)\n",
    "#sql='show tables'  \n",
    "#sql= 'show columns from `ECHO_EXPORTER` '\n",
    "\n",
    "sql = \"select REGISTRY_ID, FAC_NAME, FAC_STATE, FAC_LAT, FAC_LONG, FAC_DERIVED_CD113 from ECHO_EXPORTER where AIR_FLAG = 'Y'\"\n",
    "url='http://apps.tlt.stonybrook.edu/echoepa/?query='\n",
    "data_location=url+urllib.parse.quote(sql)\n",
    "print(sql)\n",
    "print(data_location)\n"
   ]
  },
  {
   "cell_type": "code",
   "execution_count": 6,
   "metadata": {
    "scrolled": false
   },
   "outputs": [],
   "source": [
    "\n",
    "echo_data = pd.read_csv(data_location,encoding='iso-8859-1',header = 0)\n",
    "echo_data.set_index( \"REGISTRY_ID\", inplace=True)\n",
    "\n",
    "# local_data_location = \"../../ICIS_Air_Violation/ECHO_EXPORTER-Air.csv\"\n",
    "# echo_data = pd.read_csv(local_data_location,encoding='iso-8859-1',header = 0)\n"
   ]
  },
  {
   "cell_type": "markdown",
   "metadata": {},
   "source": [
    "Run this next cell, select a state, and then run the following cell."
   ]
  },
  {
   "cell_type": "code",
   "execution_count": 7,
   "metadata": {},
   "outputs": [
    {
     "data": {
      "application/vnd.jupyter.widget-view+json": {
       "model_id": "db011c871eaf4351846aab57572e96b1",
       "version_major": 2,
       "version_minor": 0
      },
      "text/plain": [
       "Dropdown(description='State:', index=32, options=('AL', 'AK', 'AZ', 'AR', 'CA', 'CO', 'CT', 'DC', 'DE', 'FL', …"
      ]
     },
     "metadata": {},
     "output_type": "display_data"
    }
   ],
   "source": [
    "states = [\"AL\", \"AK\", \"AZ\", \"AR\", \"CA\", \"CO\", \"CT\", \"DC\", \"DE\", \"FL\", \"GA\", \n",
    "          \"HI\", \"ID\", \"IL\", \"IN\", \"IA\", \"KS\", \"KY\", \"LA\", \"ME\", \"MD\", \n",
    "          \"MA\", \"MI\", \"MN\", \"MS\", \"MO\", \"MT\", \"NE\", \"NV\", \"NH\", \"NJ\", \n",
    "          \"NM\", \"NY\", \"NC\", \"ND\", \"OH\", \"OK\", \"OR\", \"PA\", \"RI\", \"SC\", \n",
    "          \"SD\", \"TN\", \"TX\", \"UT\", \"VT\", \"VA\", \"WA\", \"WV\", \"WI\", \"WY\"]\n",
    "dropdown_state=widgets.Dropdown(\n",
    "    options=states,\n",
    "    value='NY',\n",
    "    description='State:',\n",
    "    disabled=False,\n",
    ")\n",
    "output_state = widgets.Output()\n",
    "my_state = \"\"\n",
    "\n",
    "def dropdown_state_eventhandler( change ):\n",
    "    output_state.clear_output()\n",
    "    value = change.new\n",
    "    with output_state:\n",
    "        display( change.new )\n",
    "        # if ( change.new == \"all\" ):\n",
    "        #     display( echo_data )\n",
    "        # else:\n",
    "        #     display( echo_data[echo_data[\"FAC_STATE\"] == change.new] )\n",
    "            \n",
    "dropdown_state.observe( dropdown_state_eventhandler, names='value')\n",
    "display( dropdown_state )"
   ]
  },
  {
   "cell_type": "markdown",
   "metadata": {},
   "source": [
    "Run this next cell after choosing a state from the dropdown list."
   ]
  },
  {
   "cell_type": "code",
   "execution_count": 8,
   "metadata": {},
   "outputs": [
    {
     "name": "stdout",
     "output_type": "stream",
     "text": [
      "There are 12702 ICIS facilities in LA tracked in the ECHO database.\n"
     ]
    }
   ],
   "source": [
    "my_state = dropdown_state.value\n",
    "my_state_facs = echo_data[echo_data[\"FAC_STATE\"] == my_state]\n",
    "\n",
    "num_facilities = my_state_facs.shape[0]\n",
    "print(\"There are %s ICIS facilities in %s tracked in the ECHO database.\" %(num_facilities, my_state))"
   ]
  },
  {
   "cell_type": "markdown",
   "metadata": {},
   "source": [
    "Run this next cell to generate the Congressional District dropdown list for your state.  Then select a CD and run the following cell."
   ]
  },
  {
   "cell_type": "code",
   "execution_count": 9,
   "metadata": {},
   "outputs": [
    {
     "data": {
      "application/vnd.jupyter.widget-view+json": {
       "model_id": "00ee4306284e4ae99697e3d76f8cf477",
       "version_major": 2,
       "version_minor": 0
      },
      "text/plain": [
       "Dropdown(description='Congressional Districts:', index=1, options=(0, 1, 2, 3, 4, 5, 6, 18), value=1)"
      ]
     },
     "metadata": {},
     "output_type": "display_data"
    }
   ],
   "source": [
    "if (( my_state != 'none' ) & (my_state != 'all' )):\n",
    "    cd_array = my_state_facs[\"FAC_DERIVED_CD113\"].fillna(0).astype(int).unique()\n",
    "    cd_array.sort()\n",
    "    w2=widgets.Dropdown(\n",
    "        options=cd_array,\n",
    "        value=1,\n",
    "        description='Congressional Districts:',\n",
    "        disabled=False,\n",
    "    )\n",
    "    display(w2)"
   ]
  },
  {
   "cell_type": "markdown",
   "metadata": {},
   "source": [
    "Here is a map of congressional districts: https://www.govtrack.us/congress/members/map\n",
    "\n",
    "Run this next cell after choosing a congressional district from the dropdown list."
   ]
  },
  {
   "cell_type": "code",
   "execution_count": 10,
   "metadata": {},
   "outputs": [
    {
     "name": "stdout",
     "output_type": "stream",
     "text": [
      "There are 609 ICIS facilities in LA district 2 tracked in the ECHO database.\n"
     ]
    }
   ],
   "source": [
    "my_cd = w2.value\n",
    "my_cd_facs = my_state_facs[my_state_facs[\"FAC_DERIVED_CD113\"].fillna(0).astype(int) == my_cd]\n",
    "num_facilities = my_cd_facs.shape[0]    \n",
    "print(\"There are %s ICIS facilities in %s district %s tracked in the ECHO database.\" %(num_facilities, my_state, my_cd))"
   ]
  },
  {
   "cell_type": "markdown",
   "metadata": {},
   "source": [
    "Next look up the compliance monitoring history for the facilities in the selected\n",
    "state and congressional district.  This step may take awhile."
   ]
  },
  {
   "cell_type": "code",
   "execution_count": 11,
   "metadata": {},
   "outputs": [
    {
     "name": "stdout",
     "output_type": "stream",
     "text": [
      "select REGISTRY_ID, ACTUAL_END_DATE from `ICIS_FEC_EPA_INSPECTIONS` where STATUTE_CODE = 'CAA'\n",
      "http://apps.tlt.stonybrook.edu/echoepa/?query=select%20REGISTRY_ID%2C%20ACTUAL_END_DATE%20from%20%60ICIS_FEC_EPA_INSPECTIONS%60%20where%20STATUTE_CODE%20%3D%20%27CAA%27\n"
     ]
    }
   ],
   "source": [
    "# sql = \"select PGM_SYS_ID, STATE_EPA_FLAG, AGENCY_TYPE_DESC, COMP_MONITOR_DESC, ACTUAL_END_DATE from `ICIS-AIR_FCES_PCES` where STATE_CODE='\" + my_state + \"'\"\n",
    "url='http://apps.tlt.stonybrook.edu/echoepa/?query='\n",
    "\n",
    "sql = \"select REGISTRY_ID, ACTUAL_END_DATE from `ICIS_FEC_EPA_INSPECTIONS` where STATUTE_CODE = 'CAA'\"\n",
    "# sql = \"show columns from `ICIS_FEC_EPA_INSPECTIONS`\"\n",
    "# sql = \"show tables from slim_echoepa_a\"\n",
    "data_location=url+urllib.parse.quote(sql)\n",
    "print(sql)\n",
    "print(data_location)"
   ]
  },
  {
   "cell_type": "code",
   "execution_count": 20,
   "metadata": {},
   "outputs": [],
   "source": [
    "icis_data = pd.read_csv(data_location,encoding='iso-8859-1',header = 0)\n",
    "icis_data.set_index( \"REGISTRY_ID\", inplace=True)"
   ]
  },
  {
   "cell_type": "code",
   "execution_count": 13,
   "metadata": {
    "scrolled": true
   },
   "outputs": [],
   "source": [
    "# Find the facility that matches the inspection, by REGISTRY_ID.\n",
    "\n",
    "my_cd_icis = pd.DataFrame()\n",
    "no_data_ids = []\n",
    "# Look through all facilities in my CD.\n",
    "for fac in my_cd_facs.itertuples():\n",
    "    # breakpoint()\n",
    "    fac_id = fac.Index\n",
    "    try:\n",
    "        air_inspections = icis_data.loc[ fac_id ].copy()\n",
    "        # breakpoint()\n",
    "        n = air_inspections.shape[0]\n",
    "        fac_list = [fac.Index] * n\n",
    "        air_inspections['facility'] = fac_list\n",
    "        frames = [my_cd_icis, air_inspections]\n",
    "        my_cd_icis = pd.concat( frames, ignore_index=False )\n",
    "    except KeyError:\n",
    "        # The facility wasn't found in the ICIS_FEC_EPA_INSPECTIONS data.\n",
    "        no_data_ids.append( fac.Index )\n",
    "    \n",
    "# my_cd_icis.to_csv( r'my_cd_icis.csv', index=True, header=True )\n",
    "# with open( \"no_data_ids.txt\", \"w\" ) as output:\n",
    "#     output.write( str( no_data_ids ))"
   ]
  },
  {
   "cell_type": "markdown",
   "metadata": {},
   "source": [
    "Map the facilities that have had these compliance evaluations."
   ]
  },
  {
   "cell_type": "code",
   "execution_count": 20,
   "metadata": {},
   "outputs": [
    {
     "name": "stdout",
     "output_type": "stream",
     "text": [
      "Facilities without inspections: 559\n",
      "Facilities with inspections: 104\n"
     ]
    },
    {
     "data": {
      "text/html": [
       "<div>\n",
       "<style scoped>\n",
       "    .dataframe tbody tr th:only-of-type {\n",
       "        vertical-align: middle;\n",
       "    }\n",
       "\n",
       "    .dataframe tbody tr th {\n",
       "        vertical-align: top;\n",
       "    }\n",
       "\n",
       "    .dataframe thead th {\n",
       "        text-align: right;\n",
       "    }\n",
       "</style>\n",
       "<table border=\"1\" class=\"dataframe\">\n",
       "  <thead>\n",
       "    <tr style=\"text-align: right;\">\n",
       "      <th></th>\n",
       "      <th>0</th>\n",
       "      <th>ACTUAL_END_DATE</th>\n",
       "      <th>facility</th>\n",
       "    </tr>\n",
       "  </thead>\n",
       "  <tbody>\n",
       "    <tr>\n",
       "      <th>ACTUAL_END_DATE</th>\n",
       "      <td>01/13/2011</td>\n",
       "      <td>NaN</td>\n",
       "      <td>NaN</td>\n",
       "    </tr>\n",
       "    <tr>\n",
       "      <th>facility</th>\n",
       "      <td>[110001267502.0]</td>\n",
       "      <td>NaN</td>\n",
       "      <td>NaN</td>\n",
       "    </tr>\n",
       "    <tr>\n",
       "      <th>ACTUAL_END_DATE</th>\n",
       "      <td>01/12/2011</td>\n",
       "      <td>NaN</td>\n",
       "      <td>NaN</td>\n",
       "    </tr>\n",
       "    <tr>\n",
       "      <th>facility</th>\n",
       "      <td>[110000548943.0]</td>\n",
       "      <td>NaN</td>\n",
       "      <td>NaN</td>\n",
       "    </tr>\n",
       "    <tr>\n",
       "      <th>ACTUAL_END_DATE</th>\n",
       "      <td>06/12/2012</td>\n",
       "      <td>NaN</td>\n",
       "      <td>NaN</td>\n",
       "    </tr>\n",
       "    <tr>\n",
       "      <th>...</th>\n",
       "      <td>...</td>\n",
       "      <td>...</td>\n",
       "      <td>...</td>\n",
       "    </tr>\n",
       "    <tr>\n",
       "      <th>facility</th>\n",
       "      <td>[110041624472.0]</td>\n",
       "      <td>NaN</td>\n",
       "      <td>NaN</td>\n",
       "    </tr>\n",
       "    <tr>\n",
       "      <th>ACTUAL_END_DATE</th>\n",
       "      <td>05/21/2009</td>\n",
       "      <td>NaN</td>\n",
       "      <td>NaN</td>\n",
       "    </tr>\n",
       "    <tr>\n",
       "      <th>facility</th>\n",
       "      <td>[110000547953.0]</td>\n",
       "      <td>NaN</td>\n",
       "      <td>NaN</td>\n",
       "    </tr>\n",
       "    <tr>\n",
       "      <th>ACTUAL_END_DATE</th>\n",
       "      <td>07/29/2008</td>\n",
       "      <td>NaN</td>\n",
       "      <td>NaN</td>\n",
       "    </tr>\n",
       "    <tr>\n",
       "      <th>facility</th>\n",
       "      <td>[110017787242.0]</td>\n",
       "      <td>NaN</td>\n",
       "      <td>NaN</td>\n",
       "    </tr>\n",
       "  </tbody>\n",
       "</table>\n",
       "<p>104 rows × 3 columns</p>\n",
       "</div>"
      ],
      "text/plain": [
       "                                0 ACTUAL_END_DATE  facility\n",
       "ACTUAL_END_DATE        01/13/2011             NaN       NaN\n",
       "facility         [110001267502.0]             NaN       NaN\n",
       "ACTUAL_END_DATE        01/12/2011             NaN       NaN\n",
       "facility         [110000548943.0]             NaN       NaN\n",
       "ACTUAL_END_DATE        06/12/2012             NaN       NaN\n",
       "...                           ...             ...       ...\n",
       "facility         [110041624472.0]             NaN       NaN\n",
       "ACTUAL_END_DATE        05/21/2009             NaN       NaN\n",
       "facility         [110000547953.0]             NaN       NaN\n",
       "ACTUAL_END_DATE        07/29/2008             NaN       NaN\n",
       "facility         [110017787242.0]             NaN       NaN\n",
       "\n",
       "[104 rows x 3 columns]"
      ]
     },
     "execution_count": 20,
     "metadata": {},
     "output_type": "execute_result"
    }
   ],
   "source": [
    "\n",
    "print( \"Facilities without inspections: \" + str( len( no_data_ids )))\n",
    "print( \"Facilities with inspections: \" + str( len( my_cd_icis )))\n",
    "my_cd_icis"
   ]
  },
  {
   "cell_type": "code",
   "execution_count": 14,
   "metadata": {},
   "outputs": [],
   "source": [
    "fac_idx_list = my_cd_icis['facility'].dropna()\n",
    "fac_cd_icis = my_cd_facs.loc[fac_idx_list]"
   ]
  },
  {
   "cell_type": "code",
   "execution_count": 15,
   "metadata": {},
   "outputs": [
    {
     "data": {
      "text/html": [
       "<div style=\"width:100%;\"><div style=\"position:relative;width:100%;height:0;padding-bottom:60%;\"><iframe src=\"data:text/html;charset=utf-8;base64,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\" style=\"position:absolute;width:100%;height:100%;left:0;top:0;border:none !important;\" allowfullscreen webkitallowfullscreen mozallowfullscreen></iframe></div></div>"
      ],
      "text/plain": [
       "<folium.folium.Map at 0x7f363a550cd0>"
      ]
     },
     "execution_count": 15,
     "metadata": {},
     "output_type": "execute_result"
    }
   ],
   "source": [
    "# Let's show a quick map of your area and the facilities in it\n",
    "\n",
    "def mapper(df):\n",
    "    # Initialize the map\n",
    "    m = folium.Map(\n",
    "        location = [df.mean()[\"FAC_LAT\"], df.mean()[\"FAC_LONG\"]],\n",
    "        zoom_start = 11\n",
    "    )\n",
    "\n",
    "    # Add a clickable marker for each facility\n",
    "    for index, row in df.iterrows():\n",
    "        folium.Marker(\n",
    "            location = [row[\"FAC_LAT\"], row[\"FAC_LONG\"]],\n",
    "            popup = row[\"FAC_NAME\"] ).add_to(m)\n",
    "\n",
    "    # Show the map\n",
    "    return m\n",
    "\n",
    "map_of_facilities_in_my_area = mapper(fac_cd_icis)\n",
    "map_of_facilities_in_my_area"
   ]
  },
  {
   "cell_type": "markdown",
   "metadata": {},
   "source": [
    "Present another dropdown with the list of names of the facilities.  Choosing a facility will display\n",
    "the violations."
   ]
  },
  {
   "cell_type": "code",
   "execution_count": 16,
   "metadata": {},
   "outputs": [
    {
     "data": {
      "text/plain": [
       "array(['ALBEMARLE CORP - PROCESS DEVELOPMENT CENTER', 'BASF CORP',\n",
       "       'CARROLLTON WATER PURIFICATION PLANT',\n",
       "       'CENTRAL WASTEWATER TREATMENT PLANT',\n",
       "       'DELTA TERMINAL SERVICES, LLC',\n",
       "       'EXXONMOBIL CHEMICAL CO - BATON ROUGE PLASTICS PLANT',\n",
       "       'HARCROS CHEMICALS INC', 'IMTT-GEISMAR - GEISMAR LOGISTICS CENTER',\n",
       "       'INTERNATIONAL MATEX TANK TERMINAL (IMTT) - GRETNA FACILITY',\n",
       "       'KOCH NITROGEN CO LLC-TAFT TERMINAL', 'MEXICHEM FLUOR',\n",
       "       'NALCO COMPANY LLC- GARYVILLE FACILITY',\n",
       "       'PIONEER AMERICAS LLC DBA OLIN CHLOR ALKALI PRODUCTS - ST GABRIEL FACILITY',\n",
       "       'SOUTHERN UNIVERSITY A&M COLLEGE - BATON ROUGE CAMPUS'],\n",
       "      dtype=object)"
      ]
     },
     "execution_count": 16,
     "metadata": {},
     "output_type": "execute_result"
    }
   ],
   "source": [
    "cd_array = fac_cd_icis[\"FAC_NAME\"].unique()\n",
    "cd_array.sort()"
   ]
  },
  {
   "cell_type": "code",
   "execution_count": 17,
   "metadata": {},
   "outputs": [
    {
     "data": {
      "application/vnd.jupyter.widget-view+json": {
       "model_id": "b3af3da92e284d489d92e9d0e582859f",
       "version_major": 2,
       "version_minor": 0
      },
      "text/plain": [
       "Dropdown(description='Facility Name:', options=('ALBEMARLE CORP - PROCESS DEVELOPMENT CENTER', 'BASF CORP', 'C…"
      ]
     },
     "metadata": {},
     "output_type": "display_data"
    }
   ],
   "source": [
    "w3=widgets.Dropdown(\n",
    "    options=cd_array,\n",
    "    description='Facility Name:',\n",
    "    disabled=False,\n",
    ")\n",
    "display(w3)"
   ]
  },
  {
   "cell_type": "markdown",
   "metadata": {},
   "source": [
    "Run this next cell after choosing a facility."
   ]
  },
  {
   "cell_type": "code",
   "execution_count": 18,
   "metadata": {},
   "outputs": [
    {
     "data": {
      "text/html": [
       "<div>\n",
       "<style scoped>\n",
       "    .dataframe tbody tr th:only-of-type {\n",
       "        vertical-align: middle;\n",
       "    }\n",
       "\n",
       "    .dataframe tbody tr th {\n",
       "        vertical-align: top;\n",
       "    }\n",
       "\n",
       "    .dataframe thead th {\n",
       "        text-align: right;\n",
       "    }\n",
       "</style>\n",
       "<table border=\"1\" class=\"dataframe\">\n",
       "  <thead>\n",
       "    <tr style=\"text-align: right;\">\n",
       "      <th></th>\n",
       "      <th>0</th>\n",
       "      <th>ACTUAL_END_DATE</th>\n",
       "      <th>facility</th>\n",
       "    </tr>\n",
       "  </thead>\n",
       "  <tbody>\n",
       "    <tr>\n",
       "      <th>1.100128e+11</th>\n",
       "      <td>NaN</td>\n",
       "      <td>05/21/2004</td>\n",
       "      <td>1.100128e+11</td>\n",
       "    </tr>\n",
       "    <tr>\n",
       "      <th>1.100128e+11</th>\n",
       "      <td>NaN</td>\n",
       "      <td>05/21/2004</td>\n",
       "      <td>1.100128e+11</td>\n",
       "    </tr>\n",
       "  </tbody>\n",
       "</table>\n",
       "</div>"
      ],
      "text/plain": [
       "                0 ACTUAL_END_DATE      facility\n",
       "1.100128e+11  NaN      05/21/2004  1.100128e+11\n",
       "1.100128e+11  NaN      05/21/2004  1.100128e+11"
      ]
     },
     "execution_count": 18,
     "metadata": {},
     "output_type": "execute_result"
    }
   ],
   "source": [
    "my_fac = fac_cd_icis[fac_cd_icis[\"FAC_NAME\"] == w3.value]\n",
    "my_inspections = my_cd_icis[my_cd_icis['facility'] == my_fac.iloc[[0]].index[0]]\n",
    "# my_inspections\n"
   ]
  },
  {
   "cell_type": "code",
   "execution_count": 21,
   "metadata": {},
   "outputs": [],
   "source": [
    "# This cell creates a function that will be used by both the CD and the state\n",
    "# to plot the number of cases by year.\n",
    "import datetime\n",
    "\n",
    "def show_plot( df, date_field, year_field, place ):\n",
    "    format_str = '%m/%d/%Y' # The format\n",
    "    nan_count = 0\n",
    "    year_col = []\n",
    "    for day in df[date_field]:\n",
    "        try:\n",
    "            # breakpoint()\n",
    "            viol_year = datetime.datetime.strptime(day, format_str).year\n",
    "            year_col.append( viol_year )\n",
    "        except:\n",
    "            nan_count += 1\n",
    "            year_col.append(  np.NaN )\n",
    "    df[year_field] = year_col\n",
    "    \n",
    "    year_groups = df.groupby( year_field )[[ year_field ]]\n",
    "    counted_years = year_groups.count()\n",
    "\n",
    "    # Print how many values are present \n",
    "    print(counted_years)\n",
    "    chart_title = \"Total formal enforcements in \" + place + \" by year\"\n",
    "\n",
    "    ax = counted_years[[year_field]].plot(kind='bar', title = chart_title, figsize=(15, 10), legend=False, fontsize=12)\n",
    "    ax.set_xlabel(\"Year\", fontsize=12)\n",
    "    ax.set_ylabel(\"Count\", fontsize=12)"
   ]
  },
  {
   "cell_type": "markdown",
   "metadata": {},
   "source": [
    "## Plot the number of inspections by year for the congressional district."
   ]
  },
  {
   "cell_type": "code",
   "execution_count": 22,
   "metadata": {},
   "outputs": [
    {
     "name": "stdout",
     "output_type": "stream",
     "text": [
      "                 ACTUAL_END_YEAR\n",
      "ACTUAL_END_YEAR                 \n",
      "2002.0                         5\n",
      "2003.0                         2\n",
      "2004.0                         2\n",
      "2008.0                         3\n",
      "2009.0                         5\n",
      "2010.0                         2\n",
      "2012.0                         2\n",
      "2013.0                         2\n",
      "2014.0                         1\n",
      "2015.0                         6\n",
      "2017.0                         1\n",
      "2018.0                         1\n"
     ]
    },
    {
     "data": {
      "image/png": "[encoded data removed]",
      "text/plain": [
       "<Figure size 1080x720 with 1 Axes>"
      ]
     },
     "metadata": {
      "needs_background": "light"
     },
     "output_type": "display_data"
    }
   ],
   "source": [
    "show_plot( my_cd_icis, 'ACTUAL_END_DATE', 'ACTUAL_END_YEAR', my_state + ' - ' + str( my_cd ) )"
   ]
  },
  {
   "cell_type": "markdown",
   "metadata": {},
   "source": [
    "## Plot the number of inspections by year, using the entire state.\n",
    "Since the number of inspections in a single CD may be small, it can be more\n",
    "interesting to look at the entire state."
   ]
  },
  {
   "cell_type": "code",
   "execution_count": 23,
   "metadata": {},
   "outputs": [
    {
     "name": "stdout",
     "output_type": "stream",
     "text": [
      "                 ACTUAL_END_YEAR\n",
      "ACTUAL_END_YEAR                 \n",
      "1998.0                         1\n",
      "1999.0                         2\n",
      "2000.0                         6\n",
      "2001.0                        35\n",
      "2002.0                       207\n",
      "2003.0                       746\n",
      "2004.0                      1670\n",
      "2005.0                      1674\n",
      "2006.0                      1465\n",
      "2007.0                      1718\n",
      "2008.0                      1586\n",
      "2009.0                      1630\n",
      "2010.0                      1369\n",
      "2011.0                      1264\n",
      "2012.0                      1297\n",
      "2013.0                       833\n",
      "2014.0                       904\n",
      "2015.0                       760\n",
      "2016.0                       736\n",
      "2017.0                       638\n",
      "2018.0                       636\n",
      "2019.0                       518\n",
      "2020.0                       120\n"
     ]
    },
    {
     "data": {
      "image/png": "[encoded data removed]",
      "text/plain": [
       "<Figure size 1080x720 with 1 Axes>"
      ]
     },
     "metadata": {
      "needs_background": "light"
     },
     "output_type": "display_data"
    }
   ],
   "source": [
    "show_plot( icis_data, 'ACTUAL_END_DATE', 'ACTUAL_END_YEAR', my_state )"
   ]
  }
 ],
 "metadata": {
  "kernelspec": {
   "display_name": "Python 3.7.5 64-bit ('base': conda)",
   "language": "python",
   "name": "python37564bitbaseconda7071e98414dd4b3880bf69a85f4101b4"
  },
  "language_info": {
   "codemirror_mode": {
    "name": "ipython",
    "version": 3
   },
   "file_extension": ".py",
   "mimetype": "text/x-python",
   "name": "python",
   "nbconvert_exporter": "python",
   "pygments_lexer": "ipython3",
   "version": "3.7.6"
  }
 },
 "nbformat": 4,
 "nbformat_minor": 4
}
