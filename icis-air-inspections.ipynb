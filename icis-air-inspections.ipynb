{
 "cells": [
  {
   "cell_type": "markdown",
   "metadata": {},
   "source": [
    "Note:  This notebook has widgets to select the state, congressional district and facility.  Those currently work only when the cells are run one at a time sequentially, not all at once."
   ]
  },
  {
   "cell_type": "markdown",
   "metadata": {},
   "source": [
    "## Clean Air Act Compliance Evaluations by Congressional District\n",
    "\n",
    "This notebook examines ECHO data using ICIS_FEC_EPA_INSPECTIONS.\n",
    "The fields in this table are:\n",
    "<ol>\n",
    "    <li>REGISTRY_ID, </li>\n",
    "    <li>STATUTE_CODE, </li>\n",
    "    <li>ACTUAL_BEGIN_DATE</li>\n",
    "\n",
    "The REGISTRY_ID identifier is linked to the ECHO_EXPORTER table's field of the same name.\n",
    "\n",
    "The STATUTE_CODE of interest for this notebook is 'CAA'.\n",
    "    \n",
    "A state and congressional district must be chosen using the dropdown\n",
    "widgets that are provided."
   ]
  },
  {
   "cell_type": "code",
   "execution_count": 1,
   "metadata": {},
   "outputs": [],
   "source": [
    "# Import libraries\n",
    "import urllib.parse\n",
    "import pandas as pd\n",
    "import numpy as np\n",
    "import matplotlib.pyplot as plt\n",
    "%matplotlib inline\n",
    "import folium\n",
    "\n",
    "from ipywidgets import interact, interactive, fixed, interact_manual\n",
    "import ipywidgets as widgets\n",
    "from IPython.display import display\n"
   ]
  },
  {
   "cell_type": "code",
   "execution_count": 2,
   "metadata": {},
   "outputs": [
    {
     "name": "stdout",
     "output_type": "stream",
     "text": [
      "select REGISTRY_ID, FAC_NAME, FAC_STATE, FAC_LAT, FAC_LONG, FAC_DERIVED_CD113 from ECHO_EXPORTER where AIR_FLAG = 'Y'\n",
      "http://apps.tlt.stonybrook.edu/echoepa/?query=select%20REGISTRY_ID%2C%20FAC_NAME%2C%20FAC_STATE%2C%20FAC_LAT%2C%20FAC_LONG%2C%20FAC_DERIVED_CD113%20from%20ECHO_EXPORTER%20where%20AIR_FLAG%20%3D%20%27Y%27\n"
     ]
    }
   ],
   "source": [
    "#data_location = \"https://github.com/edgi-govdata-archiving/echo-data/blob/master/ECHO_EXPORTER.csv?raw=true\" # Where the ECHO data is saved\n",
    "#sql=\"SELECT * FROM ECHO_EXPORTER as e,`ICIS-AIR_FACILITIES` as f,`ICIS-AIR_VIOLATION_HISTORY` as h  where  e.FAC_ZIP=f.ZIP_CODE and f.PGM_SYS_ID=h.PGM_SYS_ID and f.ZIP_CODE=%s\" %(my_zip)\n",
    "#sql='show tables'  \n",
    "#sql= 'show columns from `ECHO_EXPORTER` '\n",
    "\n",
    "sql = \"select REGISTRY_ID, FAC_NAME, FAC_STATE, FAC_LAT, FAC_LONG, FAC_DERIVED_CD113 from ECHO_EXPORTER where AIR_FLAG = 'Y'\"\n",
    "url='http://apps.tlt.stonybrook.edu/echoepa/?query='\n",
    "data_location=url+urllib.parse.quote(sql)\n",
    "print(sql)\n",
    "print(data_location)\n"
   ]
  },
  {
   "cell_type": "code",
   "execution_count": 3,
   "metadata": {
    "scrolled": false
   },
   "outputs": [],
   "source": [
    "\n",
    "echo_data = pd.read_csv(data_location,encoding='iso-8859-1',header = 0)\n",
    "echo_data.set_index( \"REGISTRY_ID\", inplace=True)\n",
    "\n",
    "# local_data_location = \"../../ICIS_Air_Violation/ECHO_EXPORTER-Air.csv\"\n",
    "# echo_data = pd.read_csv(local_data_location,encoding='iso-8859-1',header = 0)\n"
   ]
  },
  {
   "cell_type": "markdown",
   "metadata": {},
   "source": [
    "Run this next cell, select a state, and then run the following cell."
   ]
  },
  {
   "cell_type": "code",
   "execution_count": 4,
   "metadata": {},
   "outputs": [
    {
     "data": {
      "application/vnd.jupyter.widget-view+json": {
       "model_id": "82d0f142016b4366818fb69b46a398eb",
       "version_major": 2,
       "version_minor": 0
      },
      "text/plain": [
       "Dropdown(description='State:', index=32, options=('AL', 'AK', 'AZ', 'AR', 'CA', 'CO', 'CT', 'DC', 'DE', 'FL', …"
      ]
     },
     "metadata": {},
     "output_type": "display_data"
    }
   ],
   "source": [
    "states = [\"AL\", \"AK\", \"AZ\", \"AR\", \"CA\", \"CO\", \"CT\", \"DC\", \"DE\", \"FL\", \"GA\", \n",
    "          \"HI\", \"ID\", \"IL\", \"IN\", \"IA\", \"KS\", \"KY\", \"LA\", \"ME\", \"MD\", \n",
    "          \"MA\", \"MI\", \"MN\", \"MS\", \"MO\", \"MT\", \"NE\", \"NV\", \"NH\", \"NJ\", \n",
    "          \"NM\", \"NY\", \"NC\", \"ND\", \"OH\", \"OK\", \"OR\", \"PA\", \"RI\", \"SC\", \n",
    "          \"SD\", \"TN\", \"TX\", \"UT\", \"VT\", \"VA\", \"WA\", \"WV\", \"WI\", \"WY\"]\n",
    "dropdown_state=widgets.Dropdown(\n",
    "    options=states,\n",
    "    value='NY',\n",
    "    description='State:',\n",
    "    disabled=False,\n",
    ")\n",
    "output_state = widgets.Output()\n",
    "my_state = \"\"\n",
    "\n",
    "def dropdown_state_eventhandler( change ):\n",
    "    output_state.clear_output()\n",
    "    value = change.new\n",
    "    with output_state:\n",
    "        display( change.new )\n",
    "        # if ( change.new == \"all\" ):\n",
    "        #     display( echo_data )\n",
    "        # else:\n",
    "        #     display( echo_data[echo_data[\"FAC_STATE\"] == change.new] )\n",
    "            \n",
    "dropdown_state.observe( dropdown_state_eventhandler, names='value')\n",
    "display( dropdown_state )"
   ]
  },
  {
   "cell_type": "markdown",
   "metadata": {},
   "source": [
    "Run this next cell after choosing a state from the dropdown list."
   ]
  },
  {
   "cell_type": "code",
   "execution_count": 5,
   "metadata": {},
   "outputs": [
    {
     "name": "stdout",
     "output_type": "stream",
     "text": [
      "There are 12702 ICIS facilities in LA tracked in the ECHO database.\n"
     ]
    }
   ],
   "source": [
    "my_state = dropdown_state.value\n",
    "my_state_facs = echo_data[echo_data[\"FAC_STATE\"] == my_state]\n",
    "\n",
    "num_facilities = my_state_facs.shape[0]\n",
    "print(\"There are %s ICIS facilities in %s tracked in the ECHO database.\" %(num_facilities, my_state))"
   ]
  },
  {
   "cell_type": "markdown",
   "metadata": {},
   "source": [
    "Run this next cell to generate the Congressional District dropdown list for your state.  Then select a CD and run the following cell."
   ]
  },
  {
   "cell_type": "code",
   "execution_count": 6,
   "metadata": {},
   "outputs": [
    {
     "data": {
      "application/vnd.jupyter.widget-view+json": {
       "model_id": "280f2862b51547f7876561de888efff8",
       "version_major": 2,
       "version_minor": 0
      },
      "text/plain": [
       "Dropdown(description='Congressional Districts:', index=1, options=(0, 1, 2, 3, 4, 5, 6, 18), value=1)"
      ]
     },
     "metadata": {},
     "output_type": "display_data"
    }
   ],
   "source": [
    "if (( my_state != 'none' ) & (my_state != 'all' )):\n",
    "    cd_array = my_state_facs[\"FAC_DERIVED_CD113\"].fillna(0).astype(int).unique()\n",
    "    cd_array.sort()\n",
    "    w2=widgets.Dropdown(\n",
    "        options=cd_array,\n",
    "        value=1,\n",
    "        description='Congressional Districts:',\n",
    "        disabled=False,\n",
    "    )\n",
    "    display(w2)"
   ]
  },
  {
   "cell_type": "markdown",
   "metadata": {},
   "source": [
    "Run this next cell after choosing a congressional district from the dropdown list."
   ]
  },
  {
   "cell_type": "code",
   "execution_count": 7,
   "metadata": {},
   "outputs": [
    {
     "name": "stdout",
     "output_type": "stream",
     "text": [
      "There are 609 ICIS facilities in LA district 2 tracked in the ECHO database.\n"
     ]
    }
   ],
   "source": [
    "my_cd = w2.value\n",
    "my_cd_facs = my_state_facs[my_state_facs[\"FAC_DERIVED_CD113\"].fillna(0).astype(int) == my_cd]\n",
    "num_facilities = my_cd_facs.shape[0]    \n",
    "print(\"There are %s ICIS facilities in %s district %s tracked in the ECHO database.\" %(num_facilities, my_state, my_cd))"
   ]
  },
  {
   "cell_type": "markdown",
   "metadata": {},
   "source": [
    "Next look up the compliance monitoring history for the facilities in the selected\n",
    "state and congressional district.  This step may take awhile."
   ]
  },
  {
   "cell_type": "code",
   "execution_count": 8,
   "metadata": {},
   "outputs": [
    {
     "name": "stdout",
     "output_type": "stream",
     "text": [
      "select REGISTRY_ID, ACTUAL_END_DATE from `ICIS_FEC_EPA_INSPECTIONS` where STATUTE_CODE = 'CAA'\n",
      "http://apps.tlt.stonybrook.edu/echoepa/?query=select%20REGISTRY_ID%2C%20ACTUAL_END_DATE%20from%20%60ICIS_FEC_EPA_INSPECTIONS%60%20where%20STATUTE_CODE%20%3D%20%27CAA%27\n"
     ]
    }
   ],
   "source": [
    "# sql = \"select PGM_SYS_ID, STATE_EPA_FLAG, AGENCY_TYPE_DESC, COMP_MONITOR_DESC, ACTUAL_END_DATE from `ICIS-AIR_FCES_PCES` where STATE_CODE='\" + my_state + \"'\"\n",
    "url='http://apps.tlt.stonybrook.edu/echoepa/?query='\n",
    "\n",
    "sql = \"select REGISTRY_ID, ACTUAL_END_DATE from `ICIS_FEC_EPA_INSPECTIONS` where STATUTE_CODE = 'CAA'\"\n",
    "# sql = \"show columns from `ICIS_FEC_EPA_INSPECTIONS`\"\n",
    "# sql = \"show tables from slim_echoepa_a\"\n",
    "data_location=url+urllib.parse.quote(sql)\n",
    "print(sql)\n",
    "print(data_location)"
   ]
  },
  {
   "cell_type": "code",
   "execution_count": 9,
   "metadata": {},
   "outputs": [],
   "source": [
    "icis_data = pd.read_csv(data_location,encoding='iso-8859-1',header = 0)\n",
    "icis_data.set_index( \"REGISTRY_ID\", inplace=True)"
   ]
  },
  {
   "cell_type": "code",
   "execution_count": 14,
   "metadata": {},
   "outputs": [
    {
     "data": {
      "text/html": [
       "<div>\n",
       "<style scoped>\n",
       "    .dataframe tbody tr th:only-of-type {\n",
       "        vertical-align: middle;\n",
       "    }\n",
       "\n",
       "    .dataframe tbody tr th {\n",
       "        vertical-align: top;\n",
       "    }\n",
       "\n",
       "    .dataframe thead th {\n",
       "        text-align: right;\n",
       "    }\n",
       "</style>\n",
       "<table border=\"1\" class=\"dataframe\">\n",
       "  <thead>\n",
       "    <tr style=\"text-align: right;\">\n",
       "      <th></th>\n",
       "      <th>ACTUAL_END_DATE</th>\n",
       "    </tr>\n",
       "    <tr>\n",
       "      <th>REGISTRY_ID</th>\n",
       "      <th></th>\n",
       "    </tr>\n",
       "  </thead>\n",
       "  <tbody>\n",
       "    <tr>\n",
       "      <th>1.100004e+11</th>\n",
       "      <td>04/11/2014</td>\n",
       "    </tr>\n",
       "    <tr>\n",
       "      <th>1.100123e+11</th>\n",
       "      <td>04/22/2014</td>\n",
       "    </tr>\n",
       "    <tr>\n",
       "      <th>1.100589e+11</th>\n",
       "      <td>03/27/2014</td>\n",
       "    </tr>\n",
       "    <tr>\n",
       "      <th>1.100589e+11</th>\n",
       "      <td>12/06/2013</td>\n",
       "    </tr>\n",
       "    <tr>\n",
       "      <th>1.100449e+11</th>\n",
       "      <td>11/02/2013</td>\n",
       "    </tr>\n",
       "    <tr>\n",
       "      <th>...</th>\n",
       "      <td>...</td>\n",
       "    </tr>\n",
       "    <tr>\n",
       "      <th>1.100004e+11</th>\n",
       "      <td>08/20/2008</td>\n",
       "    </tr>\n",
       "    <tr>\n",
       "      <th>1.100069e+11</th>\n",
       "      <td>02/12/2008</td>\n",
       "    </tr>\n",
       "    <tr>\n",
       "      <th>1.100098e+11</th>\n",
       "      <td>10/24/2014</td>\n",
       "    </tr>\n",
       "    <tr>\n",
       "      <th>NaN</th>\n",
       "      <td>09/12/2007</td>\n",
       "    </tr>\n",
       "    <tr>\n",
       "      <th>NaN</th>\n",
       "      <td>06/29/2009</td>\n",
       "    </tr>\n",
       "  </tbody>\n",
       "</table>\n",
       "<p>20126 rows × 1 columns</p>\n",
       "</div>"
      ],
      "text/plain": [
       "             ACTUAL_END_DATE\n",
       "REGISTRY_ID                 \n",
       "1.100004e+11      04/11/2014\n",
       "1.100123e+11      04/22/2014\n",
       "1.100589e+11      03/27/2014\n",
       "1.100589e+11      12/06/2013\n",
       "1.100449e+11      11/02/2013\n",
       "...                      ...\n",
       "1.100004e+11      08/20/2008\n",
       "1.100069e+11      02/12/2008\n",
       "1.100098e+11      10/24/2014\n",
       "NaN               09/12/2007\n",
       "NaN               06/29/2009\n",
       "\n",
       "[20126 rows x 1 columns]"
      ]
     },
     "execution_count": 14,
     "metadata": {},
     "output_type": "execute_result"
    }
   ],
   "source": [
    "icis_data"
   ]
  },
  {
   "cell_type": "code",
   "execution_count": 19,
   "metadata": {
    "scrolled": true
   },
   "outputs": [],
   "source": [
    "# Find the facility that matches the inspection, by REGISTRY_ID.\n",
    "\n",
    "my_cd_icis = pd.DataFrame()\n",
    "no_data_ids = []\n",
    "# Look through all facilities in my CD.\n",
    "for fac in my_cd_facs.itertuples():\n",
    "    # breakpoint()\n",
    "    fac_id = fac.Index\n",
    "    try:\n",
    "        air_inspections = icis_data.loc[ fac_id ].copy()\n",
    "        # breakpoint()\n",
    "        n = air_inspections.shape[0]\n",
    "        fac_list = [fac.Index] * n\n",
    "        air_inspections['facility'] = fac_list\n",
    "        frames = [my_cd_icis, air_inspections]\n",
    "        my_cd_icis = pd.concat( frames, ignore_index=False )\n",
    "    except KeyError:\n",
    "        # The facility wasn't found in the ICIS_FEC_EPA_INSPECTIONS data.\n",
    "        no_data_ids.append( fac.Index )\n",
    "    \n",
    "my_cd_icis.to_csv( r'my_cd_icis.csv', index=True, header=True )\n",
    "# with open( \"no_data_ids.txt\", \"w\" ) as output:\n",
    "#     output.write( str( no_data_ids ))"
   ]
  },
  {
   "cell_type": "markdown",
   "metadata": {},
   "source": [
    "Map the facilities that have had these compliance evaluations."
   ]
  },
  {
   "cell_type": "code",
   "execution_count": 20,
   "metadata": {},
   "outputs": [
    {
     "name": "stdout",
     "output_type": "stream",
     "text": [
      "Facilities without inspections: 559\n",
      "Facilities with inspections: 104\n"
     ]
    },
    {
     "data": {
      "text/html": [
       "<div>\n",
       "<style scoped>\n",
       "    .dataframe tbody tr th:only-of-type {\n",
       "        vertical-align: middle;\n",
       "    }\n",
       "\n",
       "    .dataframe tbody tr th {\n",
       "        vertical-align: top;\n",
       "    }\n",
       "\n",
       "    .dataframe thead th {\n",
       "        text-align: right;\n",
       "    }\n",
       "</style>\n",
       "<table border=\"1\" class=\"dataframe\">\n",
       "  <thead>\n",
       "    <tr style=\"text-align: right;\">\n",
       "      <th></th>\n",
       "      <th>0</th>\n",
       "      <th>ACTUAL_END_DATE</th>\n",
       "      <th>facility</th>\n",
       "    </tr>\n",
       "  </thead>\n",
       "  <tbody>\n",
       "    <tr>\n",
       "      <th>ACTUAL_END_DATE</th>\n",
       "      <td>01/13/2011</td>\n",
       "      <td>NaN</td>\n",
       "      <td>NaN</td>\n",
       "    </tr>\n",
       "    <tr>\n",
       "      <th>facility</th>\n",
       "      <td>[110001267502.0]</td>\n",
       "      <td>NaN</td>\n",
       "      <td>NaN</td>\n",
       "    </tr>\n",
       "    <tr>\n",
       "      <th>ACTUAL_END_DATE</th>\n",
       "      <td>01/12/2011</td>\n",
       "      <td>NaN</td>\n",
       "      <td>NaN</td>\n",
       "    </tr>\n",
       "    <tr>\n",
       "      <th>facility</th>\n",
       "      <td>[110000548943.0]</td>\n",
       "      <td>NaN</td>\n",
       "      <td>NaN</td>\n",
       "    </tr>\n",
       "    <tr>\n",
       "      <th>ACTUAL_END_DATE</th>\n",
       "      <td>06/12/2012</td>\n",
       "      <td>NaN</td>\n",
       "      <td>NaN</td>\n",
       "    </tr>\n",
       "    <tr>\n",
       "      <th>...</th>\n",
       "      <td>...</td>\n",
       "      <td>...</td>\n",
       "      <td>...</td>\n",
       "    </tr>\n",
       "    <tr>\n",
       "      <th>facility</th>\n",
       "      <td>[110041624472.0]</td>\n",
       "      <td>NaN</td>\n",
       "      <td>NaN</td>\n",
       "    </tr>\n",
       "    <tr>\n",
       "      <th>ACTUAL_END_DATE</th>\n",
       "      <td>05/21/2009</td>\n",
       "      <td>NaN</td>\n",
       "      <td>NaN</td>\n",
       "    </tr>\n",
       "    <tr>\n",
       "      <th>facility</th>\n",
       "      <td>[110000547953.0]</td>\n",
       "      <td>NaN</td>\n",
       "      <td>NaN</td>\n",
       "    </tr>\n",
       "    <tr>\n",
       "      <th>ACTUAL_END_DATE</th>\n",
       "      <td>07/29/2008</td>\n",
       "      <td>NaN</td>\n",
       "      <td>NaN</td>\n",
       "    </tr>\n",
       "    <tr>\n",
       "      <th>facility</th>\n",
       "      <td>[110017787242.0]</td>\n",
       "      <td>NaN</td>\n",
       "      <td>NaN</td>\n",
       "    </tr>\n",
       "  </tbody>\n",
       "</table>\n",
       "<p>104 rows × 3 columns</p>\n",
       "</div>"
      ],
      "text/plain": [
       "                                0 ACTUAL_END_DATE  facility\n",
       "ACTUAL_END_DATE        01/13/2011             NaN       NaN\n",
       "facility         [110001267502.0]             NaN       NaN\n",
       "ACTUAL_END_DATE        01/12/2011             NaN       NaN\n",
       "facility         [110000548943.0]             NaN       NaN\n",
       "ACTUAL_END_DATE        06/12/2012             NaN       NaN\n",
       "...                           ...             ...       ...\n",
       "facility         [110041624472.0]             NaN       NaN\n",
       "ACTUAL_END_DATE        05/21/2009             NaN       NaN\n",
       "facility         [110000547953.0]             NaN       NaN\n",
       "ACTUAL_END_DATE        07/29/2008             NaN       NaN\n",
       "facility         [110017787242.0]             NaN       NaN\n",
       "\n",
       "[104 rows x 3 columns]"
      ]
     },
     "execution_count": 20,
     "metadata": {},
     "output_type": "execute_result"
    }
   ],
   "source": [
    "\n",
    "print( \"Facilities without inspections: \" + str( len( no_data_ids )))\n",
    "print( \"Facilities with inspections: \" + str( len( my_cd_icis )))\n",
    "my_cd_icis"
   ]
  },
  {
   "cell_type": "code",
   "execution_count": 21,
   "metadata": {},
   "outputs": [],
   "source": [
    "fac_idx_list = my_cd_icis['facility'].dropna()\n",
    "fac_cd_icis = my_cd_facs.loc[fac_idx_list]"
   ]
  },
  {
   "cell_type": "code",
   "execution_count": 22,
   "metadata": {},
   "outputs": [
    {
     "data": {
      "text/html": [
       "<div style=\"width:100%;\"><div style=\"position:relative;width:100%;height:0;padding-bottom:60%;\"><iframe src=\"data:text/html;charset=utf-8;base64,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\" style=\"position:absolute;width:100%;height:100%;left:0;top:0;border:none !important;\" allowfullscreen webkitallowfullscreen mozallowfullscreen></iframe></div></div>"
      ],
      "text/plain": [
       "<folium.folium.Map at 0x7f3628cba8d0>"
      ]
     },
     "execution_count": 22,
     "metadata": {},
     "output_type": "execute_result"
    }
   ],
   "source": [
    "# Let's show a quick map of your area and the facilities in it\n",
    "\n",
    "def mapper(df):\n",
    "    # Initialize the map\n",
    "    m = folium.Map(\n",
    "        location = [df.mean()[\"FAC_LAT\"], df.mean()[\"FAC_LONG\"]],\n",
    "        zoom_start = 11\n",
    "    )\n",
    "\n",
    "    # Add a clickable marker for each facility\n",
    "    for index, row in df.iterrows():\n",
    "        folium.Marker(\n",
    "            location = [row[\"FAC_LAT\"], row[\"FAC_LONG\"]],\n",
    "            popup = row[\"FAC_NAME\"] ).add_to(m)\n",
    "\n",
    "    # Show the map\n",
    "    return m\n",
    "\n",
    "map_of_facilities_in_my_area = mapper(fac_cd_icis)\n",
    "map_of_facilities_in_my_area"
   ]
  },
  {
   "cell_type": "markdown",
   "metadata": {},
   "source": [
    "Present another dropdown with the list of names of the facilities.  Choosing a facility will display\n",
    "the violations."
   ]
  },
  {
   "cell_type": "code",
   "execution_count": 24,
   "metadata": {},
   "outputs": [
    {
     "data": {
      "text/plain": [
       "array(['ALBEMARLE CORP - PROCESS DEVELOPMENT CENTER', 'BASF CORP',\n",
       "       'CARROLLTON WATER PURIFICATION PLANT',\n",
       "       'CENTRAL WASTEWATER TREATMENT PLANT',\n",
       "       'DELTA TERMINAL SERVICES, LLC',\n",
       "       'EXXONMOBIL CHEMICAL CO - BATON ROUGE PLASTICS PLANT',\n",
       "       'HARCROS CHEMICALS INC', 'IMTT-GEISMAR - GEISMAR LOGISTICS CENTER',\n",
       "       'INTERNATIONAL MATEX TANK TERMINAL (IMTT) - GRETNA FACILITY',\n",
       "       'KOCH NITROGEN CO LLC-TAFT TERMINAL', 'MEXICHEM FLUOR',\n",
       "       'NALCO COMPANY LLC- GARYVILLE FACILITY',\n",
       "       'PIONEER AMERICAS LLC DBA OLIN CHLOR ALKALI PRODUCTS - ST GABRIEL FACILITY',\n",
       "       'SOUTHERN UNIVERSITY A&M COLLEGE - BATON ROUGE CAMPUS'],\n",
       "      dtype=object)"
      ]
     },
     "execution_count": 24,
     "metadata": {},
     "output_type": "execute_result"
    }
   ],
   "source": [
    "cd_array = fac_cd_icis[\"FAC_NAME\"].unique()\n",
    "cd_array.sort()\n",
    "cd_array\n"
   ]
  },
  {
   "cell_type": "code",
   "execution_count": 25,
   "metadata": {},
   "outputs": [
    {
     "data": {
      "application/vnd.jupyter.widget-view+json": {
       "model_id": "be619491d3d34e7b8e682af19eb94f7c",
       "version_major": 2,
       "version_minor": 0
      },
      "text/plain": [
       "Dropdown(description='Facility Name:', options=('ALBEMARLE CORP - PROCESS DEVELOPMENT CENTER', 'BASF CORP', 'C…"
      ]
     },
     "metadata": {},
     "output_type": "display_data"
    }
   ],
   "source": [
    "w3=widgets.Dropdown(\n",
    "    options=cd_array,\n",
    "    description='Facility Name:',\n",
    "    disabled=False,\n",
    ")\n",
    "display(w3)"
   ]
  },
  {
   "cell_type": "markdown",
   "metadata": {},
   "source": [
    "Run this next cell after choosing a facility."
   ]
  },
  {
   "cell_type": "code",
   "execution_count": 26,
   "metadata": {},
   "outputs": [
    {
     "data": {
      "text/html": [
       "<div>\n",
       "<style scoped>\n",
       "    .dataframe tbody tr th:only-of-type {\n",
       "        vertical-align: middle;\n",
       "    }\n",
       "\n",
       "    .dataframe tbody tr th {\n",
       "        vertical-align: top;\n",
       "    }\n",
       "\n",
       "    .dataframe thead th {\n",
       "        text-align: right;\n",
       "    }\n",
       "</style>\n",
       "<table border=\"1\" class=\"dataframe\">\n",
       "  <thead>\n",
       "    <tr style=\"text-align: right;\">\n",
       "      <th></th>\n",
       "      <th>0</th>\n",
       "      <th>ACTUAL_END_DATE</th>\n",
       "      <th>facility</th>\n",
       "    </tr>\n",
       "  </thead>\n",
       "  <tbody>\n",
       "    <tr>\n",
       "      <th>1.100225e+11</th>\n",
       "      <td>NaN</td>\n",
       "      <td>02/12/2013</td>\n",
       "      <td>1.100225e+11</td>\n",
       "    </tr>\n",
       "    <tr>\n",
       "      <th>1.100225e+11</th>\n",
       "      <td>NaN</td>\n",
       "      <td>05/20/2009</td>\n",
       "      <td>1.100225e+11</td>\n",
       "    </tr>\n",
       "  </tbody>\n",
       "</table>\n",
       "</div>"
      ],
      "text/plain": [
       "                0 ACTUAL_END_DATE      facility\n",
       "1.100225e+11  NaN      02/12/2013  1.100225e+11\n",
       "1.100225e+11  NaN      05/20/2009  1.100225e+11"
      ]
     },
     "execution_count": 26,
     "metadata": {},
     "output_type": "execute_result"
    }
   ],
   "source": [
    "my_fac = fac_cd_icis[fac_cd_icis[\"FAC_NAME\"] == w3.value]\n",
    "my_inspections = my_cd_icis[my_cd_icis['facility'] == my_fac.iloc[[0]].index[0]]\n",
    "my_inspections\n"
   ]
  },
  {
   "cell_type": "markdown",
   "metadata": {},
   "source": [
    "## Plot the number of violations by year, using the entire state.\n",
    "For this we can use the statewide numbers, as they will be small for individual districts."
   ]
  },
  {
   "cell_type": "code",
   "execution_count": 27,
   "metadata": {},
   "outputs": [
    {
     "data": {
      "text/html": [
       "<div>\n",
       "<style scoped>\n",
       "    .dataframe tbody tr th:only-of-type {\n",
       "        vertical-align: middle;\n",
       "    }\n",
       "\n",
       "    .dataframe tbody tr th {\n",
       "        vertical-align: top;\n",
       "    }\n",
       "\n",
       "    .dataframe thead th {\n",
       "        text-align: right;\n",
       "    }\n",
       "</style>\n",
       "<table border=\"1\" class=\"dataframe\">\n",
       "  <thead>\n",
       "    <tr style=\"text-align: right;\">\n",
       "      <th></th>\n",
       "      <th>ACTUAL_END_DATE</th>\n",
       "    </tr>\n",
       "    <tr>\n",
       "      <th>REGISTRY_ID</th>\n",
       "      <th></th>\n",
       "    </tr>\n",
       "  </thead>\n",
       "  <tbody>\n",
       "    <tr>\n",
       "      <th>1.100004e+11</th>\n",
       "      <td>04/11/2014</td>\n",
       "    </tr>\n",
       "    <tr>\n",
       "      <th>1.100123e+11</th>\n",
       "      <td>04/22/2014</td>\n",
       "    </tr>\n",
       "    <tr>\n",
       "      <th>1.100589e+11</th>\n",
       "      <td>03/27/2014</td>\n",
       "    </tr>\n",
       "    <tr>\n",
       "      <th>1.100589e+11</th>\n",
       "      <td>12/06/2013</td>\n",
       "    </tr>\n",
       "    <tr>\n",
       "      <th>1.100449e+11</th>\n",
       "      <td>11/02/2013</td>\n",
       "    </tr>\n",
       "    <tr>\n",
       "      <th>...</th>\n",
       "      <td>...</td>\n",
       "    </tr>\n",
       "    <tr>\n",
       "      <th>1.100004e+11</th>\n",
       "      <td>08/20/2008</td>\n",
       "    </tr>\n",
       "    <tr>\n",
       "      <th>1.100069e+11</th>\n",
       "      <td>02/12/2008</td>\n",
       "    </tr>\n",
       "    <tr>\n",
       "      <th>1.100098e+11</th>\n",
       "      <td>10/24/2014</td>\n",
       "    </tr>\n",
       "    <tr>\n",
       "      <th>NaN</th>\n",
       "      <td>09/12/2007</td>\n",
       "    </tr>\n",
       "    <tr>\n",
       "      <th>NaN</th>\n",
       "      <td>06/29/2009</td>\n",
       "    </tr>\n",
       "  </tbody>\n",
       "</table>\n",
       "<p>20126 rows × 1 columns</p>\n",
       "</div>"
      ],
      "text/plain": [
       "             ACTUAL_END_DATE\n",
       "REGISTRY_ID                 \n",
       "1.100004e+11      04/11/2014\n",
       "1.100123e+11      04/22/2014\n",
       "1.100589e+11      03/27/2014\n",
       "1.100589e+11      12/06/2013\n",
       "1.100449e+11      11/02/2013\n",
       "...                      ...\n",
       "1.100004e+11      08/20/2008\n",
       "1.100069e+11      02/12/2008\n",
       "1.100098e+11      10/24/2014\n",
       "NaN               09/12/2007\n",
       "NaN               06/29/2009\n",
       "\n",
       "[20126 rows x 1 columns]"
      ]
     },
     "execution_count": 27,
     "metadata": {},
     "output_type": "execute_result"
    }
   ],
   "source": [
    "icis_data"
   ]
  },
  {
   "cell_type": "code",
   "execution_count": 28,
   "metadata": {},
   "outputs": [
    {
     "data": {
      "text/html": [
       "<div>\n",
       "<style scoped>\n",
       "    .dataframe tbody tr th:only-of-type {\n",
       "        vertical-align: middle;\n",
       "    }\n",
       "\n",
       "    .dataframe tbody tr th {\n",
       "        vertical-align: top;\n",
       "    }\n",
       "\n",
       "    .dataframe thead th {\n",
       "        text-align: right;\n",
       "    }\n",
       "</style>\n",
       "<table border=\"1\" class=\"dataframe\">\n",
       "  <thead>\n",
       "    <tr style=\"text-align: right;\">\n",
       "      <th></th>\n",
       "      <th>ACTUAL_END_DATE</th>\n",
       "    </tr>\n",
       "    <tr>\n",
       "      <th>REGISTRY_ID</th>\n",
       "      <th></th>\n",
       "    </tr>\n",
       "  </thead>\n",
       "  <tbody>\n",
       "    <tr>\n",
       "      <th>1.100004e+11</th>\n",
       "      <td>2014.0</td>\n",
       "    </tr>\n",
       "    <tr>\n",
       "      <th>1.100123e+11</th>\n",
       "      <td>2014.0</td>\n",
       "    </tr>\n",
       "    <tr>\n",
       "      <th>1.100589e+11</th>\n",
       "      <td>2014.0</td>\n",
       "    </tr>\n",
       "    <tr>\n",
       "      <th>1.100589e+11</th>\n",
       "      <td>2013.0</td>\n",
       "    </tr>\n",
       "    <tr>\n",
       "      <th>1.100449e+11</th>\n",
       "      <td>2013.0</td>\n",
       "    </tr>\n",
       "    <tr>\n",
       "      <th>...</th>\n",
       "      <td>...</td>\n",
       "    </tr>\n",
       "    <tr>\n",
       "      <th>1.100004e+11</th>\n",
       "      <td>2008.0</td>\n",
       "    </tr>\n",
       "    <tr>\n",
       "      <th>1.100069e+11</th>\n",
       "      <td>2008.0</td>\n",
       "    </tr>\n",
       "    <tr>\n",
       "      <th>1.100098e+11</th>\n",
       "      <td>2014.0</td>\n",
       "    </tr>\n",
       "    <tr>\n",
       "      <th>NaN</th>\n",
       "      <td>2007.0</td>\n",
       "    </tr>\n",
       "    <tr>\n",
       "      <th>NaN</th>\n",
       "      <td>2009.0</td>\n",
       "    </tr>\n",
       "  </tbody>\n",
       "</table>\n",
       "<p>20126 rows × 1 columns</p>\n",
       "</div>"
      ],
      "text/plain": [
       "              ACTUAL_END_DATE\n",
       "REGISTRY_ID                  \n",
       "1.100004e+11           2014.0\n",
       "1.100123e+11           2014.0\n",
       "1.100589e+11           2014.0\n",
       "1.100589e+11           2013.0\n",
       "1.100449e+11           2013.0\n",
       "...                       ...\n",
       "1.100004e+11           2008.0\n",
       "1.100069e+11           2008.0\n",
       "1.100098e+11           2014.0\n",
       "NaN                    2007.0\n",
       "NaN                    2009.0\n",
       "\n",
       "[20126 rows x 1 columns]"
      ]
     },
     "execution_count": 28,
     "metadata": {},
     "output_type": "execute_result"
    }
   ],
   "source": [
    "import datetime\n",
    "\n",
    "format_str = '%m/%d/%Y' # The format\n",
    "nan_count = 0\n",
    "year_col = []\n",
    "for day in icis_data['ACTUAL_END_DATE']:\n",
    "    try:\n",
    "        # breakpoint()\n",
    "        viol_year = datetime.datetime.strptime(day, format_str).year\n",
    "        year_col.append( viol_year )\n",
    "    except:\n",
    "        nan_count += 1\n",
    "        year_col.append(  np.NaN )\n",
    "icis_data['ACTUAL_END_DATE'] = year_col\n",
    "icis_data"
   ]
  },
  {
   "cell_type": "code",
   "execution_count": 29,
   "metadata": {},
   "outputs": [
    {
     "name": "stdout",
     "output_type": "stream",
     "text": [
      "                 ACTUAL_END_DATE\n",
      "ACTUAL_END_DATE                 \n",
      "1998.0                         1\n",
      "1999.0                         2\n",
      "2000.0                         6\n",
      "2001.0                        35\n",
      "2002.0                       207\n",
      "2003.0                       746\n",
      "2004.0                      1670\n",
      "2005.0                      1674\n",
      "2006.0                      1465\n",
      "2007.0                      1718\n",
      "2008.0                      1586\n",
      "2009.0                      1630\n",
      "2010.0                      1369\n",
      "2011.0                      1264\n",
      "2012.0                      1297\n",
      "2013.0                       833\n",
      "2014.0                       904\n",
      "2015.0                       760\n",
      "2016.0                       736\n",
      "2017.0                       638\n",
      "2018.0                       636\n",
      "2019.0                       518\n",
      "2020.0                       120\n"
     ]
    },
    {
     "data": {
      "image/png": "[encoded data removed]",
      "text/plain": [
       "<Figure size 1080x720 with 1 Axes>"
      ]
     },
     "metadata": {
      "needs_background": "light"
     },
     "output_type": "display_data"
    }
   ],
   "source": [
    "year_groups = icis_data.groupby(\"ACTUAL_END_DATE\")[[\"ACTUAL_END_DATE\"]]\n",
    "counted_years = year_groups.count()\n",
    "\n",
    "# Print how many values are present \n",
    "print(counted_years)\n",
    "chart_title = \"Total inspections in \" + my_state + \" by year\"\n",
    "\n",
    "ax = counted_years[['ACTUAL_END_DATE']].plot(kind='bar', title = chart_title, figsize=(15, 10), legend=False, fontsize=12)\n",
    "ax.set_xlabel(\"Year\", fontsize=12)\n",
    "ax.set_ylabel(\"Count\", fontsize=12)\n",
    "plt.show()\n",
    "\n"
   ]
  },
  {
   "cell_type": "code",
   "execution_count": null,
   "metadata": {},
   "outputs": [],
   "source": []
  }
 ],
 "metadata": {
  "kernelspec": {
   "display_name": "Python 3.7.5 64-bit ('base': conda)",
   "language": "python",
   "name": "python37564bitbaseconda7071e98414dd4b3880bf69a85f4101b4"
  },
  "language_info": {
   "codemirror_mode": {
    "name": "ipython",
    "version": 3
   },
   "file_extension": ".py",
   "mimetype": "text/x-python",
   "name": "python",
   "nbconvert_exporter": "python",
   "pygments_lexer": "ipython3",
   "version": "3.7.6"
  }
 },
 "nbformat": 4,
 "nbformat_minor": 4
}
