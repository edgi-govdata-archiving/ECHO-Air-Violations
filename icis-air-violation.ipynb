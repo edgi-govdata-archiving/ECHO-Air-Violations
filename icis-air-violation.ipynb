{
 "cells": [
  {
   "cell_type": "markdown",
   "metadata": {},
   "source": [
    "Note:  For now the code cells must be opened for the dropdown lists to work correctly."
   ]
  },
  {
   "cell_type": "code",
   "execution_count": 34,
   "metadata": {},
   "outputs": [
    {
     "data": {
      "text/html": [
       "<script>\n",
       "code_show=true; \n",
       "function code_toggle() {\n",
       " if (code_show){\n",
       " $('div.input').hide();\n",
       " } else {\n",
       " $('div.input').show();\n",
       " }\n",
       " code_show = !code_show\n",
       "} \n",
       "$( document ).ready(code_toggle);\n",
       "</script>\n",
       "<form action=\"javascript:code_toggle()\"><input type=\"submit\" value=\"Click here to toggle on/off the raw code.\"></form>"
      ],
      "text/plain": [
       "<IPython.core.display.HTML object>"
      ]
     },
     "execution_count": 34,
     "metadata": {},
     "output_type": "execute_result"
    }
   ],
   "source": [
    "from IPython.display import HTML\n",
    "\n",
    "HTML('''<script>\n",
    "code_show=true; \n",
    "function code_toggle() {\n",
    " if (code_show){\n",
    " $('div.input').hide();\n",
    " } else {\n",
    " $('div.input').show();\n",
    " }\n",
    " code_show = !code_show\n",
    "} \n",
    "$( document ).ready(code_toggle);\n",
    "</script>\n",
    "<form action=\"javascript:code_toggle()\"><input type=\"submit\" value=\"Click here to toggle on/off the raw code.\"></form>''')"
   ]
  },
  {
   "cell_type": "markdown",
   "metadata": {},
   "source": [
    "## Clean Air Act Violations and Enforcement by Congressional District\n",
    "\n",
    "This notebook examines ECHO data using ICIS-AIR_VIOLATION_HISTORY.\n",
    "The HPV_DAYZERO_DATE reporting the start date of every episode of \n",
    "High Priority Violation (HPV) is used.  The PGM_SYS_ID facility\n",
    "identifier is linked to the ECHO_EXPORTER table's \n",
    "\n",
    "A state and congressional district must be chosen using the dropdown\n",
    "widgets that are provided."
   ]
  },
  {
   "cell_type": "code",
   "execution_count": 1,
   "metadata": {},
   "outputs": [],
   "source": [
    "# Import libraries\n",
    "import urllib.parse\n",
    "import pandas as pd\n",
    "import numpy as np\n",
    "import matplotlib.pyplot as plt\n",
    "%matplotlib inline\n",
    "import folium\n",
    "\n",
    "from ipywidgets import interact, interactive, fixed, interact_manual\n",
    "import ipywidgets as widgets\n",
    "from IPython.display import display\n"
   ]
  },
  {
   "cell_type": "code",
   "execution_count": 2,
   "metadata": {},
   "outputs": [
    {
     "name": "stdout",
     "output_type": "stream",
     "text": [
      "select FAC_NAME, FAC_STATE, FAC_LAT, FAC_LONG, AIR_IDS, FAC_DERIVED_CD113 from ECHO_EXPORTER where AIR_FLAG = 'Y'\n",
      "http://apps.tlt.stonybrook.edu/echoepa/?query=select%20FAC_NAME%2C%20FAC_STATE%2C%20FAC_LAT%2C%20FAC_LONG%2C%20AIR_IDS%2C%20FAC_DERIVED_CD113%20from%20ECHO_EXPORTER%20where%20AIR_FLAG%20%3D%20%27Y%27\n"
     ]
    }
   ],
   "source": [
    "#data_location = \"https://github.com/edgi-govdata-archiving/echo-data/blob/master/ECHO_EXPORTER.csv?raw=true\" # Where the ECHO data is saved\n",
    "#sql=\"SELECT * FROM ECHO_EXPORTER as e,`ICIS-AIR_FACILITIES` as f,`ICIS-AIR_VIOLATION_HISTORY` as h  where  e.FAC_ZIP=f.ZIP_CODE and f.PGM_SYS_ID=h.PGM_SYS_ID and f.ZIP_CODE=%s\" %(my_zip)\n",
    "#sql='show tables'  \n",
    "#sql= 'show columns from `ECHO_EXPORTER` '\n",
    "\n",
    "sql = \"select FAC_NAME, FAC_STATE, FAC_LAT, FAC_LONG, AIR_IDS, FAC_DERIVED_CD113 from ECHO_EXPORTER where AIR_FLAG = 'Y'\"\n",
    "url='http://apps.tlt.stonybrook.edu/echoepa/?query='\n",
    "data_location=url+urllib.parse.quote(sql)\n",
    "print(sql)\n",
    "print(data_location)\n"
   ]
  },
  {
   "cell_type": "code",
   "execution_count": 3,
   "metadata": {
    "scrolled": false
   },
   "outputs": [],
   "source": [
    "\n",
    "echo_data = pd.read_csv(data_location,encoding='iso-8859-1',header = 0)\n",
    "\n",
    "# local_data_location = \"../../ICIS_Air_Violation/ECHO_EXPORTER-Air.csv\"\n",
    "# echo_data = pd.read_csv(local_data_location,encoding='iso-8859-1',header = 0)\n"
   ]
  },
  {
   "cell_type": "code",
   "execution_count": 4,
   "metadata": {},
   "outputs": [
    {
     "data": {
      "application/vnd.jupyter.widget-view+json": {
       "model_id": "4ea7ce00a9c8440a9e926bd2cd43aba8",
       "version_major": 2,
       "version_minor": 0
      },
      "text/plain": [
       "Dropdown(description='State:', options=('all', 'AL', 'AK', 'AZ', 'AR', 'CA', 'CO', 'CT', 'DC', 'DE', 'FL', 'GA…"
      ]
     },
     "metadata": {},
     "output_type": "display_data"
    }
   ],
   "source": [
    "states = [\"all\", \"AL\", \"AK\", \"AZ\", \"AR\", \"CA\", \"CO\", \"CT\", \"DC\", \"DE\", \"FL\", \"GA\", \n",
    "          \"HI\", \"ID\", \"IL\", \"IN\", \"IA\", \"KS\", \"KY\", \"LA\", \"ME\", \"MD\", \n",
    "          \"MA\", \"MI\", \"MN\", \"MS\", \"MO\", \"MT\", \"NE\", \"NV\", \"NH\", \"NJ\", \n",
    "          \"NM\", \"NY\", \"NC\", \"ND\", \"OH\", \"OK\", \"OR\", \"PA\", \"RI\", \"SC\", \n",
    "          \"SD\", \"TN\", \"TX\", \"UT\", \"VT\", \"VA\", \"WA\", \"WV\", \"WI\", \"WY\"]\n",
    "dropdown_state=widgets.Dropdown(\n",
    "    options=states,\n",
    "    value='all',\n",
    "    description='State:',\n",
    "    disabled=False,\n",
    ")\n",
    "output_state = widgets.Output()\n",
    "my_state = \"\"\n",
    "\n",
    "def dropdown_state_eventhandler( change ):\n",
    "    output_state.clear_output()\n",
    "    value = change.new\n",
    "    with output_state:\n",
    "        display( change.new )\n",
    "        # if ( change.new == \"all\" ):\n",
    "        #     display( echo_data )\n",
    "        # else:\n",
    "        #     display( echo_data[echo_data[\"FAC_STATE\"] == change.new] )\n",
    "            \n",
    "dropdown_state.observe( dropdown_state_eventhandler, names='value')\n",
    "display( dropdown_state )"
   ]
  },
  {
   "cell_type": "code",
   "execution_count": 55,
   "metadata": {},
   "outputs": [
    {
     "name": "stdout",
     "output_type": "stream",
     "text": [
      "There are 839 ICIS facilities in WA tracked in the ECHO database.\n"
     ]
    }
   ],
   "source": [
    "my_state = dropdown_state.value\n",
    "my_state_facs = echo_data[echo_data[\"FAC_STATE\"] == my_state]\n",
    "\n",
    "num_facilities = my_state_facs.shape[0]\n",
    "print(\"There are %s ICIS facilities in %s tracked in the ECHO database.\" %(num_facilities, my_state))"
   ]
  },
  {
   "cell_type": "code",
   "execution_count": 56,
   "metadata": {},
   "outputs": [
    {
     "data": {
      "application/vnd.jupyter.widget-view+json": {
       "model_id": "ecce2cfcbe1e47a2bfcd2585c2203571",
       "version_major": 2,
       "version_minor": 0
      },
      "text/plain": [
       "Dropdown(description='Congressional Districts:', options=(0, 1, 2, 3, 4, 5, 6, 7, 8, 9, 10), value=0)"
      ]
     },
     "metadata": {},
     "output_type": "display_data"
    }
   ],
   "source": [
    "if (( my_state != 'none' ) & (my_state != 'all' )):\n",
    "    cd_array = my_state_facs[\"FAC_DERIVED_CD113\"].fillna(0).astype(int).unique()\n",
    "    cd_array.sort()\n",
    "    w2=widgets.Dropdown(\n",
    "        options=cd_array,\n",
    "        value=0,\n",
    "        description='Congressional Districts:',\n",
    "        disabled=False,\n",
    "    )\n",
    "    display(w2)"
   ]
  },
  {
   "cell_type": "code",
   "execution_count": 67,
   "metadata": {},
   "outputs": [
    {
     "name": "stdout",
     "output_type": "stream",
     "text": [
      "There are 81 ICIS facilities in WA district 2 tracked in the ECHO database.\n"
     ]
    }
   ],
   "source": [
    "my_cd = w2.value\n",
    "my_cd_facs = my_state_facs[my_state_facs[\"FAC_DERIVED_CD113\"].fillna(0).astype(int) == my_cd]\n",
    "num_facilities = my_cd_facs.shape[0]    \n",
    "print(\"There are %s ICIS facilities in %s district %s tracked in the ECHO database.\" %(num_facilities, my_state, my_cd))"
   ]
  },
  {
   "cell_type": "markdown",
   "metadata": {},
   "source": [
    "Next look up the compliance history for the facilities in the selected\n",
    "state and congressional district.  This step may take awhile."
   ]
  },
  {
   "cell_type": "code",
   "execution_count": 68,
   "metadata": {},
   "outputs": [],
   "source": [
    "sql = \"select PGM_SYS_ID, HPV_DAYZERO_DATE, POLLUTANT_DESCS, AGENCY_TYPE_DESC from `ICIS-AIR_VIOLATION_HISTORY` where STATE_CODE='\" + my_state + \"'\"\n",
    "url='http://apps.tlt.stonybrook.edu/echoepa/?query='\n",
    "data_location=url+urllib.parse.quote(sql)\n",
    "\n",
    "icis_data = pd.read_csv(data_location,encoding='iso-8859-1',header = 0)\n",
    "icis_data.set_index( \"PGM_SYS_ID\", inplace=True)\n"
   ]
  },
  {
   "cell_type": "code",
   "execution_count": 69,
   "metadata": {
    "scrolled": true
   },
   "outputs": [
    {
     "name": "stderr",
     "output_type": "stream",
     "text": [
      "/home/steve/anaconda3/lib/python3.7/site-packages/ipykernel_launcher.py:21: SettingWithCopyWarning: \n",
      "A value is trying to be set on a copy of a slice from a DataFrame.\n",
      "Try using .loc[row_indexer,col_indexer] = value instead\n",
      "\n",
      "See the caveats in the documentation: https://pandas.pydata.org/pandas-docs/stable/user_guide/indexing.html#returning-a-view-versus-a-copy\n"
     ]
    }
   ],
   "source": [
    "# The AIR_IDS can contain multiple ids for a facility. \n",
    "# The string must be parsed to get each individual id to look up in ICIS-AIR_VIOLATION_HISTORY.\n",
    "\n",
    "my_cd_icis = pd.DataFrame()\n",
    "no_data_ids = []\n",
    "# Look through all facilities in my CD.\n",
    "for fac in my_cd_facs.itertuples():\n",
    "    # print( type( fac ))\n",
    "    # breakpoint()\n",
    "    ids = fac.AIR_IDS\n",
    "    # Look at each AIR_ID belonging to the facility\n",
    "    for air_id in ids.split():\n",
    "        try:\n",
    "            # Find the air_id in the ICIS-AIR_VIOLATION_HISTORY, if any exist there.\n",
    "            # It can match a PGM_SYS_ID, which is the index of icis_data.\n",
    "            air_data = icis_data.loc[ air_id ]\n",
    "            # Add the facility's index number to air_data, to refer to it.\n",
    "            # (Generates a SettingWithCopyWarning?)\n",
    "            n = air_data.shape[0]\n",
    "            fac_list = [fac.Index] * n\n",
    "            air_data['facility'] = fac_list\n",
    "            # Make a frame that contains the violations.  Add it to my_cd_icis.\n",
    "            frames = [my_cd_icis, air_data]\n",
    "            my_cd_icis = pd.concat( frames, ignore_index=False )\n",
    "        except KeyError:\n",
    "            # The air_id wasn't found in ICIS-AIR_VIOLATION_HISTORY.\n",
    "            no_data_ids.append( air_id )\n",
    " \n",
    "my_cd_icis.to_csv( r'my_cd_icis.csv', index=True, header=True )\n",
    "# with open( \"no_data_ids.txt\", \"w\" ) as output:\n",
    "#     output.write( str( no_data_ids ))"
   ]
  },
  {
   "cell_type": "markdown",
   "metadata": {},
   "source": [
    "Map the facilities that have had these serious CAA violations."
   ]
  },
  {
   "cell_type": "code",
   "execution_count": 70,
   "metadata": {},
   "outputs": [],
   "source": [
    "fac_idx_list = my_cd_icis['facility'].dropna()\n",
    "fac_cd_icis = my_cd_facs.loc[fac_idx_list]"
   ]
  },
  {
   "cell_type": "code",
   "execution_count": 71,
   "metadata": {},
   "outputs": [
    {
     "data": {
      "text/html": [
       "<div style=\"width:100%;\"><div style=\"position:relative;width:100%;height:0;padding-bottom:60%;\"><iframe src=\"data:text/html;charset=utf-8;base64,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\" style=\"position:absolute;width:100%;height:100%;left:0;top:0;border:none !important;\" allowfullscreen webkitallowfullscreen mozallowfullscreen></iframe></div></div>"
      ],
      "text/plain": [
       "<folium.folium.Map at 0x7ff4b324b150>"
      ]
     },
     "execution_count": 71,
     "metadata": {},
     "output_type": "execute_result"
    }
   ],
   "source": [
    "# Let's show a quick map of your area and the facilities in it\n",
    "\n",
    "def mapper(df):\n",
    "    # Initialize the map\n",
    "    m = folium.Map(\n",
    "        location = [df.mean()[\"FAC_LAT\"], df.mean()[\"FAC_LONG\"]],\n",
    "        zoom_start = 11\n",
    "    )\n",
    "\n",
    "    # Add a clickable marker for each facility\n",
    "    for index, row in df.iterrows():\n",
    "        folium.Marker(\n",
    "            location = [row[\"FAC_LAT\"], row[\"FAC_LONG\"]],\n",
    "            popup = row[\"FAC_NAME\"] ).add_to(m)\n",
    "\n",
    "    # Show the map\n",
    "    return m\n",
    "\n",
    "map_of_facilities_in_my_area = mapper(fac_cd_icis)\n",
    "map_of_facilities_in_my_area"
   ]
  },
  {
   "cell_type": "markdown",
   "metadata": {},
   "source": [
    "Present another dropdown with the list of names of the facilities.  Choosing a facility will display\n",
    "the violations."
   ]
  },
  {
   "cell_type": "code",
   "execution_count": 72,
   "metadata": {},
   "outputs": [
    {
     "data": {
      "text/plain": [
       "array(['ANDEAVOR ANACORTES REFINERY',\n",
       "       'AVIATION TECHNICAL SERVICES HANGAR 1', 'BAYLINER MARINE SITE',\n",
       "       'BOEING COMMERCIAL AIRPLANE GROUP EVERETT', 'CHEMTRADE',\n",
       "       'ENCOGEN NORTHWEST COGENERATION PLANT',\n",
       "       'FREDONIA GENERATING STATION', 'KIMBERLY CLARK EVERETT MILL SITE',\n",
       "       'MARCH POINT COGENERATION SITE',\n",
       "       'NAVAL AIR STATION WHIDBEY ISLAND', 'PACIFIC WOODTECH',\n",
       "       'SHELL OIL PRODUCTS US PUGET SOUND REFINERY',\n",
       "       'SIERRA PACIFIC INDUSTRIES'], dtype=object)"
      ]
     },
     "execution_count": 72,
     "metadata": {},
     "output_type": "execute_result"
    }
   ],
   "source": [
    "cd_array = fac_cd_icis[\"FAC_NAME\"].unique()\n",
    "cd_array.sort()\n",
    "cd_array\n"
   ]
  },
  {
   "cell_type": "code",
   "execution_count": 73,
   "metadata": {},
   "outputs": [
    {
     "data": {
      "application/vnd.jupyter.widget-view+json": {
       "model_id": "7c0d0a3fe3e64042b64a86864ff735c1",
       "version_major": 2,
       "version_minor": 0
      },
      "text/plain": [
       "Dropdown(description='Facility Name:', options=('ANDEAVOR ANACORTES REFINERY', 'AVIATION TECHNICAL SERVICES HA…"
      ]
     },
     "metadata": {},
     "output_type": "display_data"
    }
   ],
   "source": [
    "w3=widgets.Dropdown(\n",
    "    options=cd_array,\n",
    "    description='Facility Name:',\n",
    "    disabled=False,\n",
    ")\n",
    "display(w3)"
   ]
  },
  {
   "cell_type": "code",
   "execution_count": 106,
   "metadata": {},
   "outputs": [
    {
     "data": {
      "text/html": [
       "<div>\n",
       "<style scoped>\n",
       "    .dataframe tbody tr th:only-of-type {\n",
       "        vertical-align: middle;\n",
       "    }\n",
       "\n",
       "    .dataframe tbody tr th {\n",
       "        vertical-align: top;\n",
       "    }\n",
       "\n",
       "    .dataframe thead th {\n",
       "        text-align: right;\n",
       "    }\n",
       "</style>\n",
       "<table border=\"1\" class=\"dataframe\">\n",
       "  <thead>\n",
       "    <tr style=\"text-align: right;\">\n",
       "      <th></th>\n",
       "      <th>0</th>\n",
       "      <th>AGENCY_TYPE_DESC</th>\n",
       "      <th>HPV_DAYZERO_DATE</th>\n",
       "      <th>POLLUTANT_DESCS</th>\n",
       "      <th>facility</th>\n",
       "      <th>HPV_DAYZERO_YEAR</th>\n",
       "    </tr>\n",
       "  </thead>\n",
       "  <tbody>\n",
       "    <tr>\n",
       "      <th>WANCA0005307300032</th>\n",
       "      <td>NaN</td>\n",
       "      <td>Local</td>\n",
       "      <td>05-16-2005</td>\n",
       "      <td>NITROGEN OXIDES NO2</td>\n",
       "      <td>11191.0</td>\n",
       "      <td>2005.0</td>\n",
       "    </tr>\n",
       "    <tr>\n",
       "      <th>WANCA0005307300032</th>\n",
       "      <td>NaN</td>\n",
       "      <td>Local</td>\n",
       "      <td>07-27-2007</td>\n",
       "      <td>Ammonia</td>\n",
       "      <td>11191.0</td>\n",
       "      <td>2007.0</td>\n",
       "    </tr>\n",
       "    <tr>\n",
       "      <th>WANCA0005307300032</th>\n",
       "      <td>NaN</td>\n",
       "      <td>Local</td>\n",
       "      <td>NaN</td>\n",
       "      <td>NaN</td>\n",
       "      <td>11191.0</td>\n",
       "      <td>NaN</td>\n",
       "    </tr>\n",
       "  </tbody>\n",
       "</table>\n",
       "</div>"
      ],
      "text/plain": [
       "                      0 AGENCY_TYPE_DESC HPV_DAYZERO_DATE  \\\n",
       "WANCA0005307300032  NaN            Local       05-16-2005   \n",
       "WANCA0005307300032  NaN            Local       07-27-2007   \n",
       "WANCA0005307300032  NaN            Local              NaN   \n",
       "\n",
       "                        POLLUTANT_DESCS  facility  HPV_DAYZERO_YEAR  \n",
       "WANCA0005307300032  NITROGEN OXIDES NO2   11191.0            2005.0  \n",
       "WANCA0005307300032              Ammonia   11191.0            2007.0  \n",
       "WANCA0005307300032                  NaN   11191.0               NaN  "
      ]
     },
     "execution_count": 106,
     "metadata": {},
     "output_type": "execute_result"
    }
   ],
   "source": [
    "my_fac = fac_cd_icis[fac_cd_icis[\"FAC_NAME\"] == w3.value]\n",
    "my_violations = my_cd_icis[my_cd_icis['facility'] == my_fac.iloc[[0]].index[0]]\n",
    "my_violations\n"
   ]
  },
  {
   "cell_type": "markdown",
   "metadata": {},
   "source": [
    "## Plot the number of violations by year, using the entire state.\n",
    "For this we can use the statewide numbers, as they will be small for individual districts."
   ]
  },
  {
   "cell_type": "code",
   "execution_count": 87,
   "metadata": {},
   "outputs": [
    {
     "data": {
      "text/html": [
       "<div>\n",
       "<style scoped>\n",
       "    .dataframe tbody tr th:only-of-type {\n",
       "        vertical-align: middle;\n",
       "    }\n",
       "\n",
       "    .dataframe tbody tr th {\n",
       "        vertical-align: top;\n",
       "    }\n",
       "\n",
       "    .dataframe thead th {\n",
       "        text-align: right;\n",
       "    }\n",
       "</style>\n",
       "<table border=\"1\" class=\"dataframe\">\n",
       "  <thead>\n",
       "    <tr style=\"text-align: right;\">\n",
       "      <th></th>\n",
       "      <th>HPV_DAYZERO_DATE</th>\n",
       "      <th>POLLUTANT_DESCS</th>\n",
       "      <th>AGENCY_TYPE_DESC</th>\n",
       "      <th>HPV_DAYZERO_YEAR</th>\n",
       "    </tr>\n",
       "    <tr>\n",
       "      <th>PGM_SYS_ID</th>\n",
       "      <th></th>\n",
       "      <th></th>\n",
       "      <th></th>\n",
       "      <th></th>\n",
       "    </tr>\n",
       "  </thead>\n",
       "  <tbody>\n",
       "    <tr>\n",
       "      <th>WANCA0005307310007</th>\n",
       "      <td>07-23-1997</td>\n",
       "      <td>NaN</td>\n",
       "      <td>Local</td>\n",
       "      <td>1997.0</td>\n",
       "    </tr>\n",
       "    <tr>\n",
       "      <th>WANCA0005307310007</th>\n",
       "      <td>10-28-1998</td>\n",
       "      <td>NaN</td>\n",
       "      <td>Local</td>\n",
       "      <td>1998.0</td>\n",
       "    </tr>\n",
       "    <tr>\n",
       "      <th>WANCA0005307310007</th>\n",
       "      <td>10-28-1998</td>\n",
       "      <td>NaN</td>\n",
       "      <td>Local</td>\n",
       "      <td>1998.0</td>\n",
       "    </tr>\n",
       "    <tr>\n",
       "      <th>WANCA0005307310007</th>\n",
       "      <td>10-19-2005</td>\n",
       "      <td>NITROGEN OXIDES NO</td>\n",
       "      <td>Local</td>\n",
       "      <td>2005.0</td>\n",
       "    </tr>\n",
       "    <tr>\n",
       "      <th>WANCA0005307310007</th>\n",
       "      <td>12-14-2005</td>\n",
       "      <td>Hydrogen sulfide</td>\n",
       "      <td>Local</td>\n",
       "      <td>2005.0</td>\n",
       "    </tr>\n",
       "    <tr>\n",
       "      <th>...</th>\n",
       "      <td>...</td>\n",
       "      <td>...</td>\n",
       "      <td>...</td>\n",
       "      <td>...</td>\n",
       "    </tr>\n",
       "    <tr>\n",
       "      <th>WASPC0005306310033</th>\n",
       "      <td>09-08-2006</td>\n",
       "      <td>Sodium cyanide</td>\n",
       "      <td>Local</td>\n",
       "      <td>2006.0</td>\n",
       "    </tr>\n",
       "    <tr>\n",
       "      <th>WAPSC0000000010126</th>\n",
       "      <td>03-19-2019</td>\n",
       "      <td>Sulfur dioxide</td>\n",
       "      <td>Local</td>\n",
       "      <td>2019.0</td>\n",
       "    </tr>\n",
       "    <tr>\n",
       "      <th>WASWC0005301500148</th>\n",
       "      <td>NaN</td>\n",
       "      <td>NaN</td>\n",
       "      <td>Local</td>\n",
       "      <td>NaN</td>\n",
       "    </tr>\n",
       "    <tr>\n",
       "      <th>WASWC0005301500148</th>\n",
       "      <td>NaN</td>\n",
       "      <td>Chlorine</td>\n",
       "      <td>Local</td>\n",
       "      <td>NaN</td>\n",
       "    </tr>\n",
       "    <tr>\n",
       "      <th>WAORC005302700058</th>\n",
       "      <td>10-29-2019</td>\n",
       "      <td>VOLATILE ORGANIC COMPOUNDS (VOCS)</td>\n",
       "      <td>Local</td>\n",
       "      <td>2019.0</td>\n",
       "    </tr>\n",
       "  </tbody>\n",
       "</table>\n",
       "<p>750 rows × 4 columns</p>\n",
       "</div>"
      ],
      "text/plain": [
       "                   HPV_DAYZERO_DATE                    POLLUTANT_DESCS  \\\n",
       "PGM_SYS_ID                                                               \n",
       "WANCA0005307310007       07-23-1997                                NaN   \n",
       "WANCA0005307310007       10-28-1998                                NaN   \n",
       "WANCA0005307310007       10-28-1998                                NaN   \n",
       "WANCA0005307310007       10-19-2005                 NITROGEN OXIDES NO   \n",
       "WANCA0005307310007       12-14-2005                   Hydrogen sulfide   \n",
       "...                             ...                                ...   \n",
       "WASPC0005306310033       09-08-2006                     Sodium cyanide   \n",
       "WAPSC0000000010126       03-19-2019                     Sulfur dioxide   \n",
       "WASWC0005301500148              NaN                                NaN   \n",
       "WASWC0005301500148              NaN                           Chlorine   \n",
       "WAORC005302700058        10-29-2019  VOLATILE ORGANIC COMPOUNDS (VOCS)   \n",
       "\n",
       "                   AGENCY_TYPE_DESC  HPV_DAYZERO_YEAR  \n",
       "PGM_SYS_ID                                             \n",
       "WANCA0005307310007            Local            1997.0  \n",
       "WANCA0005307310007            Local            1998.0  \n",
       "WANCA0005307310007            Local            1998.0  \n",
       "WANCA0005307310007            Local            2005.0  \n",
       "WANCA0005307310007            Local            2005.0  \n",
       "...                             ...               ...  \n",
       "WASPC0005306310033            Local            2006.0  \n",
       "WAPSC0000000010126            Local            2019.0  \n",
       "WASWC0005301500148            Local               NaN  \n",
       "WASWC0005301500148            Local               NaN  \n",
       "WAORC005302700058             Local            2019.0  \n",
       "\n",
       "[750 rows x 4 columns]"
      ]
     },
     "execution_count": 87,
     "metadata": {},
     "output_type": "execute_result"
    }
   ],
   "source": [
    "import datetime\n",
    "\n",
    "format_str = '%m-%d-%Y' # The format\n",
    "nan_count = 0\n",
    "year_col = []\n",
    "for day in icis_data['HPV_DAYZERO_DATE']:\n",
    "    try:\n",
    "        viol_year = datetime.datetime.strptime(day, format_str).year\n",
    "        year_col.append( viol_year )\n",
    "    except:\n",
    "        nan_count += 1\n",
    "        year_col.append(  np.NaN )\n",
    "icis_data['HPV_DAYZERO_YEAR'] = year_col\n",
    "icis_data"
   ]
  },
  {
   "cell_type": "code",
   "execution_count": 104,
   "metadata": {},
   "outputs": [
    {
     "name": "stdout",
     "output_type": "stream",
     "text": [
      "                  HPV_DAYZERO_DATE\n",
      "HPV_DAYZERO_YEAR                  \n",
      "1992.0                           2\n",
      "1993.0                           3\n",
      "1994.0                           7\n",
      "1995.0                           4\n",
      "1996.0                          10\n",
      "1997.0                          55\n",
      "1998.0                          78\n",
      "1999.0                          49\n",
      "2000.0                          57\n",
      "2001.0                          22\n",
      "2002.0                          25\n",
      "2003.0                          31\n",
      "2004.0                          24\n",
      "2005.0                          25\n",
      "2006.0                          21\n",
      "2007.0                          24\n",
      "2008.0                          24\n",
      "2009.0                          15\n",
      "2010.0                          11\n",
      "2011.0                          15\n",
      "2012.0                          16\n",
      "2013.0                           5\n",
      "2014.0                           4\n",
      "2015.0                           8\n",
      "2016.0                          10\n",
      "2017.0                           4\n",
      "2018.0                           8\n",
      "2019.0                           7\n"
     ]
    },
    {
     "data": {
      "image/png": "[encoded data removed]",
      "text/plain": [
       "<Figure size 1080x720 with 1 Axes>"
      ]
     },
     "metadata": {
      "needs_background": "light"
     },
     "output_type": "display_data"
    }
   ],
   "source": [
    "year_groups = icis_data.groupby(\"HPV_DAYZERO_YEAR\")[[\"HPV_DAYZERO_DATE\"]]\n",
    "counted_years = year_groups.count()\n",
    "\n",
    "# Print how many values are present \n",
    "print(counted_years)\n",
    "chart_title = \"Total violations in \" + my_state + \" by year\"\n",
    "\n",
    "ax = counted_years[['HPV_DAYZERO_DATE']].plot(kind='bar', title = chart_title, figsize=(15, 10), legend=False, fontsize=12)\n",
    "ax.set_xlabel(\"Year\", fontsize=12)\n",
    "ax.set_ylabel(\"Count\", fontsize=12)\n",
    "plt.show()\n",
    "\n"
   ]
  }
 ],
 "metadata": {
  "kernelspec": {
   "display_name": "Python 3.7.5 64-bit ('base': conda)",
   "language": "python",
   "name": "python37564bitbaseconda7071e98414dd4b3880bf69a85f4101b4"
  },
  "language_info": {
   "codemirror_mode": {
    "name": "ipython",
    "version": 3
   },
   "file_extension": ".py",
   "mimetype": "text/x-python",
   "name": "python",
   "nbconvert_exporter": "python",
   "pygments_lexer": "ipython3",
   "version": "3.7.6"
  }
 },
 "nbformat": 4,
 "nbformat_minor": 4
}
